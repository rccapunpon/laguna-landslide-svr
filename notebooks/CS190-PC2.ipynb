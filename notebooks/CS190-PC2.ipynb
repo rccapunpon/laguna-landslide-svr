{
 "cells": [
  {
   "cell_type": "markdown",
   "metadata": {},
   "source": [
    "<h1> Using SVR on Landslide Susceptibility Mapping using GIS and Map Data </h1>"
   ]
  },
  {
   "cell_type": "code",
   "execution_count": 2,
   "metadata": {},
   "outputs": [],
   "source": [
    "import numpy as np\n",
    "import pandas as pd\n",
    "import json\n",
    "from sklearn import preprocessing"
   ]
  },
  {
   "cell_type": "code",
   "execution_count": 2,
   "metadata": {},
   "outputs": [],
   "source": [
    "import utm\n",
    "\n",
    "def getLatLonCoordsByPoint(point):\n",
    "    xy = point.split('/')\n",
    "    return getLatLonCoords(float(xy[0]), float(xy[1]))\n",
    "\n",
    "def getLatLonCoords(x, y):\n",
    "    return utm.to_latlon(x, y, 51, 'N')"
   ]
  },
  {
   "cell_type": "code",
   "execution_count": null,
   "metadata": {},
   "outputs": [],
   "source": []
  },
  {
   "cell_type": "markdown",
   "metadata": {},
   "source": [
    "<h2>Import Land Features CSVs</h2>"
   ]
  },
  {
   "cell_type": "code",
   "execution_count": 3,
   "metadata": {},
   "outputs": [],
   "source": [
    "sample = pd.read_csv(\"Features - Elev - Slope - QSlope - Aspect - TRI.csv\")"
   ]
  },
  {
   "cell_type": "code",
   "execution_count": 4,
   "metadata": {},
   "outputs": [],
   "source": [
    "land_cover = pd.read_csv(\"FE with Land Cover.csv\")"
   ]
  },
  {
   "cell_type": "code",
   "execution_count": 5,
   "metadata": {},
   "outputs": [
    {
     "name": "stderr",
     "output_type": "stream",
     "text": [
      "c:\\program files (x86)\\python38-32\\lib\\site-packages\\IPython\\core\\interactiveshell.py:3057: DtypeWarning: Columns (5) have mixed types. Specify dtype option on import or set low_memory=False.\n",
      "  has_raised = await self.run_ast_nodes(code_ast.body, cell_name,\n"
     ]
    }
   ],
   "source": [
    "land_use = pd.read_csv(\"FE with Land Use.csv\")"
   ]
  },
  {
   "cell_type": "code",
   "execution_count": 6,
   "metadata": {},
   "outputs": [],
   "source": [
    "# land_type = pd.read_csv(\"FE with Geology.csv\")"
   ]
  },
  {
   "cell_type": "code",
   "execution_count": 7,
   "metadata": {},
   "outputs": [
    {
     "name": "stderr",
     "output_type": "stream",
     "text": [
      "c:\\program files (x86)\\python38-32\\lib\\site-packages\\IPython\\core\\interactiveshell.py:3057: DtypeWarning: Columns (8) have mixed types. Specify dtype option on import or set low_memory=False.\n",
      "  has_raised = await self.run_ast_nodes(code_ast.body, cell_name,\n"
     ]
    }
   ],
   "source": [
    "soil_type = pd.read_csv(\"FE with Phil Soil Type.csv\")"
   ]
  },
  {
   "cell_type": "code",
   "execution_count": 8,
   "metadata": {},
   "outputs": [],
   "source": [
    "distance_from_water_ways = pd.read_csv(\"Distance from Water Ways.csv\")"
   ]
  },
  {
   "cell_type": "code",
   "execution_count": 9,
   "metadata": {},
   "outputs": [],
   "source": [
    "distance_from_faults = pd.read_csv(\"Distance from Fault.csv\")"
   ]
  },
  {
   "cell_type": "code",
   "execution_count": 10,
   "metadata": {},
   "outputs": [
    {
     "name": "stderr",
     "output_type": "stream",
     "text": [
      "c:\\program files (x86)\\python38-32\\lib\\site-packages\\IPython\\core\\interactiveshell.py:3057: DtypeWarning: Columns (4,7) have mixed types. Specify dtype option on import or set low_memory=False.\n",
      "  has_raised = await self.run_ast_nodes(code_ast.body, cell_name,\n"
     ]
    }
   ],
   "source": [
    "earthquake_ls = pd.read_csv(\"FE Earthquake induced landslide.csv\")"
   ]
  },
  {
   "cell_type": "code",
   "execution_count": 11,
   "metadata": {},
   "outputs": [],
   "source": [
    "rain_liq_ls = pd.read_csv(\"Liquefaction and Rain Induced.csv\")"
   ]
  },
  {
   "cell_type": "code",
   "execution_count": 12,
   "metadata": {},
   "outputs": [],
   "source": [
    "ndvi = pd.read_csv(\"FE NDVI.csv\")"
   ]
  },
  {
   "cell_type": "markdown",
   "metadata": {},
   "source": [
    "<h2>Import Landslide Data</h2>"
   ]
  },
  {
   "cell_type": "code",
   "execution_count": 13,
   "metadata": {},
   "outputs": [],
   "source": [
    "landslides = pd.read_csv(\"FE Landslides.csv\")\n",
    "landslides = landslides.fillna(0)\n",
    "landslides.rename(columns = {'value':'LS_VALUE'}, inplace = True)\n",
    "landslides['POINT'] = landslides['lon'].map(str) + '/' + landslides['lat'].map(str)"
   ]
  },
  {
   "cell_type": "code",
   "execution_count": 14,
   "metadata": {},
   "outputs": [],
   "source": [
    "landslides = landslides.drop(columns=['lon', 'lat'])"
   ]
  },
  {
   "cell_type": "code",
   "execution_count": 15,
   "metadata": {},
   "outputs": [
    {
     "data": {
      "text/html": [
       "<div>\n",
       "<style scoped>\n",
       "    .dataframe tbody tr th:only-of-type {\n",
       "        vertical-align: middle;\n",
       "    }\n",
       "\n",
       "    .dataframe tbody tr th {\n",
       "        vertical-align: top;\n",
       "    }\n",
       "\n",
       "    .dataframe thead th {\n",
       "        text-align: right;\n",
       "    }\n",
       "</style>\n",
       "<table border=\"1\" class=\"dataframe\">\n",
       "  <thead>\n",
       "    <tr style=\"text-align: right;\">\n",
       "      <th></th>\n",
       "      <th>POINT</th>\n",
       "    </tr>\n",
       "    <tr>\n",
       "      <th>LS_VALUE</th>\n",
       "      <th></th>\n",
       "    </tr>\n",
       "  </thead>\n",
       "  <tbody>\n",
       "    <tr>\n",
       "      <th>0.0</th>\n",
       "      <td>435298</td>\n",
       "    </tr>\n",
       "    <tr>\n",
       "      <th>1.0</th>\n",
       "      <td>5804</td>\n",
       "    </tr>\n",
       "  </tbody>\n",
       "</table>\n",
       "</div>"
      ],
      "text/plain": [
       "           POINT\n",
       "LS_VALUE        \n",
       "0.0       435298\n",
       "1.0         5804"
      ]
     },
     "execution_count": 15,
     "metadata": {},
     "output_type": "execute_result"
    }
   ],
   "source": [
    "landslides.groupby('LS_VALUE').count()\n",
    "# landslides"
   ]
  },
  {
   "cell_type": "code",
   "execution_count": null,
   "metadata": {},
   "outputs": [],
   "source": []
  },
  {
   "cell_type": "markdown",
   "metadata": {},
   "source": [
    "<h2>Import Rainfall Data</h2>"
   ]
  },
  {
   "cell_type": "code",
   "execution_count": 16,
   "metadata": {},
   "outputs": [],
   "source": [
    "#DAILY (RAINFALL, REL HUMIDITY, MIN-MAX TEMP)\n",
    "\n",
    "infanta_rht = pd.read_csv(\"..\\PAGASA\\\\102019067\\\\Infanta.csv\")\n",
    "infanta_rht = infanta_rht.rolling(7).mean()\n",
    "infanta_rht = infanta_rht.iloc[::7, :]\n",
    "infanta_rainfall = infanta_rht['RAINFALL']\n",
    "\n",
    "tayabas_rht = pd.read_csv(\"..\\PAGASA\\\\102019067\\\\Tayabas.csv\")\n",
    "tayabas_rht = tayabas_rht.rolling(7).mean()\n",
    "tayabas_rht = tayabas_rht.iloc[::7, :]\n",
    "tayabas_rainfall = tayabas_rht['RAINFALL']\n",
    "\n",
    "ambulong_rht = pd.read_csv(\"..\\PAGASA\\\\102019067\\\\Ambulong.csv\")\n",
    "ambulong_rht = ambulong_rht.rolling(7).mean()\n",
    "ambulong_rht = ambulong_rht.iloc[::7, :]\n",
    "ambulong_rainfall = ambulong_rht['RAINFALL']\n",
    "\n",
    "naia_rht = pd.read_csv(\"..\\PAGASA\\\\102019067\\\\NAIA.csv\")\n",
    "naia_rht = naia_rht.rolling(7).mean()\n",
    "naia_rht = naia_rht.iloc[::7, :]\n",
    "naia_rainfall = naia_rht['RAINFALL']\n",
    "\n",
    "agromet_rht = pd.read_csv(\"..\\PAGASA\\\\102019067\\\\Agromet.csv\")\n",
    "agromet_rht = agromet_rht.rolling(7).mean()\n",
    "agromet_rht = agromet_rht.iloc[::7, :]\n",
    "agromet_rainfall = agromet_rht['RAINFALL']\n",
    "\n",
    "\n",
    "type(agromet_rainfall)\n",
    "df = pd.Series.to_frame(agromet_rainfall)\n",
    "df['INFANTA'] = infanta_rainfall\n",
    "df['TAYABAS'] = tayabas_rainfall\n",
    "df['AMBULONG'] = ambulong_rainfall\n",
    "df['NAIA'] = naia_rainfall\n",
    "df['AGROMET'] = agromet_rainfall\n",
    "\n",
    "df = df.drop(columns=['RAINFALL']).dropna()\n",
    "\n",
    "df['AVE_RAINFALL'] = df.mean(axis=1)"
   ]
  },
  {
   "cell_type": "code",
   "execution_count": 17,
   "metadata": {},
   "outputs": [
    {
     "data": {
      "text/html": [
       "<div>\n",
       "<style scoped>\n",
       "    .dataframe tbody tr th:only-of-type {\n",
       "        vertical-align: middle;\n",
       "    }\n",
       "\n",
       "    .dataframe tbody tr th {\n",
       "        vertical-align: top;\n",
       "    }\n",
       "\n",
       "    .dataframe thead th {\n",
       "        text-align: right;\n",
       "    }\n",
       "</style>\n",
       "<table border=\"1\" class=\"dataframe\">\n",
       "  <thead>\n",
       "    <tr style=\"text-align: right;\">\n",
       "      <th></th>\n",
       "      <th>YEAR</th>\n",
       "      <th>MONTH</th>\n",
       "      <th>DAY</th>\n",
       "      <th>RAINFALL</th>\n",
       "      <th>TMAX</th>\n",
       "      <th>TMIN</th>\n",
       "      <th>RH</th>\n",
       "      <th>WIND_SPEED</th>\n",
       "      <th>WIND_DIRECTION</th>\n",
       "    </tr>\n",
       "  </thead>\n",
       "  <tbody>\n",
       "    <tr>\n",
       "      <th>0</th>\n",
       "      <td>2015</td>\n",
       "      <td>1</td>\n",
       "      <td>1</td>\n",
       "      <td>12.2</td>\n",
       "      <td>26.3</td>\n",
       "      <td>21.6</td>\n",
       "      <td>87</td>\n",
       "      <td>1</td>\n",
       "      <td>280</td>\n",
       "    </tr>\n",
       "    <tr>\n",
       "      <th>1</th>\n",
       "      <td>2015</td>\n",
       "      <td>1</td>\n",
       "      <td>2</td>\n",
       "      <td>0.0</td>\n",
       "      <td>29.6</td>\n",
       "      <td>22.0</td>\n",
       "      <td>72</td>\n",
       "      <td>4</td>\n",
       "      <td>90</td>\n",
       "    </tr>\n",
       "    <tr>\n",
       "      <th>2</th>\n",
       "      <td>2015</td>\n",
       "      <td>1</td>\n",
       "      <td>3</td>\n",
       "      <td>0.0</td>\n",
       "      <td>29.8</td>\n",
       "      <td>22.2</td>\n",
       "      <td>73</td>\n",
       "      <td>3</td>\n",
       "      <td>120</td>\n",
       "    </tr>\n",
       "    <tr>\n",
       "      <th>3</th>\n",
       "      <td>2015</td>\n",
       "      <td>1</td>\n",
       "      <td>4</td>\n",
       "      <td>0.0</td>\n",
       "      <td>29.5</td>\n",
       "      <td>22.7</td>\n",
       "      <td>79</td>\n",
       "      <td>2</td>\n",
       "      <td>120</td>\n",
       "    </tr>\n",
       "    <tr>\n",
       "      <th>4</th>\n",
       "      <td>2015</td>\n",
       "      <td>1</td>\n",
       "      <td>5</td>\n",
       "      <td>0.0</td>\n",
       "      <td>30.2</td>\n",
       "      <td>20.1</td>\n",
       "      <td>78</td>\n",
       "      <td>3</td>\n",
       "      <td>110</td>\n",
       "    </tr>\n",
       "    <tr>\n",
       "      <th>...</th>\n",
       "      <td>...</td>\n",
       "      <td>...</td>\n",
       "      <td>...</td>\n",
       "      <td>...</td>\n",
       "      <td>...</td>\n",
       "      <td>...</td>\n",
       "      <td>...</td>\n",
       "      <td>...</td>\n",
       "      <td>...</td>\n",
       "    </tr>\n",
       "    <tr>\n",
       "      <th>1456</th>\n",
       "      <td>2018</td>\n",
       "      <td>12</td>\n",
       "      <td>27</td>\n",
       "      <td>-1.0</td>\n",
       "      <td>30.8</td>\n",
       "      <td>25.8</td>\n",
       "      <td>76</td>\n",
       "      <td>2</td>\n",
       "      <td>140</td>\n",
       "    </tr>\n",
       "    <tr>\n",
       "      <th>1457</th>\n",
       "      <td>2018</td>\n",
       "      <td>12</td>\n",
       "      <td>28</td>\n",
       "      <td>19.5</td>\n",
       "      <td>29.1</td>\n",
       "      <td>23.7</td>\n",
       "      <td>84</td>\n",
       "      <td>2</td>\n",
       "      <td>10</td>\n",
       "    </tr>\n",
       "    <tr>\n",
       "      <th>1458</th>\n",
       "      <td>2018</td>\n",
       "      <td>12</td>\n",
       "      <td>29</td>\n",
       "      <td>6.0</td>\n",
       "      <td>25.3</td>\n",
       "      <td>23.7</td>\n",
       "      <td>85</td>\n",
       "      <td>2</td>\n",
       "      <td>330</td>\n",
       "    </tr>\n",
       "    <tr>\n",
       "      <th>1459</th>\n",
       "      <td>2018</td>\n",
       "      <td>12</td>\n",
       "      <td>30</td>\n",
       "      <td>15.5</td>\n",
       "      <td>27.8</td>\n",
       "      <td>23.0</td>\n",
       "      <td>88</td>\n",
       "      <td>2</td>\n",
       "      <td>230</td>\n",
       "    </tr>\n",
       "    <tr>\n",
       "      <th>1460</th>\n",
       "      <td>2018</td>\n",
       "      <td>12</td>\n",
       "      <td>31</td>\n",
       "      <td>29.0</td>\n",
       "      <td>25.1</td>\n",
       "      <td>23.2</td>\n",
       "      <td>95</td>\n",
       "      <td>1</td>\n",
       "      <td>330</td>\n",
       "    </tr>\n",
       "  </tbody>\n",
       "</table>\n",
       "<p>1461 rows × 9 columns</p>\n",
       "</div>"
      ],
      "text/plain": [
       "      YEAR  MONTH  DAY  RAINFALL  TMAX  TMIN  RH  WIND_SPEED  WIND_DIRECTION\n",
       "0     2015      1    1      12.2  26.3  21.6  87           1             280\n",
       "1     2015      1    2       0.0  29.6  22.0  72           4              90\n",
       "2     2015      1    3       0.0  29.8  22.2  73           3             120\n",
       "3     2015      1    4       0.0  29.5  22.7  79           2             120\n",
       "4     2015      1    5       0.0  30.2  20.1  78           3             110\n",
       "...    ...    ...  ...       ...   ...   ...  ..         ...             ...\n",
       "1456  2018     12   27      -1.0  30.8  25.8  76           2             140\n",
       "1457  2018     12   28      19.5  29.1  23.7  84           2              10\n",
       "1458  2018     12   29       6.0  25.3  23.7  85           2             330\n",
       "1459  2018     12   30      15.5  27.8  23.0  88           2             230\n",
       "1460  2018     12   31      29.0  25.1  23.2  95           1             330\n",
       "\n",
       "[1461 rows x 9 columns]"
      ]
     },
     "execution_count": 17,
     "metadata": {},
     "output_type": "execute_result"
    }
   ],
   "source": [
    "# 2015 Thu\n",
    "# 2016 Fri\n",
    "# 2017 Sun\n",
    "# 2018 Mon\n",
    "# 2019 Tue\n",
    "\n",
    "naia_annual = pd.read_csv(\"..\\PAGASA\\\\102019067\\\\NAIA.csv\")\n",
    "# print(naia_annual['RAINFALL'].min())\n",
    "# naia_annual = naia_annual.rolling(30).mean()\n",
    "# naia_annual = naia_annual.iloc[::30, :]\n",
    "# naia_annual_rain = naia_annual['RAINFALL']\n",
    "# naia_annual_rain.dropna()\n",
    "naia_annual"
   ]
  },
  {
   "cell_type": "code",
   "execution_count": null,
   "metadata": {},
   "outputs": [],
   "source": []
  },
  {
   "cell_type": "code",
   "execution_count": 18,
   "metadata": {},
   "outputs": [],
   "source": [
    "# infanta_rht.sort_values(by=['RAINFALL'], ascending=False)"
   ]
  },
  {
   "cell_type": "code",
   "execution_count": 19,
   "metadata": {},
   "outputs": [
    {
     "data": {
      "text/html": [
       "<div>\n",
       "<style scoped>\n",
       "    .dataframe tbody tr th:only-of-type {\n",
       "        vertical-align: middle;\n",
       "    }\n",
       "\n",
       "    .dataframe tbody tr th {\n",
       "        vertical-align: top;\n",
       "    }\n",
       "\n",
       "    .dataframe thead th {\n",
       "        text-align: right;\n",
       "    }\n",
       "</style>\n",
       "<table border=\"1\" class=\"dataframe\">\n",
       "  <thead>\n",
       "    <tr style=\"text-align: right;\">\n",
       "      <th></th>\n",
       "      <th>INFANTA</th>\n",
       "      <th>TAYABAS</th>\n",
       "      <th>AMBULONG</th>\n",
       "      <th>NAIA</th>\n",
       "      <th>AGROMET</th>\n",
       "      <th>AVE_RAINFALL</th>\n",
       "    </tr>\n",
       "  </thead>\n",
       "  <tbody>\n",
       "    <tr>\n",
       "      <th>7</th>\n",
       "      <td>3.928571</td>\n",
       "      <td>6.414286</td>\n",
       "      <td>2.285714e-01</td>\n",
       "      <td>-0.142857</td>\n",
       "      <td>-0.142857</td>\n",
       "      <td>2.057143</td>\n",
       "    </tr>\n",
       "    <tr>\n",
       "      <th>14</th>\n",
       "      <td>7.642857</td>\n",
       "      <td>1.414286</td>\n",
       "      <td>1.903239e-16</td>\n",
       "      <td>-0.142857</td>\n",
       "      <td>-0.028571</td>\n",
       "      <td>1.777143</td>\n",
       "    </tr>\n",
       "    <tr>\n",
       "      <th>21</th>\n",
       "      <td>10.371429</td>\n",
       "      <td>7.514286</td>\n",
       "      <td>1.542857e+00</td>\n",
       "      <td>1.500000</td>\n",
       "      <td>2.428571</td>\n",
       "      <td>4.671429</td>\n",
       "    </tr>\n",
       "    <tr>\n",
       "      <th>28</th>\n",
       "      <td>2.328571</td>\n",
       "      <td>-0.142857</td>\n",
       "      <td>2.537653e-16</td>\n",
       "      <td>0.000000</td>\n",
       "      <td>0.000000</td>\n",
       "      <td>0.437143</td>\n",
       "    </tr>\n",
       "    <tr>\n",
       "      <th>35</th>\n",
       "      <td>0.314286</td>\n",
       "      <td>0.428571</td>\n",
       "      <td>5.714286e-02</td>\n",
       "      <td>0.000000</td>\n",
       "      <td>0.000000</td>\n",
       "      <td>0.160000</td>\n",
       "    </tr>\n",
       "    <tr>\n",
       "      <th>...</th>\n",
       "      <td>...</td>\n",
       "      <td>...</td>\n",
       "      <td>...</td>\n",
       "      <td>...</td>\n",
       "      <td>...</td>\n",
       "      <td>...</td>\n",
       "    </tr>\n",
       "    <tr>\n",
       "      <th>1428</th>\n",
       "      <td>5.800000</td>\n",
       "      <td>7.814286</td>\n",
       "      <td>-3.428571e-01</td>\n",
       "      <td>-0.428571</td>\n",
       "      <td>0.785714</td>\n",
       "      <td>2.725714</td>\n",
       "    </tr>\n",
       "    <tr>\n",
       "      <th>1435</th>\n",
       "      <td>6.200000</td>\n",
       "      <td>8.071429</td>\n",
       "      <td>2.028571e+00</td>\n",
       "      <td>-0.142857</td>\n",
       "      <td>0.257143</td>\n",
       "      <td>3.282857</td>\n",
       "    </tr>\n",
       "    <tr>\n",
       "      <th>1442</th>\n",
       "      <td>15.971429</td>\n",
       "      <td>20.200000</td>\n",
       "      <td>1.114286e+00</td>\n",
       "      <td>0.000000</td>\n",
       "      <td>1.042857</td>\n",
       "      <td>7.665714</td>\n",
       "    </tr>\n",
       "    <tr>\n",
       "      <th>1449</th>\n",
       "      <td>9.014286</td>\n",
       "      <td>11.328571</td>\n",
       "      <td>9.142857e-01</td>\n",
       "      <td>1.571429</td>\n",
       "      <td>1.357143</td>\n",
       "      <td>4.837143</td>\n",
       "    </tr>\n",
       "    <tr>\n",
       "      <th>1456</th>\n",
       "      <td>33.871429</td>\n",
       "      <td>13.114286</td>\n",
       "      <td>9.028571e+00</td>\n",
       "      <td>7.142857</td>\n",
       "      <td>8.328571</td>\n",
       "      <td>14.297143</td>\n",
       "    </tr>\n",
       "  </tbody>\n",
       "</table>\n",
       "<p>208 rows × 6 columns</p>\n",
       "</div>"
      ],
      "text/plain": [
       "        INFANTA    TAYABAS      AMBULONG      NAIA   AGROMET  AVE_RAINFALL\n",
       "7      3.928571   6.414286  2.285714e-01 -0.142857 -0.142857      2.057143\n",
       "14     7.642857   1.414286  1.903239e-16 -0.142857 -0.028571      1.777143\n",
       "21    10.371429   7.514286  1.542857e+00  1.500000  2.428571      4.671429\n",
       "28     2.328571  -0.142857  2.537653e-16  0.000000  0.000000      0.437143\n",
       "35     0.314286   0.428571  5.714286e-02  0.000000  0.000000      0.160000\n",
       "...         ...        ...           ...       ...       ...           ...\n",
       "1428   5.800000   7.814286 -3.428571e-01 -0.428571  0.785714      2.725714\n",
       "1435   6.200000   8.071429  2.028571e+00 -0.142857  0.257143      3.282857\n",
       "1442  15.971429  20.200000  1.114286e+00  0.000000  1.042857      7.665714\n",
       "1449   9.014286  11.328571  9.142857e-01  1.571429  1.357143      4.837143\n",
       "1456  33.871429  13.114286  9.028571e+00  7.142857  8.328571     14.297143\n",
       "\n",
       "[208 rows x 6 columns]"
      ]
     },
     "execution_count": 19,
     "metadata": {},
     "output_type": "execute_result"
    }
   ],
   "source": [
    "df.dropna()"
   ]
  },
  {
   "cell_type": "code",
   "execution_count": null,
   "metadata": {},
   "outputs": [],
   "source": []
  },
  {
   "cell_type": "code",
   "execution_count": null,
   "metadata": {},
   "outputs": [],
   "source": []
  },
  {
   "cell_type": "code",
   "execution_count": 20,
   "metadata": {},
   "outputs": [],
   "source": [
    "#USGS Elevation Fetcher \n",
    "# def make_remote_request(url: str, params: dict) -> json:\n",
    "#     count = 1\n",
    "#     while True:\n",
    "#         try:\n",
    "#             response = requests.get((url + urllib.parse.urlencode(params)))\n",
    "#         except (OSError, urllib3.exceptions.ProtocolError) as error:\n",
    "#             print('\\n')\n",
    "#             print('*' * 20, 'Error Occured', '*' * 20)\n",
    "#             print(f'Number of tries: {count}')\n",
    "#             print(f'URL: {url}')\n",
    "#             print(error)\n",
    "#             print('\\n')\n",
    "#             count += 1\n",
    "#             continue\n",
    "#         break\n",
    "\n",
    "#     return response\n",
    "\n",
    "\n",
    "# def elevation_function(x):\n",
    "#     url = 'https://nationalmap.gov/epqs/pqs.php?'\n",
    "#     params = {'x': x[1],\n",
    "#               'y': x[0],\n",
    "#               'units': 'Meters',\n",
    "#               'output': 'json'}\n",
    "#     result = make_remote_request(url, params)\n",
    "#     return result.json()['USGS_Elevation_Point_Query_Service']['Elevation_Query']['Elevation']\n",
    "\n",
    "# import requests\n",
    "# import urllib\n",
    "# import urllib3\n",
    "#import rasterio as raster\n",
    "#sample_points['elevations'] = sample_points.apply(elevation_function, axis=1)"
   ]
  },
  {
   "cell_type": "code",
   "execution_count": 21,
   "metadata": {},
   "outputs": [],
   "source": [
    "# ASPECT SCALED VALUES\n",
    "\n",
    "# arr = [\"N\", \"NNW\", \"NW\", \"WNW\", \"W\", \"WSW\", \"SW\", \"SSW\", \"S\", \"SSE\", \"SE\", \"ESE\", \"E\", \"ENE\", \"NE\", \"NNE\"]\n",
    "arr = [\"N\", \"NNE\", \"NE\", \"ENE\", \"E\", \"ESE\", \"SE\", \"SSE\", \"S\", \"SSW\", \"SW\", \"WSW\", \"W\", \"WNW\", \"NW\", \"NNW\"]\n",
    "dirVals16 = {\"N\":0}\n",
    "for v in range(15):\n",
    "    dirVals16[arr[v+1]] = 0.0225*(v+1)\n",
    "    \n",
    "dirVals8 = {\"E\":0.0, \"NE\":0.045,\"N\":0.09,\"NW\":0.135,\"W\":0.18,\"SW\":0.225, \"S\":0.27, \"SE\":0.315}\n",
    "# dirVals16 = {\"E\":0.0,\"ENE\":0.0225,\"NE\":0.045,\"NNE\":0.0675,\"N\":0.09,\"NNW\"0.1125,\"NW\":0.135,\"WNW\":0.1575,\"W\":0.18,\"WSW\":0.2025,\"SW\":0.225,\"SSW\":0.2475,\"S\":0.27,\"SSE\":0.2925,\"SE\":0.315,\"ESE\":0.3375}"
   ]
  },
  {
   "cell_type": "code",
   "execution_count": 22,
   "metadata": {},
   "outputs": [
    {
     "data": {
      "text/plain": [
       "{'N': 0,\n",
       " 'NNE': 0.0225,\n",
       " 'NE': 0.045,\n",
       " 'ENE': 0.0675,\n",
       " 'E': 0.09,\n",
       " 'ESE': 0.11249999999999999,\n",
       " 'SE': 0.135,\n",
       " 'SSE': 0.1575,\n",
       " 'S': 0.18,\n",
       " 'SSW': 0.20249999999999999,\n",
       " 'SW': 0.22499999999999998,\n",
       " 'WSW': 0.2475,\n",
       " 'W': 0.27,\n",
       " 'WNW': 0.2925,\n",
       " 'NW': 0.315,\n",
       " 'NNW': 0.33749999999999997}"
      ]
     },
     "execution_count": 22,
     "metadata": {},
     "output_type": "execute_result"
    }
   ],
   "source": [
    "dirVals16"
   ]
  },
  {
   "cell_type": "code",
   "execution_count": 23,
   "metadata": {},
   "outputs": [],
   "source": [
    "# SLOPE SCALED VALUES\n",
    "slope = {\"A\":0.08,\"B\":.18,\"C\":.3,\"D\":0.5,\"E\":1,\"IW\":0}"
   ]
  },
  {
   "cell_type": "markdown",
   "metadata": {},
   "source": [
    "<h2>Utility Functions</h2>"
   ]
  },
  {
   "cell_type": "code",
   "execution_count": null,
   "metadata": {},
   "outputs": [],
   "source": []
  },
  {
   "cell_type": "code",
   "execution_count": 24,
   "metadata": {},
   "outputs": [],
   "source": [
    "def degToCompass16(num):\n",
    "    val = int((num/22.5)+.5)\n",
    "    arr = [\"E\", \"ENE\", \"NE\", \"NNE\", \"N\", \"NNW\", \"NW\", \"WNW\", \"W\", \"WSW\", \"SW\", \"SSW\", \"S\", \"SSE\", \"SE\", \"ESE\"]\n",
    "    return arr[(val % 16)]\n",
    "\n",
    "def degToCompass8(num):\n",
    "    val = int((num/22.5)+.5)\n",
    "    arr = [\"E\",\"NE\",\"N\",\"NW\",\"W\",\"SW\", \"S\", \"SE\"]\n",
    "    return arr[(val % 8)]   \n",
    "\n",
    "def dir8ToVal(dir):\n",
    "    return dirVals8[dir]\n",
    "\n",
    "def dir16ToVal(dir):\n",
    "    return dirVals16[dir]\n",
    "\n",
    "def getSlopeVal(desc):\n",
    "    return slope[desc]\n",
    "\n",
    "def getElevClass(elev):\n",
    "    return int(elev / 106) / 20\n",
    "\n",
    "def normalizeTri(tri):\n",
    "    return tri + 30.625\n",
    "\n",
    "def getTriClass(tri):\n",
    "    return int(normalizeTri(tri) / 2.7 ) / 20"
   ]
  },
  {
   "cell_type": "code",
   "execution_count": 25,
   "metadata": {},
   "outputs": [
    {
     "data": {
      "text/plain": [
       "0.045"
      ]
     },
     "execution_count": 25,
     "metadata": {},
     "output_type": "execute_result"
    }
   ],
   "source": [
    "dir8ToVal(\"NE\")"
   ]
  },
  {
   "cell_type": "code",
   "execution_count": null,
   "metadata": {},
   "outputs": [],
   "source": []
  },
  {
   "cell_type": "code",
   "execution_count": 26,
   "metadata": {},
   "outputs": [
    {
     "data": {
      "text/plain": [
       "0.135"
      ]
     },
     "execution_count": 26,
     "metadata": {},
     "output_type": "execute_result"
    }
   ],
   "source": [
    "dir16ToVal(\"SE\")"
   ]
  },
  {
   "cell_type": "code",
   "execution_count": 27,
   "metadata": {},
   "outputs": [
    {
     "name": "stdout",
     "output_type": "stream",
     "text": [
      "1.0\n",
      "0.75\n",
      "0.8\n",
      "0.8\n",
      "0.6\n",
      "0.6\n",
      "0.95\n",
      "0.0\n"
     ]
    }
   ],
   "source": [
    "23.875 + 30.625\n",
    "\n",
    "print (getTriClass(23.875))\n",
    "print (getTriClass(12.32))\n",
    "print (getTriClass(13.32))\n",
    "print (getTriClass(14.32))\n",
    "print (getTriClass(2.2))\n",
    "print (getTriClass(3.2))\n",
    "print (getTriClass(22.32))\n",
    "print (getTriClass(-30.625))"
   ]
  },
  {
   "cell_type": "code",
   "execution_count": 28,
   "metadata": {},
   "outputs": [
    {
     "data": {
      "text/plain": [
       "0.05"
      ]
     },
     "execution_count": 28,
     "metadata": {},
     "output_type": "execute_result"
    }
   ],
   "source": [
    "getElevClass(106)\n"
   ]
  },
  {
   "cell_type": "code",
   "execution_count": 29,
   "metadata": {
    "scrolled": true
   },
   "outputs": [
    {
     "name": "stdout",
     "output_type": "stream",
     "text": [
      "0.0\n",
      "0.0225\n",
      "0.045\n",
      "0.0675\n",
      "0.09\n",
      "0.11249999999999999\n",
      "0.135\n",
      "0.1575\n",
      "0.18\n",
      "0.20249999999999999\n",
      "0.22499999999999998\n",
      "0.2475\n",
      "0.27\n",
      "0.2925\n",
      "0.315\n",
      "0.33749999999999997\n"
     ]
    }
   ],
   "source": [
    "for x in range(16):\n",
    "    print (x*.0225)"
   ]
  },
  {
   "cell_type": "code",
   "execution_count": 30,
   "metadata": {},
   "outputs": [],
   "source": [
    "import math "
   ]
  },
  {
   "cell_type": "code",
   "execution_count": 31,
   "metadata": {},
   "outputs": [],
   "source": [
    "#Utility functions - LU LC\n",
    "\n",
    "#Land Cover classes: 1 - Highly Covered - 1, Moderately Covered - .7, Lightly Covered - .3, No Cover - 0.1,  Water - -1\n",
    "covers = {\"Fishpond\":-1, \"Inland Water\":-1, \"Open/Barren\": 0.1, \"Brush/Shrubs\":0.3, \"Grassland\":0.7, \"Annual Crop\":0.3, \"Built-up\":0.7, \"Perennial Crop\":0.7, \"Open Forest\":1, \"Closed Forest\":1 }  \n",
    "\n",
    "#Land Use Impact - High Impact - 1, Moderate Impact - .75, Low Impact - 0.5, Very Low Impact - 0.25, No Impact- 0.1\n",
    "land_use_impact = {\"unused\":0.1, \"residential\":.75, \n",
    "       \"cemetery\":.5, \n",
    "       \"park\":0.5, \n",
    "       \"industrial\":0.75, \n",
    "       \"forest\":0.1, \n",
    "       \"retail\":0.25, \n",
    "       \"farm\":0.5, \n",
    "       \"commercial\":0.5, \n",
    "       \"grass\":0.1, \n",
    "       \"military\":0.5, \n",
    "       \"orchard\":0.25, \n",
    "       \"meadow\":0.25, \n",
    "       \"scrub\":0.25, \n",
    "       \"quarry\":1, \n",
    "       \"recreation_ground\":0.5, \n",
    "       \"nature_reserve\":0.1}\n",
    "\n",
    "\n",
    "def getCoverVal(cover):\n",
    "    if cover is np.nan:\n",
    "        return 0\n",
    "    return covers[cover]\n",
    "\n",
    "def scaleCoverSize(size):\n",
    "    if math.isnan(size):\n",
    "        return 0\n",
    "    return int(size / 903) / 100\n",
    "\n",
    "def transformLandUse(use):\n",
    "    if pd.isnull(use):\n",
    "        return 0\n",
    "    if use is np.nan:\n",
    "        return 0\n",
    "    return land_use_impact[use]\n",
    "\n",
    "def transformSoilType(soil):\n",
    "    return 0\n",
    "\n",
    "def transformGeologyType(geo):\n",
    "    return 0\n"
   ]
  },
  {
   "cell_type": "code",
   "execution_count": 32,
   "metadata": {},
   "outputs": [
    {
     "data": {
      "text/plain": [
       "0.08"
      ]
     },
     "execution_count": 32,
     "metadata": {},
     "output_type": "execute_result"
    }
   ],
   "source": [
    "scaleCoverSize(7313)"
   ]
  },
  {
   "cell_type": "code",
   "execution_count": null,
   "metadata": {},
   "outputs": [],
   "source": []
  },
  {
   "cell_type": "code",
   "execution_count": 33,
   "metadata": {},
   "outputs": [],
   "source": [
    "# sample_point_export = sample_points.to_csv(r'D:\\COMPLETE THIS!!\\Data Acquired\\CSVs\\point_sample.csv',index = None, header=True)"
   ]
  },
  {
   "cell_type": "code",
   "execution_count": 34,
   "metadata": {},
   "outputs": [],
   "source": [
    "# coords = [tuple(x) for x in sample_points.values] #coords is the tuple of lon and lat"
   ]
  },
  {
   "cell_type": "code",
   "execution_count": 35,
   "metadata": {},
   "outputs": [],
   "source": [
    "sample['POINT'] = sample['lon'].map(str) + '/' + sample['lat'].map(str)"
   ]
  },
  {
   "cell_type": "code",
   "execution_count": 36,
   "metadata": {},
   "outputs": [],
   "source": [
    "land_cover['POINT'] = land_cover['lon'].map(str) + '/' + land_cover['lat'].map(str)"
   ]
  },
  {
   "cell_type": "code",
   "execution_count": 37,
   "metadata": {},
   "outputs": [],
   "source": [
    "land_use['POINT'] = land_use['lon'].map(str) + '/' + land_use['lat'].map(str)"
   ]
  },
  {
   "cell_type": "code",
   "execution_count": 38,
   "metadata": {},
   "outputs": [],
   "source": [
    "soil_type['POINT'] = soil_type['lon'].map(str) + '/' + soil_type['lat'].map(str)"
   ]
  },
  {
   "cell_type": "code",
   "execution_count": 39,
   "metadata": {},
   "outputs": [],
   "source": [
    "earthquake_ls['POINT'] = earthquake_ls['lon'].map(str) + '/' + earthquake_ls['lat'].map(str)"
   ]
  },
  {
   "cell_type": "code",
   "execution_count": 40,
   "metadata": {},
   "outputs": [],
   "source": [
    "rain_liq_ls['POINT'] = rain_liq_ls['lon'].map(str) + '/' + rain_liq_ls['lat'].map(str)"
   ]
  },
  {
   "cell_type": "code",
   "execution_count": null,
   "metadata": {},
   "outputs": [],
   "source": []
  },
  {
   "cell_type": "code",
   "execution_count": 41,
   "metadata": {},
   "outputs": [
    {
     "data": {
      "text/plain": [
       "(348873.4731547999, 1610781.94250232)"
      ]
     },
     "execution_count": 41,
     "metadata": {},
     "output_type": "execute_result"
    }
   ],
   "source": [
    "285417.4602417005, 1544775.6368829422\n",
    "348873.4731547999, 1610781.94250232"
   ]
  },
  {
   "cell_type": "code",
   "execution_count": 42,
   "metadata": {},
   "outputs": [],
   "source": [
    "# land_type['POINT'] = land_type['lon'].map(str) + '/' + land_type['lat'].map(str)"
   ]
  },
  {
   "cell_type": "code",
   "execution_count": 43,
   "metadata": {},
   "outputs": [],
   "source": [
    "ndvi['POINT'] = ndvi['lon'].map(str) + '/' + ndvi['lat'].map(str)"
   ]
  },
  {
   "cell_type": "markdown",
   "metadata": {},
   "source": [
    "<h2>Transformation and Standardization of NDVI</h2>"
   ]
  },
  {
   "cell_type": "code",
   "execution_count": 44,
   "metadata": {},
   "outputs": [],
   "source": [
    "ndvi = ndvi.drop(columns=[\"lon\", \"lat\"])"
   ]
  },
  {
   "cell_type": "code",
   "execution_count": 45,
   "metadata": {},
   "outputs": [],
   "source": [
    "ndvi.rename(columns = {'NDVI proje':'NDVI'}, inplace = True)"
   ]
  },
  {
   "cell_type": "code",
   "execution_count": 46,
   "metadata": {},
   "outputs": [
    {
     "data": {
      "text/plain": [
       "-0.58"
      ]
     },
     "execution_count": 46,
     "metadata": {},
     "output_type": "execute_result"
    }
   ],
   "source": [
    "ndvi.min(axis=0)['NDVI']"
   ]
  },
  {
   "cell_type": "code",
   "execution_count": 47,
   "metadata": {},
   "outputs": [],
   "source": [
    "#Preprocess NDVI\n",
    "ndvi = ndvi.dropna()\n",
    "def getNdviClass(ndvi):\n",
    "    if ndvi < 0:\n",
    "        return 0\n",
    "    if ndvi >= 0 and ndvi <= 0.1:\n",
    "        return 0.1\n",
    "    if ndvi > 0.1 and ndvi <= 0.4:\n",
    "        return 0.4\n",
    "    if ndvi > 0.4:\n",
    "        return 1\n",
    "\n",
    "#Standardize NDVI\n",
    "ndvi['NDVI'] = ndvi['NDVI'].apply(getNdviClass)\n",
    "\n"
   ]
  },
  {
   "cell_type": "code",
   "execution_count": 48,
   "metadata": {},
   "outputs": [
    {
     "data": {
      "text/plain": [
       "0.0"
      ]
     },
     "execution_count": 48,
     "metadata": {},
     "output_type": "execute_result"
    }
   ],
   "source": [
    "ndvi.min(axis=0)['NDVI']"
   ]
  },
  {
   "cell_type": "code",
   "execution_count": 49,
   "metadata": {},
   "outputs": [
    {
     "data": {
      "text/plain": [
       "1.0"
      ]
     },
     "execution_count": 49,
     "metadata": {},
     "output_type": "execute_result"
    }
   ],
   "source": [
    "ndvi.max(axis=0)['NDVI']"
   ]
  },
  {
   "cell_type": "code",
   "execution_count": 50,
   "metadata": {},
   "outputs": [
    {
     "data": {
      "text/html": [
       "<div>\n",
       "<style scoped>\n",
       "    .dataframe tbody tr th:only-of-type {\n",
       "        vertical-align: middle;\n",
       "    }\n",
       "\n",
       "    .dataframe tbody tr th {\n",
       "        vertical-align: top;\n",
       "    }\n",
       "\n",
       "    .dataframe thead th {\n",
       "        text-align: right;\n",
       "    }\n",
       "</style>\n",
       "<table border=\"1\" class=\"dataframe\">\n",
       "  <thead>\n",
       "    <tr style=\"text-align: right;\">\n",
       "      <th></th>\n",
       "      <th>NDVI</th>\n",
       "      <th>POINT</th>\n",
       "    </tr>\n",
       "  </thead>\n",
       "  <tbody>\n",
       "    <tr>\n",
       "      <th>0</th>\n",
       "      <td>1.0</td>\n",
       "      <td>312775.2104342669/1544806.8868831748</td>\n",
       "    </tr>\n",
       "    <tr>\n",
       "      <th>1</th>\n",
       "      <td>1.0</td>\n",
       "      <td>312775.2104342669/1544806.8868831748</td>\n",
       "    </tr>\n",
       "    <tr>\n",
       "      <th>2</th>\n",
       "      <td>1.0</td>\n",
       "      <td>312617.710434453/1544811.8868829866</td>\n",
       "    </tr>\n",
       "    <tr>\n",
       "      <th>3</th>\n",
       "      <td>0.4</td>\n",
       "      <td>312590.21043448924/1544816.8868829524</td>\n",
       "    </tr>\n",
       "    <tr>\n",
       "      <th>4</th>\n",
       "      <td>0.4</td>\n",
       "      <td>312885.2104341786/1544836.886883291</td>\n",
       "    </tr>\n",
       "    <tr>\n",
       "      <th>...</th>\n",
       "      <td>...</td>\n",
       "      <td>...</td>\n",
       "    </tr>\n",
       "    <tr>\n",
       "      <th>440051</th>\n",
       "      <td>1.0</td>\n",
       "      <td>323961.0261728599/1590074.7667966348</td>\n",
       "    </tr>\n",
       "    <tr>\n",
       "      <th>440052</th>\n",
       "      <td>1.0</td>\n",
       "      <td>323969.3511357363/1590141.286145186</td>\n",
       "    </tr>\n",
       "    <tr>\n",
       "      <th>440053</th>\n",
       "      <td>0.4</td>\n",
       "      <td>324195.95361386857/1590271.6516619325</td>\n",
       "    </tr>\n",
       "    <tr>\n",
       "      <th>440054</th>\n",
       "      <td>0.0</td>\n",
       "      <td>324610.0766557139/1591399.7063857145</td>\n",
       "    </tr>\n",
       "    <tr>\n",
       "      <th>440055</th>\n",
       "      <td>0.4</td>\n",
       "      <td>324657.3197299169/1593321.3712228332</td>\n",
       "    </tr>\n",
       "  </tbody>\n",
       "</table>\n",
       "<p>314164 rows × 2 columns</p>\n",
       "</div>"
      ],
      "text/plain": [
       "        NDVI                                  POINT\n",
       "0        1.0   312775.2104342669/1544806.8868831748\n",
       "1        1.0   312775.2104342669/1544806.8868831748\n",
       "2        1.0    312617.710434453/1544811.8868829866\n",
       "3        0.4  312590.21043448924/1544816.8868829524\n",
       "4        0.4    312885.2104341786/1544836.886883291\n",
       "...      ...                                    ...\n",
       "440051   1.0   323961.0261728599/1590074.7667966348\n",
       "440052   1.0    323969.3511357363/1590141.286145186\n",
       "440053   0.4  324195.95361386857/1590271.6516619325\n",
       "440054   0.0   324610.0766557139/1591399.7063857145\n",
       "440055   0.4   324657.3197299169/1593321.3712228332\n",
       "\n",
       "[314164 rows x 2 columns]"
      ]
     },
     "execution_count": 50,
     "metadata": {},
     "output_type": "execute_result"
    }
   ],
   "source": [
    "ndvi"
   ]
  },
  {
   "cell_type": "markdown",
   "metadata": {},
   "source": [
    "<h2>Transformation and Standardization of Distance from Waterways</h2>"
   ]
  },
  {
   "cell_type": "code",
   "execution_count": 51,
   "metadata": {},
   "outputs": [],
   "source": [
    "distance_from_water_ways = pd.read_csv(\"Distance from Water Ways.csv\")\n",
    "distance_from_water_ways['POINT'] = distance_from_water_ways['lon'].map(str) + '/' + distance_from_water_ways['lat'].map(str)"
   ]
  },
  {
   "cell_type": "code",
   "execution_count": 52,
   "metadata": {},
   "outputs": [],
   "source": [
    "distance_from_water_ways = distance_from_water_ways.drop(columns=[\"join_osm_id\", \"join_code\", \"join_fclass\", \"join_width\",\"join_name\", \"lon\", \"lat\"])"
   ]
  },
  {
   "cell_type": "code",
   "execution_count": 53,
   "metadata": {},
   "outputs": [],
   "source": [
    "distance_from_water_ways.rename(columns = {'distance':'WATER_DISTANCE'}, inplace = True)\n",
    "distance_from_water_ways = distance_from_water_ways.round(4)"
   ]
  },
  {
   "cell_type": "code",
   "execution_count": 54,
   "metadata": {},
   "outputs": [
    {
     "name": "stdout",
     "output_type": "stream",
     "text": [
      "0.0606\n",
      "0.0\n"
     ]
    }
   ],
   "source": [
    "max_w = distance_from_water_ways['WATER_DISTANCE'].max()\n",
    "min_w = distance_from_water_ways['WATER_DISTANCE'].min()\n",
    "print(max_w)\n",
    "print(min_w)"
   ]
  },
  {
   "cell_type": "code",
   "execution_count": 55,
   "metadata": {},
   "outputs": [],
   "source": [
    "# print(distance_from_water_ways)\n",
    "min_w_a = abs(distance_from_water_ways['WATER_DISTANCE'].min())\n",
    "\n",
    "def normalizeWw(value):\n",
    "    return value + min_w_a\n",
    "\n",
    "distance_from_water_ways[\"WATER_DISTANCE\"] = distance_from_water_ways[\"WATER_DISTANCE\"].apply(normalizeWw)\n",
    "\n",
    "max_w = distance_from_water_ways['WATER_DISTANCE'].max()\n",
    "min_w = distance_from_water_ways['WATER_DISTANCE'].min()\n",
    "\n",
    "wv_distance = max_w - min_w\n",
    "wv_classes = 5\n",
    "classifier = wv_distance/(wv_classes-1) #classes -1 to account for 0 class"
   ]
  },
  {
   "cell_type": "code",
   "execution_count": 56,
   "metadata": {},
   "outputs": [],
   "source": [
    "def classifyWw(value):\n",
    "    nval = int(value / classifier)\n",
    "    return nval * classifier"
   ]
  },
  {
   "cell_type": "code",
   "execution_count": 57,
   "metadata": {},
   "outputs": [],
   "source": [
    "distance_from_water_ways[\"WATER_DISTANCE\"] = distance_from_water_ways[\"WATER_DISTANCE\"].apply(classifyWw).round(4)"
   ]
  },
  {
   "cell_type": "code",
   "execution_count": 58,
   "metadata": {},
   "outputs": [
    {
     "data": {
      "text/plain": [
       "array([0.    , 0.0152, 0.0303, 0.0455, 0.0606])"
      ]
     },
     "execution_count": 58,
     "metadata": {},
     "output_type": "execute_result"
    }
   ],
   "source": [
    "distance_from_water_ways['WATER_DISTANCE'].unique()"
   ]
  },
  {
   "cell_type": "markdown",
   "metadata": {},
   "source": [
    "<h2>Transformation and Standardization of Distance from Faults</h2>"
   ]
  },
  {
   "cell_type": "code",
   "execution_count": 59,
   "metadata": {},
   "outputs": [],
   "source": [
    "distance_from_faults = pd.read_csv(\"Distance from Fault.csv\")"
   ]
  },
  {
   "cell_type": "code",
   "execution_count": null,
   "metadata": {},
   "outputs": [],
   "source": []
  },
  {
   "cell_type": "code",
   "execution_count": null,
   "metadata": {},
   "outputs": [],
   "source": []
  },
  {
   "cell_type": "code",
   "execution_count": 60,
   "metadata": {},
   "outputs": [],
   "source": [
    "distance_from_faults['POINT'] = distance_from_faults['lon'].map(str) + '/' + distance_from_faults['lat'].map(str)\n",
    "distance_from_faults = distance_from_faults.drop(columns=[\"lon\", \"lat\"])\n",
    "distance_from_faults = distance_from_faults[['POINT','distance']]\n",
    "distance_from_faults.rename(columns = {'distance':'FAULT_DISTANCE'}, inplace = True)\n",
    "distance_from_faults = distance_from_faults.round(4)"
   ]
  },
  {
   "cell_type": "code",
   "execution_count": 61,
   "metadata": {},
   "outputs": [
    {
     "name": "stdout",
     "output_type": "stream",
     "text": [
      "0.0\n",
      "0.3401\n",
      "0.3401\n",
      "0.085025\n"
     ]
    }
   ],
   "source": [
    "min_f_a = abs(distance_from_faults['FAULT_DISTANCE'].min())\n",
    "print(min_f_a)\n",
    "\n",
    "max_f_a = distance_from_faults['FAULT_DISTANCE'].max()\n",
    "print(max_f_a)\n",
    "\n",
    "print(max_f_a - min_f_a)\n",
    "print((max_f_a - min_f_a)/4)"
   ]
  },
  {
   "cell_type": "code",
   "execution_count": null,
   "metadata": {},
   "outputs": [],
   "source": []
  },
  {
   "cell_type": "code",
   "execution_count": null,
   "metadata": {},
   "outputs": [],
   "source": []
  },
  {
   "cell_type": "code",
   "execution_count": 62,
   "metadata": {},
   "outputs": [],
   "source": [
    "min_f_a = abs(distance_from_faults['FAULT_DISTANCE'].min())\n",
    "\n",
    "def normalizeF(value):\n",
    "    return value + min_f_a\n",
    "\n",
    "distance_from_faults[\"FAULT_DISTANCE\"] = distance_from_faults[\"FAULT_DISTANCE\"].apply(normalizeF)\n",
    "\n",
    "max_f = distance_from_faults['FAULT_DISTANCE'].max()\n",
    "min_f = distance_from_faults['FAULT_DISTANCE'].min()\n",
    "\n",
    "fv_distance = max_f - min_f\n",
    "fv_classes = 5\n",
    "classifier = fv_distance/(fv_classes-1) #classes -1 to account for 0 class"
   ]
  },
  {
   "cell_type": "code",
   "execution_count": 63,
   "metadata": {},
   "outputs": [],
   "source": [
    "def classifyF(value):\n",
    "    nval = int(value / classifier)\n",
    "    return nval * classifier"
   ]
  },
  {
   "cell_type": "code",
   "execution_count": 64,
   "metadata": {},
   "outputs": [],
   "source": [
    "distance_from_faults[\"FAULT_DISTANCE\"] = distance_from_faults[\"FAULT_DISTANCE\"].apply(classifyF).round(4)"
   ]
  },
  {
   "cell_type": "code",
   "execution_count": 65,
   "metadata": {},
   "outputs": [
    {
     "data": {
      "text/plain": [
       "array([0.2551, 0.17  , 0.085 , 0.    , 0.3401])"
      ]
     },
     "execution_count": 65,
     "metadata": {},
     "output_type": "execute_result"
    }
   ],
   "source": [
    "distance_from_faults['FAULT_DISTANCE'].unique()"
   ]
  },
  {
   "cell_type": "code",
   "execution_count": null,
   "metadata": {},
   "outputs": [],
   "source": []
  },
  {
   "cell_type": "code",
   "execution_count": null,
   "metadata": {},
   "outputs": [],
   "source": []
  },
  {
   "cell_type": "code",
   "execution_count": 66,
   "metadata": {},
   "outputs": [],
   "source": [
    "distance = pd.merge(distance_from_faults, distance_from_water_ways, on='POINT', how='left')"
   ]
  },
  {
   "cell_type": "code",
   "execution_count": 67,
   "metadata": {},
   "outputs": [
    {
     "data": {
      "text/html": [
       "<div>\n",
       "<style scoped>\n",
       "    .dataframe tbody tr th:only-of-type {\n",
       "        vertical-align: middle;\n",
       "    }\n",
       "\n",
       "    .dataframe tbody tr th {\n",
       "        vertical-align: top;\n",
       "    }\n",
       "\n",
       "    .dataframe thead th {\n",
       "        text-align: right;\n",
       "    }\n",
       "</style>\n",
       "<table border=\"1\" class=\"dataframe\">\n",
       "  <thead>\n",
       "    <tr style=\"text-align: right;\">\n",
       "      <th></th>\n",
       "      <th>POINT</th>\n",
       "      <th>FAULT_DISTANCE</th>\n",
       "      <th>WATER_DISTANCE</th>\n",
       "    </tr>\n",
       "  </thead>\n",
       "  <tbody>\n",
       "    <tr>\n",
       "      <th>0</th>\n",
       "      <td>312775.2104342669/1544806.8868831748</td>\n",
       "      <td>0.2551</td>\n",
       "      <td>0.0000</td>\n",
       "    </tr>\n",
       "    <tr>\n",
       "      <th>1</th>\n",
       "      <td>312775.2104342669/1544806.8868831748</td>\n",
       "      <td>0.2551</td>\n",
       "      <td>0.0000</td>\n",
       "    </tr>\n",
       "    <tr>\n",
       "      <th>2</th>\n",
       "      <td>312775.2104342669/1544806.8868831748</td>\n",
       "      <td>0.2551</td>\n",
       "      <td>0.0000</td>\n",
       "    </tr>\n",
       "    <tr>\n",
       "      <th>3</th>\n",
       "      <td>312775.2104342669/1544806.8868831748</td>\n",
       "      <td>0.2551</td>\n",
       "      <td>0.0000</td>\n",
       "    </tr>\n",
       "    <tr>\n",
       "      <th>4</th>\n",
       "      <td>312617.710434453/1544811.8868829866</td>\n",
       "      <td>0.2551</td>\n",
       "      <td>0.0000</td>\n",
       "    </tr>\n",
       "    <tr>\n",
       "      <th>...</th>\n",
       "      <td>...</td>\n",
       "      <td>...</td>\n",
       "      <td>...</td>\n",
       "    </tr>\n",
       "    <tr>\n",
       "      <th>440053</th>\n",
       "      <td>323961.0261728599/1590074.7667966348</td>\n",
       "      <td>0.1700</td>\n",
       "      <td>0.0303</td>\n",
       "    </tr>\n",
       "    <tr>\n",
       "      <th>440054</th>\n",
       "      <td>323969.3511357363/1590141.286145186</td>\n",
       "      <td>0.1700</td>\n",
       "      <td>0.0303</td>\n",
       "    </tr>\n",
       "    <tr>\n",
       "      <th>440055</th>\n",
       "      <td>324195.95361386857/1590271.6516619325</td>\n",
       "      <td>0.1700</td>\n",
       "      <td>0.0455</td>\n",
       "    </tr>\n",
       "    <tr>\n",
       "      <th>440056</th>\n",
       "      <td>324610.0766557139/1591399.7063857145</td>\n",
       "      <td>0.0850</td>\n",
       "      <td>0.0455</td>\n",
       "    </tr>\n",
       "    <tr>\n",
       "      <th>440057</th>\n",
       "      <td>324657.3197299169/1593321.3712228332</td>\n",
       "      <td>0.0000</td>\n",
       "      <td>0.0000</td>\n",
       "    </tr>\n",
       "  </tbody>\n",
       "</table>\n",
       "<p>440058 rows × 3 columns</p>\n",
       "</div>"
      ],
      "text/plain": [
       "                                        POINT  FAULT_DISTANCE  WATER_DISTANCE\n",
       "0        312775.2104342669/1544806.8868831748          0.2551          0.0000\n",
       "1        312775.2104342669/1544806.8868831748          0.2551          0.0000\n",
       "2        312775.2104342669/1544806.8868831748          0.2551          0.0000\n",
       "3        312775.2104342669/1544806.8868831748          0.2551          0.0000\n",
       "4         312617.710434453/1544811.8868829866          0.2551          0.0000\n",
       "...                                       ...             ...             ...\n",
       "440053   323961.0261728599/1590074.7667966348          0.1700          0.0303\n",
       "440054    323969.3511357363/1590141.286145186          0.1700          0.0303\n",
       "440055  324195.95361386857/1590271.6516619325          0.1700          0.0455\n",
       "440056   324610.0766557139/1591399.7063857145          0.0850          0.0455\n",
       "440057   324657.3197299169/1593321.3712228332          0.0000          0.0000\n",
       "\n",
       "[440058 rows x 3 columns]"
      ]
     },
     "execution_count": 67,
     "metadata": {},
     "output_type": "execute_result"
    }
   ],
   "source": [
    "distance"
   ]
  },
  {
   "cell_type": "code",
   "execution_count": 68,
   "metadata": {
    "scrolled": true
   },
   "outputs": [],
   "source": [
    "# sample['POINT']\n",
    "# item = sample[0:1]\n",
    "# print(item['POINT'])\n",
    "# item = land_cover[0:1]\n",
    "# print(item['POINT'])"
   ]
  },
  {
   "cell_type": "code",
   "execution_count": 69,
   "metadata": {},
   "outputs": [],
   "source": [
    "# print(sample)"
   ]
  },
  {
   "cell_type": "markdown",
   "metadata": {},
   "source": [
    "<h2>Transformation and Standardization of Land Cover</h2>"
   ]
  },
  {
   "cell_type": "code",
   "execution_count": 70,
   "metadata": {},
   "outputs": [],
   "source": [
    "land_cover = land_cover.sort_values(by=\"ELEVATION_\")"
   ]
  },
  {
   "cell_type": "code",
   "execution_count": 71,
   "metadata": {},
   "outputs": [],
   "source": [
    "land_cover = land_cover.drop(columns=[\"SLOPE_CODE\", \"SLOPE_DESC\", \"ELEVATION_\", \"ASPECT_1\",\"PROVINCE\", \"REGION\", \"lon\", \"lat\"])"
   ]
  },
  {
   "cell_type": "code",
   "execution_count": 72,
   "metadata": {},
   "outputs": [
    {
     "data": {
      "text/html": [
       "<div>\n",
       "<style scoped>\n",
       "    .dataframe tbody tr th:only-of-type {\n",
       "        vertical-align: middle;\n",
       "    }\n",
       "\n",
       "    .dataframe tbody tr th {\n",
       "        vertical-align: top;\n",
       "    }\n",
       "\n",
       "    .dataframe thead th {\n",
       "        text-align: right;\n",
       "    }\n",
       "</style>\n",
       "<table border=\"1\" class=\"dataframe\">\n",
       "  <thead>\n",
       "    <tr style=\"text-align: right;\">\n",
       "      <th></th>\n",
       "      <th>AGG12</th>\n",
       "      <th>HECTARE</th>\n",
       "      <th>POINT</th>\n",
       "    </tr>\n",
       "  </thead>\n",
       "  <tbody>\n",
       "    <tr>\n",
       "      <th>7232</th>\n",
       "      <td>Annual Crop</td>\n",
       "      <td>1420.403039</td>\n",
       "      <td>347545.21043718647/1580276.8869116206</td>\n",
       "    </tr>\n",
       "    <tr>\n",
       "      <th>95695</th>\n",
       "      <td>Built-up</td>\n",
       "      <td>96.943078</td>\n",
       "      <td>294555.2104897396/1573631.8868511345</td>\n",
       "    </tr>\n",
       "    <tr>\n",
       "      <th>99234</th>\n",
       "      <td>Built-up</td>\n",
       "      <td>51.710617</td>\n",
       "      <td>348685.2104335837/1578381.8869137</td>\n",
       "    </tr>\n",
       "    <tr>\n",
       "      <th>163575</th>\n",
       "      <td>Built-up</td>\n",
       "      <td>3978.567453</td>\n",
       "      <td>302985.2104736059/1568241.8868632258</td>\n",
       "    </tr>\n",
       "    <tr>\n",
       "      <th>58548</th>\n",
       "      <td>Annual Crop</td>\n",
       "      <td>1852.088807</td>\n",
       "      <td>346845.2104316448/1575034.3869127638</td>\n",
       "    </tr>\n",
       "    <tr>\n",
       "      <th>...</th>\n",
       "      <td>...</td>\n",
       "      <td>...</td>\n",
       "      <td>...</td>\n",
       "    </tr>\n",
       "    <tr>\n",
       "      <th>214959</th>\n",
       "      <td>Closed Forest</td>\n",
       "      <td>2178.334163</td>\n",
       "      <td>336060.21042086487/1555829.3869068546</td>\n",
       "    </tr>\n",
       "    <tr>\n",
       "      <th>214767</th>\n",
       "      <td>Closed Forest</td>\n",
       "      <td>2178.334163</td>\n",
       "      <td>336887.7104199202/1555831.8869078315</td>\n",
       "    </tr>\n",
       "    <tr>\n",
       "      <th>214766</th>\n",
       "      <td>Closed Forest</td>\n",
       "      <td>2178.334163</td>\n",
       "      <td>321580.2104374261/1555831.8868897585</td>\n",
       "    </tr>\n",
       "    <tr>\n",
       "      <th>215566</th>\n",
       "      <td>Closed Forest</td>\n",
       "      <td>2178.334163</td>\n",
       "      <td>336052.7104208772/1555831.8869068439</td>\n",
       "    </tr>\n",
       "    <tr>\n",
       "      <th>214961</th>\n",
       "      <td>Closed Forest</td>\n",
       "      <td>2178.334163</td>\n",
       "      <td>331970.6958685098/1555513.37507184</td>\n",
       "    </tr>\n",
       "  </tbody>\n",
       "</table>\n",
       "<p>440056 rows × 3 columns</p>\n",
       "</div>"
      ],
      "text/plain": [
       "                AGG12      HECTARE                                  POINT\n",
       "7232      Annual Crop  1420.403039  347545.21043718647/1580276.8869116206\n",
       "95695        Built-up    96.943078   294555.2104897396/1573631.8868511345\n",
       "99234        Built-up    51.710617      348685.2104335837/1578381.8869137\n",
       "163575       Built-up  3978.567453   302985.2104736059/1568241.8868632258\n",
       "58548     Annual Crop  1852.088807   346845.2104316448/1575034.3869127638\n",
       "...               ...          ...                                    ...\n",
       "214959  Closed Forest  2178.334163  336060.21042086487/1555829.3869068546\n",
       "214767  Closed Forest  2178.334163   336887.7104199202/1555831.8869078315\n",
       "214766  Closed Forest  2178.334163   321580.2104374261/1555831.8868897585\n",
       "215566  Closed Forest  2178.334163   336052.7104208772/1555831.8869068439\n",
       "214961  Closed Forest  2178.334163     331970.6958685098/1555513.37507184\n",
       "\n",
       "[440056 rows x 3 columns]"
      ]
     },
     "execution_count": 72,
     "metadata": {},
     "output_type": "execute_result"
    }
   ],
   "source": [
    "land_cover.fillna(0)"
   ]
  },
  {
   "cell_type": "code",
   "execution_count": 73,
   "metadata": {},
   "outputs": [],
   "source": [
    "#transform and scale land cover\n",
    "#scale slope feature\n",
    "land_cover[\"COVER_TYPE\"] = land_cover[\"AGG12\"].apply(getCoverVal)"
   ]
  },
  {
   "cell_type": "code",
   "execution_count": 74,
   "metadata": {},
   "outputs": [],
   "source": [
    "land_cover[\"HECTARE\"] = pd.to_numeric(land_cover[\"HECTARE\"], errors='coerce')"
   ]
  },
  {
   "cell_type": "code",
   "execution_count": 75,
   "metadata": {},
   "outputs": [],
   "source": [
    "land_cover[\"COVER_SIZE\"] = land_cover[\"HECTARE\"].apply(scaleCoverSize)"
   ]
  },
  {
   "cell_type": "code",
   "execution_count": 76,
   "metadata": {},
   "outputs": [],
   "source": [
    "land_cover = land_cover.drop(columns=[\"AGG12\", \"HECTARE\"])"
   ]
  },
  {
   "cell_type": "code",
   "execution_count": null,
   "metadata": {},
   "outputs": [],
   "source": []
  },
  {
   "cell_type": "code",
   "execution_count": 77,
   "metadata": {},
   "outputs": [],
   "source": [
    "# land_cover = land_cover.fillna(\"Uncovered\")\n",
    "# land_cover.max(axis=0)['HECTARE']\n",
    "# land_cover"
   ]
  },
  {
   "cell_type": "code",
   "execution_count": 78,
   "metadata": {},
   "outputs": [],
   "source": [
    "# plt.scatter(land_cover[\"COVER_TYPE\"], land_cover[\"COVER_SIZE\"])\n",
    "# plt.xlabel(\"COVER\")\n",
    "# plt.ylabel(\"COVER_SIZE\")\n",
    "# plt.show()"
   ]
  },
  {
   "cell_type": "code",
   "execution_count": null,
   "metadata": {},
   "outputs": [],
   "source": []
  },
  {
   "cell_type": "code",
   "execution_count": null,
   "metadata": {},
   "outputs": [],
   "source": []
  },
  {
   "cell_type": "markdown",
   "metadata": {},
   "source": [
    "<h2>Transformation and Standardization of Land Use</h2>"
   ]
  },
  {
   "cell_type": "code",
   "execution_count": 79,
   "metadata": {},
   "outputs": [],
   "source": [
    "land_use = land_use.fillna(\"unused\")"
   ]
  },
  {
   "cell_type": "code",
   "execution_count": 80,
   "metadata": {},
   "outputs": [],
   "source": [
    "land_use.drop_duplicates(subset =\"POINT\", inplace = True)"
   ]
  },
  {
   "cell_type": "code",
   "execution_count": 81,
   "metadata": {},
   "outputs": [],
   "source": [
    "land_use[\"LAND_USE_IMPACT\"] = land_use['fclass'].apply(transformLandUse)"
   ]
  },
  {
   "cell_type": "code",
   "execution_count": 82,
   "metadata": {},
   "outputs": [],
   "source": [
    "land_use = land_use.drop(columns=[\"SLOPE_CODE\", \"lon\", \"lat\", \"osm_id\",\"code\",\"fclass\"])"
   ]
  },
  {
   "cell_type": "code",
   "execution_count": 83,
   "metadata": {},
   "outputs": [],
   "source": [
    "# land_use"
   ]
  },
  {
   "cell_type": "code",
   "execution_count": null,
   "metadata": {},
   "outputs": [],
   "source": []
  },
  {
   "cell_type": "markdown",
   "metadata": {},
   "source": [
    "<h2>Merging Land Use and Land Cover to create LULC feature</h2>"
   ]
  },
  {
   "cell_type": "code",
   "execution_count": 84,
   "metadata": {},
   "outputs": [],
   "source": [
    "land_use_cover = pd.merge(land_use, land_cover, on='POINT', how='outer')"
   ]
  },
  {
   "cell_type": "code",
   "execution_count": null,
   "metadata": {},
   "outputs": [],
   "source": []
  },
  {
   "cell_type": "code",
   "execution_count": 85,
   "metadata": {},
   "outputs": [
    {
     "data": {
      "text/html": [
       "<div>\n",
       "<style scoped>\n",
       "    .dataframe tbody tr th:only-of-type {\n",
       "        vertical-align: middle;\n",
       "    }\n",
       "\n",
       "    .dataframe tbody tr th {\n",
       "        vertical-align: top;\n",
       "    }\n",
       "\n",
       "    .dataframe thead th {\n",
       "        text-align: right;\n",
       "    }\n",
       "</style>\n",
       "<table border=\"1\" class=\"dataframe\">\n",
       "  <thead>\n",
       "    <tr style=\"text-align: right;\">\n",
       "      <th></th>\n",
       "      <th>POINT</th>\n",
       "      <th>LAND_USE_IMPACT</th>\n",
       "      <th>COVER_TYPE</th>\n",
       "      <th>COVER_SIZE</th>\n",
       "    </tr>\n",
       "  </thead>\n",
       "  <tbody>\n",
       "    <tr>\n",
       "      <th>0</th>\n",
       "      <td>305570.21046949923/1567281.8868666512</td>\n",
       "      <td>0.75</td>\n",
       "      <td>0.7</td>\n",
       "      <td>0.04</td>\n",
       "    </tr>\n",
       "    <tr>\n",
       "      <th>1</th>\n",
       "      <td>304459.3771374987/1567335.2201986536</td>\n",
       "      <td>0.75</td>\n",
       "      <td>0.7</td>\n",
       "      <td>0.04</td>\n",
       "    </tr>\n",
       "    <tr>\n",
       "      <th>2</th>\n",
       "      <td>303160.21047239075/1567399.3868637525</td>\n",
       "      <td>0.75</td>\n",
       "      <td>0.7</td>\n",
       "      <td>0.04</td>\n",
       "    </tr>\n",
       "    <tr>\n",
       "      <th>3</th>\n",
       "      <td>304515.210470972/1567504.3868653185</td>\n",
       "      <td>0.75</td>\n",
       "      <td>0.7</td>\n",
       "      <td>0.04</td>\n",
       "    </tr>\n",
       "    <tr>\n",
       "      <th>4</th>\n",
       "      <td>304585.2104705224/1567196.886865519</td>\n",
       "      <td>0.75</td>\n",
       "      <td>0.3</td>\n",
       "      <td>0.00</td>\n",
       "    </tr>\n",
       "    <tr>\n",
       "      <th>...</th>\n",
       "      <td>...</td>\n",
       "      <td>...</td>\n",
       "      <td>...</td>\n",
       "      <td>...</td>\n",
       "    </tr>\n",
       "    <tr>\n",
       "      <th>440051</th>\n",
       "      <td>317077.9787715393/1601528.8486751998</td>\n",
       "      <td>0.10</td>\n",
       "      <td>0.3</td>\n",
       "      <td>0.03</td>\n",
       "    </tr>\n",
       "    <tr>\n",
       "      <th>440052</th>\n",
       "      <td>323872.709286964/1588897.3695919872</td>\n",
       "      <td>0.10</td>\n",
       "      <td>0.7</td>\n",
       "      <td>0.00</td>\n",
       "    </tr>\n",
       "    <tr>\n",
       "      <th>440053</th>\n",
       "      <td>323969.3511357363/1590141.286145186</td>\n",
       "      <td>0.10</td>\n",
       "      <td>0.7</td>\n",
       "      <td>0.00</td>\n",
       "    </tr>\n",
       "    <tr>\n",
       "      <th>440054</th>\n",
       "      <td>324610.0766557139/1591399.7063857145</td>\n",
       "      <td>0.10</td>\n",
       "      <td>0.7</td>\n",
       "      <td>0.00</td>\n",
       "    </tr>\n",
       "    <tr>\n",
       "      <th>440055</th>\n",
       "      <td>324657.3197299169/1593321.3712228332</td>\n",
       "      <td>0.10</td>\n",
       "      <td>-1.0</td>\n",
       "      <td>1.00</td>\n",
       "    </tr>\n",
       "  </tbody>\n",
       "</table>\n",
       "<p>440056 rows × 4 columns</p>\n",
       "</div>"
      ],
      "text/plain": [
       "                                        POINT  LAND_USE_IMPACT  COVER_TYPE  \\\n",
       "0       305570.21046949923/1567281.8868666512             0.75         0.7   \n",
       "1        304459.3771374987/1567335.2201986536             0.75         0.7   \n",
       "2       303160.21047239075/1567399.3868637525             0.75         0.7   \n",
       "3         304515.210470972/1567504.3868653185             0.75         0.7   \n",
       "4         304585.2104705224/1567196.886865519             0.75         0.3   \n",
       "...                                       ...              ...         ...   \n",
       "440051   317077.9787715393/1601528.8486751998             0.10         0.3   \n",
       "440052    323872.709286964/1588897.3695919872             0.10         0.7   \n",
       "440053    323969.3511357363/1590141.286145186             0.10         0.7   \n",
       "440054   324610.0766557139/1591399.7063857145             0.10         0.7   \n",
       "440055   324657.3197299169/1593321.3712228332             0.10        -1.0   \n",
       "\n",
       "        COVER_SIZE  \n",
       "0             0.04  \n",
       "1             0.04  \n",
       "2             0.04  \n",
       "3             0.04  \n",
       "4             0.00  \n",
       "...            ...  \n",
       "440051        0.03  \n",
       "440052        0.00  \n",
       "440053        0.00  \n",
       "440054        0.00  \n",
       "440055        1.00  \n",
       "\n",
       "[440056 rows x 4 columns]"
      ]
     },
     "execution_count": 85,
     "metadata": {},
     "output_type": "execute_result"
    }
   ],
   "source": [
    "land_use_cover"
   ]
  },
  {
   "cell_type": "code",
   "execution_count": 86,
   "metadata": {},
   "outputs": [],
   "source": [
    "# land_use_cover.to_csv(r'D:\\COMPLETE THIS!!\\Data Acquired\\CSVs\\scaled_land_cover_and_use.csv',index = None, header=True)"
   ]
  },
  {
   "cell_type": "markdown",
   "metadata": {},
   "source": [
    "<h2> Preprocessing --  Standardization, and Normalization of Lithology</h2>"
   ]
  },
  {
   "cell_type": "code",
   "execution_count": 87,
   "metadata": {},
   "outputs": [],
   "source": [
    "def removeLoc(arr):\n",
    "    for i in range(len(arr)):\n",
    "        print(i, arr[i])\n",
    "        arr[i] = arr[i].split(' ', 1)[1]\n",
    "    print(arr)"
   ]
  },
  {
   "cell_type": "code",
   "execution_count": 88,
   "metadata": {},
   "outputs": [
    {
     "data": {
      "text/html": [
       "<div>\n",
       "<style scoped>\n",
       "    .dataframe tbody tr th:only-of-type {\n",
       "        vertical-align: middle;\n",
       "    }\n",
       "\n",
       "    .dataframe tbody tr th {\n",
       "        vertical-align: top;\n",
       "    }\n",
       "\n",
       "    .dataframe thead th {\n",
       "        text-align: right;\n",
       "    }\n",
       "</style>\n",
       "<table border=\"1\" class=\"dataframe\">\n",
       "  <thead>\n",
       "    <tr style=\"text-align: right;\">\n",
       "      <th></th>\n",
       "      <th>lon</th>\n",
       "      <th>lat</th>\n",
       "      <th>PHILBUO_</th>\n",
       "      <th>PHILBUO_ID</th>\n",
       "      <th>SOILCODE</th>\n",
       "      <th>SOILDESC</th>\n",
       "      <th>IPI</th>\n",
       "      <th>PPI</th>\n",
       "      <th>IPI_CLASS</th>\n",
       "      <th>PPI_CLASS</th>\n",
       "      <th>POINT</th>\n",
       "    </tr>\n",
       "  </thead>\n",
       "  <tbody>\n",
       "    <tr>\n",
       "      <th>0</th>\n",
       "      <td>332745.210486</td>\n",
       "      <td>1.606117e+06</td>\n",
       "      <td>1077</td>\n",
       "      <td>45</td>\n",
       "      <td>45</td>\n",
       "      <td>Mountain soil (undifferentiated)</td>\n",
       "      <td>0</td>\n",
       "      <td>0</td>\n",
       "      <td>undf</td>\n",
       "      <td>undf</td>\n",
       "      <td>332745.2104856225/1606116.8868833247</td>\n",
       "    </tr>\n",
       "    <tr>\n",
       "      <th>1</th>\n",
       "      <td>329410.301399</td>\n",
       "      <td>1.606139e+06</td>\n",
       "      <td>1077</td>\n",
       "      <td>45</td>\n",
       "      <td>45</td>\n",
       "      <td>Mountain soil (undifferentiated)</td>\n",
       "      <td>0</td>\n",
       "      <td>0</td>\n",
       "      <td>undf</td>\n",
       "      <td>undf</td>\n",
       "      <td>329410.3013985607/1606138.8868792974</td>\n",
       "    </tr>\n",
       "    <tr>\n",
       "      <th>2</th>\n",
       "      <td>331347.667384</td>\n",
       "      <td>1.606280e+06</td>\n",
       "      <td>1077</td>\n",
       "      <td>45</td>\n",
       "      <td>45</td>\n",
       "      <td>Mountain soil (undifferentiated)</td>\n",
       "      <td>0</td>\n",
       "      <td>0</td>\n",
       "      <td>undf</td>\n",
       "      <td>undf</td>\n",
       "      <td>331347.6673839743/1606280.1196401897</td>\n",
       "    </tr>\n",
       "    <tr>\n",
       "      <th>3</th>\n",
       "      <td>335713.355644</td>\n",
       "      <td>1.606352e+06</td>\n",
       "      <td>1077</td>\n",
       "      <td>45</td>\n",
       "      <td>45</td>\n",
       "      <td>Mountain soil (undifferentiated)</td>\n",
       "      <td>0</td>\n",
       "      <td>0</td>\n",
       "      <td>undf</td>\n",
       "      <td>undf</td>\n",
       "      <td>335713.3556437961/1606352.330435184</td>\n",
       "    </tr>\n",
       "    <tr>\n",
       "      <th>4</th>\n",
       "      <td>335142.710483</td>\n",
       "      <td>1.606397e+06</td>\n",
       "      <td>1077</td>\n",
       "      <td>45</td>\n",
       "      <td>45</td>\n",
       "      <td>Mountain soil (undifferentiated)</td>\n",
       "      <td>0</td>\n",
       "      <td>0</td>\n",
       "      <td>undf</td>\n",
       "      <td>undf</td>\n",
       "      <td>335142.7104832159/1606396.8868860926</td>\n",
       "    </tr>\n",
       "    <tr>\n",
       "      <th>...</th>\n",
       "      <td>...</td>\n",
       "      <td>...</td>\n",
       "      <td>...</td>\n",
       "      <td>...</td>\n",
       "      <td>...</td>\n",
       "      <td>...</td>\n",
       "      <td>...</td>\n",
       "      <td>...</td>\n",
       "      <td>...</td>\n",
       "      <td>...</td>\n",
       "      <td>...</td>\n",
       "    </tr>\n",
       "    <tr>\n",
       "      <th>440051</th>\n",
       "      <td>308914.097761</td>\n",
       "      <td>1.600930e+06</td>\n",
       "      <td>undf</td>\n",
       "      <td>undf</td>\n",
       "      <td>undf</td>\n",
       "      <td>undf</td>\n",
       "      <td>undf</td>\n",
       "      <td>undf</td>\n",
       "      <td>undf</td>\n",
       "      <td>undf</td>\n",
       "      <td>308914.0977608298/1600930.0763667298</td>\n",
       "    </tr>\n",
       "    <tr>\n",
       "      <th>440052</th>\n",
       "      <td>291027.522497</td>\n",
       "      <td>1.602585e+06</td>\n",
       "      <td>undf</td>\n",
       "      <td>undf</td>\n",
       "      <td>undf</td>\n",
       "      <td>undf</td>\n",
       "      <td>undf</td>\n",
       "      <td>undf</td>\n",
       "      <td>undf</td>\n",
       "      <td>undf</td>\n",
       "      <td>291027.5224966383/1602584.84344388</td>\n",
       "    </tr>\n",
       "    <tr>\n",
       "      <th>440053</th>\n",
       "      <td>292602.011690</td>\n",
       "      <td>1.605569e+06</td>\n",
       "      <td>undf</td>\n",
       "      <td>undf</td>\n",
       "      <td>undf</td>\n",
       "      <td>undf</td>\n",
       "      <td>undf</td>\n",
       "      <td>undf</td>\n",
       "      <td>undf</td>\n",
       "      <td>undf</td>\n",
       "      <td>292602.0116899912/1605569.022336078</td>\n",
       "    </tr>\n",
       "    <tr>\n",
       "      <th>440054</th>\n",
       "      <td>313469.939925</td>\n",
       "      <td>1.576916e+06</td>\n",
       "      <td>undf</td>\n",
       "      <td>undf</td>\n",
       "      <td>undf</td>\n",
       "      <td>undf</td>\n",
       "      <td>undf</td>\n",
       "      <td>undf</td>\n",
       "      <td>undf</td>\n",
       "      <td>undf</td>\n",
       "      <td>313469.9399247705/1576915.8695542628</td>\n",
       "    </tr>\n",
       "    <tr>\n",
       "      <th>440055</th>\n",
       "      <td>341778.828774</td>\n",
       "      <td>1.578119e+06</td>\n",
       "      <td>undf</td>\n",
       "      <td>undf</td>\n",
       "      <td>undf</td>\n",
       "      <td>undf</td>\n",
       "      <td>undf</td>\n",
       "      <td>undf</td>\n",
       "      <td>undf</td>\n",
       "      <td>undf</td>\n",
       "      <td>341778.8287740705/1578118.6129843653</td>\n",
       "    </tr>\n",
       "  </tbody>\n",
       "</table>\n",
       "<p>440056 rows × 11 columns</p>\n",
       "</div>"
      ],
      "text/plain": [
       "                  lon           lat PHILBUO_ PHILBUO_ID SOILCODE  \\\n",
       "0       332745.210486  1.606117e+06     1077         45       45   \n",
       "1       329410.301399  1.606139e+06     1077         45       45   \n",
       "2       331347.667384  1.606280e+06     1077         45       45   \n",
       "3       335713.355644  1.606352e+06     1077         45       45   \n",
       "4       335142.710483  1.606397e+06     1077         45       45   \n",
       "...               ...           ...      ...        ...      ...   \n",
       "440051  308914.097761  1.600930e+06     undf       undf     undf   \n",
       "440052  291027.522497  1.602585e+06     undf       undf     undf   \n",
       "440053  292602.011690  1.605569e+06     undf       undf     undf   \n",
       "440054  313469.939925  1.576916e+06     undf       undf     undf   \n",
       "440055  341778.828774  1.578119e+06     undf       undf     undf   \n",
       "\n",
       "                                SOILDESC   IPI   PPI IPI_CLASS PPI_CLASS  \\\n",
       "0       Mountain soil (undifferentiated)     0     0      undf      undf   \n",
       "1       Mountain soil (undifferentiated)     0     0      undf      undf   \n",
       "2       Mountain soil (undifferentiated)     0     0      undf      undf   \n",
       "3       Mountain soil (undifferentiated)     0     0      undf      undf   \n",
       "4       Mountain soil (undifferentiated)     0     0      undf      undf   \n",
       "...                                  ...   ...   ...       ...       ...   \n",
       "440051                              undf  undf  undf      undf      undf   \n",
       "440052                              undf  undf  undf      undf      undf   \n",
       "440053                              undf  undf  undf      undf      undf   \n",
       "440054                              undf  undf  undf      undf      undf   \n",
       "440055                              undf  undf  undf      undf      undf   \n",
       "\n",
       "                                       POINT  \n",
       "0       332745.2104856225/1606116.8868833247  \n",
       "1       329410.3013985607/1606138.8868792974  \n",
       "2       331347.6673839743/1606280.1196401897  \n",
       "3        335713.3556437961/1606352.330435184  \n",
       "4       335142.7104832159/1606396.8868860926  \n",
       "...                                      ...  \n",
       "440051  308914.0977608298/1600930.0763667298  \n",
       "440052    291027.5224966383/1602584.84344388  \n",
       "440053   292602.0116899912/1605569.022336078  \n",
       "440054  313469.9399247705/1576915.8695542628  \n",
       "440055  341778.8287740705/1578118.6129843653  \n",
       "\n",
       "[440056 rows x 11 columns]"
      ]
     },
     "execution_count": 88,
     "metadata": {},
     "output_type": "execute_result"
    }
   ],
   "source": [
    "soil_type.fillna('undf')"
   ]
  },
  {
   "cell_type": "code",
   "execution_count": 89,
   "metadata": {},
   "outputs": [],
   "source": [
    "soil_types = ['mountain soil', 'sandy clay', 'undf soil', 'clay', 'clay loam',\n",
    "       'clay adobe', 'clay lowland', 'silt loam', 'sandy loam',\n",
    "       'hydrosol', 'loam steep', 'sandy clay loam', 'undf', 'loam',\n",
    "       'silty clay loam', 'clay loam steep', 'fine sandy loam',\n",
    "       'soil undf']\n",
    "\n",
    "#Soil water capacity factor based from USGS\n",
    "soil_water_capacity = {\n",
    "    'mountain soil':2.5, \n",
    "    'sandy clay':1.8, \n",
    "    'undf soil':1, \n",
    "    'clay':1.5, \n",
    "    'clay loam':1.8,\n",
    "    'clay adobe':2.5, \n",
    "    'clay lowland':1.5, \n",
    "    'silt loam':2.5, \n",
    "    'sandy loam':1.4,\n",
    "    'hydrosol':1, \n",
    "    'loam steep':1.4, \n",
    "    'sandy clay loam':1.2, \n",
    "    'undf':1, \n",
    "    'loam':1.8,\n",
    "    'silty clay loam':2, \n",
    "    'clay loam steep':1.5, \n",
    "    'fine sandy loam':1.2,\n",
    "    'soil undf':1\n",
    "}\n",
    "\n",
    "#Soil Cohesion Factor from LANDSLIDE SUSCEPTIBILITY MAPPING TO INFORM LANDUSE MANAGEMENT DECISIONS IN AN ALTERED CLIMATE\n",
    "soil_rel_cohesion = {\n",
    "    'mountain soil':23,\n",
    "    'fine sandy loam':1.2,   \n",
    "    'silt loam':21, \n",
    "    'sandy loam':11.5,\n",
    "    'sandy clay':7.5,\n",
    "    'loam steep':23, \n",
    "    'sandy clay loam':11.5,  \n",
    "    'loam':23,\n",
    "    'silty clay loam':15, \n",
    "    'clay loam steep':18.25,\n",
    "    'clay loam':18.25,\n",
    "    'clay adobe':13.5, \n",
    "    'clay lowland':13.5,\n",
    "    'clay':13.5,\n",
    "    'hydrosol':7.5,\n",
    "    'undf soil':0,\n",
    "    'undf':0,\n",
    "    'soil undf':0    \n",
    "}\n",
    "\n",
    "def getSoilCapacity(soil):\n",
    "    if soil is np.nan:\n",
    "        return 0\n",
    "    return soil_water_capacity[soil] / 2.5\n",
    "\n",
    "def getSoilCohesion(soil):\n",
    "    if soil is np.nan:\n",
    "        return 0\n",
    "    return soil_rel_cohesion[soil] / 23"
   ]
  },
  {
   "cell_type": "code",
   "execution_count": 90,
   "metadata": {},
   "outputs": [
    {
     "data": {
      "text/plain": [
       "0.72"
      ]
     },
     "execution_count": 90,
     "metadata": {},
     "output_type": "execute_result"
    }
   ],
   "source": [
    "getSoilCapacity(\"sandy loam\")\n",
    "getSoilCapacity(\"sandy clay\")"
   ]
  },
  {
   "cell_type": "code",
   "execution_count": 91,
   "metadata": {},
   "outputs": [
    {
     "data": {
      "text/plain": [
       "array(['Mountain soil (undifferentiated)', 'Antipolo sandy clay',\n",
       "       'Antipolo soils (undiferrentiated)', 'Antipolo clay',\n",
       "       'Binangonan clay', 'Marikina clay loam', 'Guadalupe clay adobe',\n",
       "       'Guadalupe clay', 'Bay clay loam / Bantay loam (Rizal)',\n",
       "       'Binangonan clay (Lowland Phase)', 'Candijay clay',\n",
       "       'Quiangua silt loam', 'Antipolo clay loam',\n",
       "       'Pellupandan sandy loam', 'Sibul clay loam', 'Bay clay',\n",
       "       'Paete clay loam', 'Hydrosol', 'Lipa loam, steep phase',\n",
       "       'Carmona clay loam', 'Carmona sandy clay loam',\n",
       "       'Luisiana clay loam', 'Marikina silt loam',\n",
       "       'Carmona clay loam (Steep Phase)', nan, 'Lipa loam',\n",
       "       'Magallanes sandy loam', 'Marikina silty clay loam',\n",
       "       'Calumpang clay', 'Macolod clay loam',\n",
       "       'Macolod clay loam (Steep phase)', 'Tagaytay sandy loam',\n",
       "       'Luisiana sandy clay loam', 'Taal fine sandy loam',\n",
       "       'Macolod soil (undifferentiated', 'Taal loam', 'Tagaytay loam',\n",
       "       'Lipa loam (Deep phase)'], dtype=object)"
      ]
     },
     "execution_count": 91,
     "metadata": {},
     "output_type": "execute_result"
    }
   ],
   "source": [
    "# arr = removeLoc(soil_type[\"SOILDESC\"].unique())\n",
    "\n",
    "# arr = soil_type[\"SOILDESC\"].unique()\n",
    "# len(arr)\n",
    "soil_type[\"SOILDESC\"].unique()"
   ]
  },
  {
   "cell_type": "code",
   "execution_count": 92,
   "metadata": {},
   "outputs": [],
   "source": [
    "soil_type['SOILDESC'] = soil_type['SOILDESC'].map({'Antipolo sandy clay':'sandy clay', 'Mountain soil (undifferentiated)':'mountain soil', \n",
    "                                                  'Antipolo soils (undiferrentiated)':'undf soil', 'Antipolo clay':'clay',\n",
    "       'Binangonan clay':'clay', 'Marikina clay loam':'clay loam', 'Guadalupe clay adobe':'clay adobe',\n",
    "       'Guadalupe clay':'clay', 'Bay clay loam / Bantay loam (Rizal)':'clay loam',\n",
    "       'Binangonan clay (Lowland Phase)':'clay lowland', 'Candijay clay':'clay',\n",
    "       'Quiangua silt loam':'silt loam', 'Antipolo clay loam':'clay loam',\n",
    "       'Pellupandan sandy loam':'sandy loam', 'Sibul clay loam':'clay loam', 'Bay clay':'clay',\n",
    "       'Paete clay loam':'clay loam', 'Hydrosol':'hydrosol', 'Lipa loam, steep phase':'loam steep',\n",
    "       'Carmona clay loam':'clay loam', 'Carmona sandy clay loam':'sandy clay loam',\n",
    "       'Luisiana clay loam':'clay loam', 'Marikina silt loam':'silt loam',\n",
    "       'Carmona clay loam (Steep Phase)':'clay loam', 'Lipa loam':'loam',\n",
    "       'Magallanes sandy loam':'sandy loam', 'Marikina silty clay loam':'silty clay loam',\n",
    "       'Calumpang clay':'clay', 'Macolod clay loam':'clay loam',\n",
    "       'Macolod clay loam (Steep phase)':'clay loam steep', 'Tagaytay sandy loam':'sandy loam',\n",
    "       'Luisiana sandy clay loam':'sandy clay loam', 'Taal fine sandy loam':'fine sandy loam',\n",
    "       'Macolod soil (undifferentiated':'soil undf', 'Taal loam':'loam', 'Tagaytay loam':'loam',\n",
    "       'Lipa loam (Deep phase)':'loam'})"
   ]
  },
  {
   "cell_type": "code",
   "execution_count": 93,
   "metadata": {},
   "outputs": [
    {
     "data": {
      "text/html": [
       "<div>\n",
       "<style scoped>\n",
       "    .dataframe tbody tr th:only-of-type {\n",
       "        vertical-align: middle;\n",
       "    }\n",
       "\n",
       "    .dataframe tbody tr th {\n",
       "        vertical-align: top;\n",
       "    }\n",
       "\n",
       "    .dataframe thead th {\n",
       "        text-align: right;\n",
       "    }\n",
       "</style>\n",
       "<table border=\"1\" class=\"dataframe\">\n",
       "  <thead>\n",
       "    <tr style=\"text-align: right;\">\n",
       "      <th></th>\n",
       "      <th>lon</th>\n",
       "      <th>lat</th>\n",
       "      <th>PHILBUO_</th>\n",
       "      <th>PHILBUO_ID</th>\n",
       "      <th>SOILCODE</th>\n",
       "      <th>SOILDESC</th>\n",
       "      <th>IPI</th>\n",
       "      <th>PPI</th>\n",
       "      <th>IPI_CLASS</th>\n",
       "      <th>PPI_CLASS</th>\n",
       "      <th>POINT</th>\n",
       "    </tr>\n",
       "  </thead>\n",
       "  <tbody>\n",
       "    <tr>\n",
       "      <th>0</th>\n",
       "      <td>332745.210486</td>\n",
       "      <td>1.606117e+06</td>\n",
       "      <td>1077.0</td>\n",
       "      <td>45.0</td>\n",
       "      <td>45.0</td>\n",
       "      <td>mountain soil</td>\n",
       "      <td>0.0</td>\n",
       "      <td>0.0</td>\n",
       "      <td>NaN</td>\n",
       "      <td>NaN</td>\n",
       "      <td>332745.2104856225/1606116.8868833247</td>\n",
       "    </tr>\n",
       "    <tr>\n",
       "      <th>1</th>\n",
       "      <td>329410.301399</td>\n",
       "      <td>1.606139e+06</td>\n",
       "      <td>1077.0</td>\n",
       "      <td>45.0</td>\n",
       "      <td>45.0</td>\n",
       "      <td>mountain soil</td>\n",
       "      <td>0.0</td>\n",
       "      <td>0.0</td>\n",
       "      <td>NaN</td>\n",
       "      <td>NaN</td>\n",
       "      <td>329410.3013985607/1606138.8868792974</td>\n",
       "    </tr>\n",
       "    <tr>\n",
       "      <th>2</th>\n",
       "      <td>331347.667384</td>\n",
       "      <td>1.606280e+06</td>\n",
       "      <td>1077.0</td>\n",
       "      <td>45.0</td>\n",
       "      <td>45.0</td>\n",
       "      <td>mountain soil</td>\n",
       "      <td>0.0</td>\n",
       "      <td>0.0</td>\n",
       "      <td>NaN</td>\n",
       "      <td>NaN</td>\n",
       "      <td>331347.6673839743/1606280.1196401897</td>\n",
       "    </tr>\n",
       "    <tr>\n",
       "      <th>3</th>\n",
       "      <td>335713.355644</td>\n",
       "      <td>1.606352e+06</td>\n",
       "      <td>1077.0</td>\n",
       "      <td>45.0</td>\n",
       "      <td>45.0</td>\n",
       "      <td>mountain soil</td>\n",
       "      <td>0.0</td>\n",
       "      <td>0.0</td>\n",
       "      <td>NaN</td>\n",
       "      <td>NaN</td>\n",
       "      <td>335713.3556437961/1606352.330435184</td>\n",
       "    </tr>\n",
       "    <tr>\n",
       "      <th>4</th>\n",
       "      <td>335142.710483</td>\n",
       "      <td>1.606397e+06</td>\n",
       "      <td>1077.0</td>\n",
       "      <td>45.0</td>\n",
       "      <td>45.0</td>\n",
       "      <td>mountain soil</td>\n",
       "      <td>0.0</td>\n",
       "      <td>0.0</td>\n",
       "      <td>NaN</td>\n",
       "      <td>NaN</td>\n",
       "      <td>335142.7104832159/1606396.8868860926</td>\n",
       "    </tr>\n",
       "    <tr>\n",
       "      <th>...</th>\n",
       "      <td>...</td>\n",
       "      <td>...</td>\n",
       "      <td>...</td>\n",
       "      <td>...</td>\n",
       "      <td>...</td>\n",
       "      <td>...</td>\n",
       "      <td>...</td>\n",
       "      <td>...</td>\n",
       "      <td>...</td>\n",
       "      <td>...</td>\n",
       "      <td>...</td>\n",
       "    </tr>\n",
       "    <tr>\n",
       "      <th>440051</th>\n",
       "      <td>308914.097761</td>\n",
       "      <td>1.600930e+06</td>\n",
       "      <td>NaN</td>\n",
       "      <td>NaN</td>\n",
       "      <td>NaN</td>\n",
       "      <td>NaN</td>\n",
       "      <td>NaN</td>\n",
       "      <td>NaN</td>\n",
       "      <td>NaN</td>\n",
       "      <td>NaN</td>\n",
       "      <td>308914.0977608298/1600930.0763667298</td>\n",
       "    </tr>\n",
       "    <tr>\n",
       "      <th>440052</th>\n",
       "      <td>291027.522497</td>\n",
       "      <td>1.602585e+06</td>\n",
       "      <td>NaN</td>\n",
       "      <td>NaN</td>\n",
       "      <td>NaN</td>\n",
       "      <td>NaN</td>\n",
       "      <td>NaN</td>\n",
       "      <td>NaN</td>\n",
       "      <td>NaN</td>\n",
       "      <td>NaN</td>\n",
       "      <td>291027.5224966383/1602584.84344388</td>\n",
       "    </tr>\n",
       "    <tr>\n",
       "      <th>440053</th>\n",
       "      <td>292602.011690</td>\n",
       "      <td>1.605569e+06</td>\n",
       "      <td>NaN</td>\n",
       "      <td>NaN</td>\n",
       "      <td>NaN</td>\n",
       "      <td>NaN</td>\n",
       "      <td>NaN</td>\n",
       "      <td>NaN</td>\n",
       "      <td>NaN</td>\n",
       "      <td>NaN</td>\n",
       "      <td>292602.0116899912/1605569.022336078</td>\n",
       "    </tr>\n",
       "    <tr>\n",
       "      <th>440054</th>\n",
       "      <td>313469.939925</td>\n",
       "      <td>1.576916e+06</td>\n",
       "      <td>NaN</td>\n",
       "      <td>NaN</td>\n",
       "      <td>NaN</td>\n",
       "      <td>NaN</td>\n",
       "      <td>NaN</td>\n",
       "      <td>NaN</td>\n",
       "      <td>NaN</td>\n",
       "      <td>NaN</td>\n",
       "      <td>313469.9399247705/1576915.8695542628</td>\n",
       "    </tr>\n",
       "    <tr>\n",
       "      <th>440055</th>\n",
       "      <td>341778.828774</td>\n",
       "      <td>1.578119e+06</td>\n",
       "      <td>NaN</td>\n",
       "      <td>NaN</td>\n",
       "      <td>NaN</td>\n",
       "      <td>NaN</td>\n",
       "      <td>NaN</td>\n",
       "      <td>NaN</td>\n",
       "      <td>NaN</td>\n",
       "      <td>NaN</td>\n",
       "      <td>341778.8287740705/1578118.6129843653</td>\n",
       "    </tr>\n",
       "  </tbody>\n",
       "</table>\n",
       "<p>440056 rows × 11 columns</p>\n",
       "</div>"
      ],
      "text/plain": [
       "                  lon           lat  PHILBUO_  PHILBUO_ID  SOILCODE  \\\n",
       "0       332745.210486  1.606117e+06    1077.0        45.0      45.0   \n",
       "1       329410.301399  1.606139e+06    1077.0        45.0      45.0   \n",
       "2       331347.667384  1.606280e+06    1077.0        45.0      45.0   \n",
       "3       335713.355644  1.606352e+06    1077.0        45.0      45.0   \n",
       "4       335142.710483  1.606397e+06    1077.0        45.0      45.0   \n",
       "...               ...           ...       ...         ...       ...   \n",
       "440051  308914.097761  1.600930e+06       NaN         NaN       NaN   \n",
       "440052  291027.522497  1.602585e+06       NaN         NaN       NaN   \n",
       "440053  292602.011690  1.605569e+06       NaN         NaN       NaN   \n",
       "440054  313469.939925  1.576916e+06       NaN         NaN       NaN   \n",
       "440055  341778.828774  1.578119e+06       NaN         NaN       NaN   \n",
       "\n",
       "             SOILDESC  IPI  PPI IPI_CLASS  PPI_CLASS  \\\n",
       "0       mountain soil  0.0  0.0       NaN        NaN   \n",
       "1       mountain soil  0.0  0.0       NaN        NaN   \n",
       "2       mountain soil  0.0  0.0       NaN        NaN   \n",
       "3       mountain soil  0.0  0.0       NaN        NaN   \n",
       "4       mountain soil  0.0  0.0       NaN        NaN   \n",
       "...               ...  ...  ...       ...        ...   \n",
       "440051            NaN  NaN  NaN       NaN        NaN   \n",
       "440052            NaN  NaN  NaN       NaN        NaN   \n",
       "440053            NaN  NaN  NaN       NaN        NaN   \n",
       "440054            NaN  NaN  NaN       NaN        NaN   \n",
       "440055            NaN  NaN  NaN       NaN        NaN   \n",
       "\n",
       "                                       POINT  \n",
       "0       332745.2104856225/1606116.8868833247  \n",
       "1       329410.3013985607/1606138.8868792974  \n",
       "2       331347.6673839743/1606280.1196401897  \n",
       "3        335713.3556437961/1606352.330435184  \n",
       "4       335142.7104832159/1606396.8868860926  \n",
       "...                                      ...  \n",
       "440051  308914.0977608298/1600930.0763667298  \n",
       "440052    291027.5224966383/1602584.84344388  \n",
       "440053   292602.0116899912/1605569.022336078  \n",
       "440054  313469.9399247705/1576915.8695542628  \n",
       "440055  341778.8287740705/1578118.6129843653  \n",
       "\n",
       "[440056 rows x 11 columns]"
      ]
     },
     "execution_count": 93,
     "metadata": {},
     "output_type": "execute_result"
    }
   ],
   "source": [
    "soil_type"
   ]
  },
  {
   "cell_type": "code",
   "execution_count": 94,
   "metadata": {},
   "outputs": [],
   "source": [
    "soil_type = soil_type.drop(columns=[\"lon\", \"lat\", \"PHILBUO_\",\"PHILBUO_ID\",\"SOILCODE\",\"IPI\",\"PPI\",\"IPI_CLASS\",\"PPI_CLASS\"])"
   ]
  },
  {
   "cell_type": "code",
   "execution_count": 95,
   "metadata": {},
   "outputs": [],
   "source": [
    "soil_type['SOIL_H2O'] = soil_type['SOILDESC'].apply(getSoilCapacity)"
   ]
  },
  {
   "cell_type": "code",
   "execution_count": 96,
   "metadata": {},
   "outputs": [],
   "source": [
    "soil_type['SOIL_COHESION'] = soil_type['SOILDESC'].apply(getSoilCohesion)"
   ]
  },
  {
   "cell_type": "code",
   "execution_count": null,
   "metadata": {},
   "outputs": [],
   "source": []
  },
  {
   "cell_type": "code",
   "execution_count": 97,
   "metadata": {},
   "outputs": [],
   "source": [
    "soil_type = soil_type.drop(columns=[\"SOILDESC\"])"
   ]
  },
  {
   "cell_type": "code",
   "execution_count": null,
   "metadata": {},
   "outputs": [],
   "source": []
  },
  {
   "cell_type": "code",
   "execution_count": 98,
   "metadata": {},
   "outputs": [
    {
     "data": {
      "text/html": [
       "<div>\n",
       "<style scoped>\n",
       "    .dataframe tbody tr th:only-of-type {\n",
       "        vertical-align: middle;\n",
       "    }\n",
       "\n",
       "    .dataframe tbody tr th {\n",
       "        vertical-align: top;\n",
       "    }\n",
       "\n",
       "    .dataframe thead th {\n",
       "        text-align: right;\n",
       "    }\n",
       "</style>\n",
       "<table border=\"1\" class=\"dataframe\">\n",
       "  <thead>\n",
       "    <tr style=\"text-align: right;\">\n",
       "      <th></th>\n",
       "      <th>POINT</th>\n",
       "      <th>SOIL_H2O</th>\n",
       "      <th>SOIL_COHESION</th>\n",
       "    </tr>\n",
       "  </thead>\n",
       "  <tbody>\n",
       "    <tr>\n",
       "      <th>0</th>\n",
       "      <td>332745.2104856225/1606116.8868833247</td>\n",
       "      <td>1.0</td>\n",
       "      <td>1.0</td>\n",
       "    </tr>\n",
       "    <tr>\n",
       "      <th>1</th>\n",
       "      <td>329410.3013985607/1606138.8868792974</td>\n",
       "      <td>1.0</td>\n",
       "      <td>1.0</td>\n",
       "    </tr>\n",
       "    <tr>\n",
       "      <th>2</th>\n",
       "      <td>331347.6673839743/1606280.1196401897</td>\n",
       "      <td>1.0</td>\n",
       "      <td>1.0</td>\n",
       "    </tr>\n",
       "    <tr>\n",
       "      <th>3</th>\n",
       "      <td>335713.3556437961/1606352.330435184</td>\n",
       "      <td>1.0</td>\n",
       "      <td>1.0</td>\n",
       "    </tr>\n",
       "    <tr>\n",
       "      <th>4</th>\n",
       "      <td>335142.7104832159/1606396.8868860926</td>\n",
       "      <td>1.0</td>\n",
       "      <td>1.0</td>\n",
       "    </tr>\n",
       "    <tr>\n",
       "      <th>...</th>\n",
       "      <td>...</td>\n",
       "      <td>...</td>\n",
       "      <td>...</td>\n",
       "    </tr>\n",
       "    <tr>\n",
       "      <th>440051</th>\n",
       "      <td>308914.0977608298/1600930.0763667298</td>\n",
       "      <td>0.0</td>\n",
       "      <td>0.0</td>\n",
       "    </tr>\n",
       "    <tr>\n",
       "      <th>440052</th>\n",
       "      <td>291027.5224966383/1602584.84344388</td>\n",
       "      <td>0.0</td>\n",
       "      <td>0.0</td>\n",
       "    </tr>\n",
       "    <tr>\n",
       "      <th>440053</th>\n",
       "      <td>292602.0116899912/1605569.022336078</td>\n",
       "      <td>0.0</td>\n",
       "      <td>0.0</td>\n",
       "    </tr>\n",
       "    <tr>\n",
       "      <th>440054</th>\n",
       "      <td>313469.9399247705/1576915.8695542628</td>\n",
       "      <td>0.0</td>\n",
       "      <td>0.0</td>\n",
       "    </tr>\n",
       "    <tr>\n",
       "      <th>440055</th>\n",
       "      <td>341778.8287740705/1578118.6129843653</td>\n",
       "      <td>0.0</td>\n",
       "      <td>0.0</td>\n",
       "    </tr>\n",
       "  </tbody>\n",
       "</table>\n",
       "<p>440056 rows × 3 columns</p>\n",
       "</div>"
      ],
      "text/plain": [
       "                                       POINT  SOIL_H2O  SOIL_COHESION\n",
       "0       332745.2104856225/1606116.8868833247       1.0            1.0\n",
       "1       329410.3013985607/1606138.8868792974       1.0            1.0\n",
       "2       331347.6673839743/1606280.1196401897       1.0            1.0\n",
       "3        335713.3556437961/1606352.330435184       1.0            1.0\n",
       "4       335142.7104832159/1606396.8868860926       1.0            1.0\n",
       "...                                      ...       ...            ...\n",
       "440051  308914.0977608298/1600930.0763667298       0.0            0.0\n",
       "440052    291027.5224966383/1602584.84344388       0.0            0.0\n",
       "440053   292602.0116899912/1605569.022336078       0.0            0.0\n",
       "440054  313469.9399247705/1576915.8695542628       0.0            0.0\n",
       "440055  341778.8287740705/1578118.6129843653       0.0            0.0\n",
       "\n",
       "[440056 rows x 3 columns]"
      ]
     },
     "execution_count": 98,
     "metadata": {},
     "output_type": "execute_result"
    }
   ],
   "source": [
    "# soil_type.to_csv(r'D:\\COMPLETE THIS!!\\Data Acquired\\CSVs\\scaled_soil_features.csv',index = None, header=True)\n",
    "soil_type"
   ]
  },
  {
   "cell_type": "code",
   "execution_count": 99,
   "metadata": {},
   "outputs": [],
   "source": [
    "soil_type = soil_type.round(2)"
   ]
  },
  {
   "cell_type": "code",
   "execution_count": 100,
   "metadata": {},
   "outputs": [
    {
     "data": {
      "text/plain": [
       "array([1.  , 0.72, 0.4 , 0.6 , 0.56, 0.48, 0.  , 0.8 ])"
      ]
     },
     "execution_count": 100,
     "metadata": {},
     "output_type": "execute_result"
    }
   ],
   "source": [
    "soil_type['SOIL_H2O'].unique()"
   ]
  },
  {
   "cell_type": "code",
   "execution_count": 101,
   "metadata": {},
   "outputs": [
    {
     "data": {
      "text/plain": [
       "array([1.  , 0.33, 0.  , 0.59, 0.79, 0.91, 0.5 , 0.65, 0.05])"
      ]
     },
     "execution_count": 101,
     "metadata": {},
     "output_type": "execute_result"
    }
   ],
   "source": [
    "soil_type['SOIL_COHESION'].unique()"
   ]
  },
  {
   "cell_type": "code",
   "execution_count": null,
   "metadata": {},
   "outputs": [],
   "source": []
  },
  {
   "cell_type": "code",
   "execution_count": 102,
   "metadata": {},
   "outputs": [],
   "source": [
    "#LAND TYPE \n",
    "# print(land_type['GLG'].unique())\n",
    "# print(land_type['GEN_GLG'].unique())\n",
    "# land_type = land_type.drop(columns=[\"lon\", \"lat\", \"TYPE\"])\n",
    "#  print(land_type)\n",
    "    \n",
    "# print(land_type.max(axis=0)['RRP250GL_'])\n",
    "# print(land_type.min(axis=0)['RRP250GL_'])\n",
    "# print(land_type.max(axis=0)['RRP250GL_I'])\n",
    "# print(land_type.min(axis=0)['RRP250GL_I'])\n",
    "# land.filter([\"\"])"
   ]
  },
  {
   "cell_type": "code",
   "execution_count": null,
   "metadata": {},
   "outputs": [],
   "source": []
  },
  {
   "cell_type": "code",
   "execution_count": 103,
   "metadata": {},
   "outputs": [],
   "source": [
    "land_use_cover_soil = pd.merge(soil_type, land_use_cover, on='POINT', how='left')"
   ]
  },
  {
   "cell_type": "code",
   "execution_count": 104,
   "metadata": {},
   "outputs": [
    {
     "data": {
      "text/html": [
       "<div>\n",
       "<style scoped>\n",
       "    .dataframe tbody tr th:only-of-type {\n",
       "        vertical-align: middle;\n",
       "    }\n",
       "\n",
       "    .dataframe tbody tr th {\n",
       "        vertical-align: top;\n",
       "    }\n",
       "\n",
       "    .dataframe thead th {\n",
       "        text-align: right;\n",
       "    }\n",
       "</style>\n",
       "<table border=\"1\" class=\"dataframe\">\n",
       "  <thead>\n",
       "    <tr style=\"text-align: right;\">\n",
       "      <th></th>\n",
       "      <th>POINT</th>\n",
       "      <th>SOIL_H2O</th>\n",
       "      <th>SOIL_COHESION</th>\n",
       "      <th>LAND_USE_IMPACT</th>\n",
       "      <th>COVER_TYPE</th>\n",
       "      <th>COVER_SIZE</th>\n",
       "    </tr>\n",
       "  </thead>\n",
       "  <tbody>\n",
       "    <tr>\n",
       "      <th>0</th>\n",
       "      <td>332745.2104856225/1606116.8868833247</td>\n",
       "      <td>1.0</td>\n",
       "      <td>1.0</td>\n",
       "      <td>0.1</td>\n",
       "      <td>1.0</td>\n",
       "      <td>0.0</td>\n",
       "    </tr>\n",
       "    <tr>\n",
       "      <th>1</th>\n",
       "      <td>329410.3013985607/1606138.8868792974</td>\n",
       "      <td>1.0</td>\n",
       "      <td>1.0</td>\n",
       "      <td>0.1</td>\n",
       "      <td>1.0</td>\n",
       "      <td>0.0</td>\n",
       "    </tr>\n",
       "    <tr>\n",
       "      <th>2</th>\n",
       "      <td>331347.6673839743/1606280.1196401897</td>\n",
       "      <td>1.0</td>\n",
       "      <td>1.0</td>\n",
       "      <td>0.1</td>\n",
       "      <td>1.0</td>\n",
       "      <td>0.0</td>\n",
       "    </tr>\n",
       "    <tr>\n",
       "      <th>3</th>\n",
       "      <td>335713.3556437961/1606352.330435184</td>\n",
       "      <td>1.0</td>\n",
       "      <td>1.0</td>\n",
       "      <td>0.1</td>\n",
       "      <td>1.0</td>\n",
       "      <td>0.0</td>\n",
       "    </tr>\n",
       "    <tr>\n",
       "      <th>4</th>\n",
       "      <td>335142.7104832159/1606396.8868860926</td>\n",
       "      <td>1.0</td>\n",
       "      <td>1.0</td>\n",
       "      <td>0.1</td>\n",
       "      <td>1.0</td>\n",
       "      <td>0.0</td>\n",
       "    </tr>\n",
       "    <tr>\n",
       "      <th>...</th>\n",
       "      <td>...</td>\n",
       "      <td>...</td>\n",
       "      <td>...</td>\n",
       "      <td>...</td>\n",
       "      <td>...</td>\n",
       "      <td>...</td>\n",
       "    </tr>\n",
       "    <tr>\n",
       "      <th>440053</th>\n",
       "      <td>308914.0977608298/1600930.0763667298</td>\n",
       "      <td>0.0</td>\n",
       "      <td>0.0</td>\n",
       "      <td>0.5</td>\n",
       "      <td>0.0</td>\n",
       "      <td>0.0</td>\n",
       "    </tr>\n",
       "    <tr>\n",
       "      <th>440054</th>\n",
       "      <td>291027.5224966383/1602584.84344388</td>\n",
       "      <td>0.0</td>\n",
       "      <td>0.0</td>\n",
       "      <td>0.5</td>\n",
       "      <td>0.0</td>\n",
       "      <td>0.0</td>\n",
       "    </tr>\n",
       "    <tr>\n",
       "      <th>440055</th>\n",
       "      <td>292602.0116899912/1605569.022336078</td>\n",
       "      <td>0.0</td>\n",
       "      <td>0.0</td>\n",
       "      <td>0.1</td>\n",
       "      <td>-1.0</td>\n",
       "      <td>1.0</td>\n",
       "    </tr>\n",
       "    <tr>\n",
       "      <th>440056</th>\n",
       "      <td>313469.9399247705/1576915.8695542628</td>\n",
       "      <td>0.0</td>\n",
       "      <td>0.0</td>\n",
       "      <td>0.1</td>\n",
       "      <td>-1.0</td>\n",
       "      <td>1.0</td>\n",
       "    </tr>\n",
       "    <tr>\n",
       "      <th>440057</th>\n",
       "      <td>341778.8287740705/1578118.6129843653</td>\n",
       "      <td>0.0</td>\n",
       "      <td>0.0</td>\n",
       "      <td>0.1</td>\n",
       "      <td>0.7</td>\n",
       "      <td>0.0</td>\n",
       "    </tr>\n",
       "  </tbody>\n",
       "</table>\n",
       "<p>440058 rows × 6 columns</p>\n",
       "</div>"
      ],
      "text/plain": [
       "                                       POINT  SOIL_H2O  SOIL_COHESION  \\\n",
       "0       332745.2104856225/1606116.8868833247       1.0            1.0   \n",
       "1       329410.3013985607/1606138.8868792974       1.0            1.0   \n",
       "2       331347.6673839743/1606280.1196401897       1.0            1.0   \n",
       "3        335713.3556437961/1606352.330435184       1.0            1.0   \n",
       "4       335142.7104832159/1606396.8868860926       1.0            1.0   \n",
       "...                                      ...       ...            ...   \n",
       "440053  308914.0977608298/1600930.0763667298       0.0            0.0   \n",
       "440054    291027.5224966383/1602584.84344388       0.0            0.0   \n",
       "440055   292602.0116899912/1605569.022336078       0.0            0.0   \n",
       "440056  313469.9399247705/1576915.8695542628       0.0            0.0   \n",
       "440057  341778.8287740705/1578118.6129843653       0.0            0.0   \n",
       "\n",
       "        LAND_USE_IMPACT  COVER_TYPE  COVER_SIZE  \n",
       "0                   0.1         1.0         0.0  \n",
       "1                   0.1         1.0         0.0  \n",
       "2                   0.1         1.0         0.0  \n",
       "3                   0.1         1.0         0.0  \n",
       "4                   0.1         1.0         0.0  \n",
       "...                 ...         ...         ...  \n",
       "440053              0.5         0.0         0.0  \n",
       "440054              0.5         0.0         0.0  \n",
       "440055              0.1        -1.0         1.0  \n",
       "440056              0.1        -1.0         1.0  \n",
       "440057              0.1         0.7         0.0  \n",
       "\n",
       "[440058 rows x 6 columns]"
      ]
     },
     "execution_count": 104,
     "metadata": {},
     "output_type": "execute_result"
    }
   ],
   "source": [
    "land_use_cover_soil"
   ]
  },
  {
   "cell_type": "code",
   "execution_count": null,
   "metadata": {},
   "outputs": [],
   "source": []
  },
  {
   "cell_type": "code",
   "execution_count": null,
   "metadata": {
    "scrolled": true
   },
   "outputs": [],
   "source": []
  },
  {
   "cell_type": "code",
   "execution_count": 105,
   "metadata": {},
   "outputs": [],
   "source": [
    "# sample = sample.sort_values(by=\"ELEVATION_1\")\n",
    "# print(sample)\n",
    "#sample.max(axis=0)['ASPECT_1']\n",
    "#sample.min(axis=0)['ASPECT_1']"
   ]
  },
  {
   "cell_type": "code",
   "execution_count": null,
   "metadata": {},
   "outputs": [],
   "source": []
  },
  {
   "cell_type": "code",
   "execution_count": null,
   "metadata": {},
   "outputs": [],
   "source": []
  },
  {
   "cell_type": "code",
   "execution_count": null,
   "metadata": {},
   "outputs": [],
   "source": [
    " "
   ]
  },
  {
   "cell_type": "code",
   "execution_count": null,
   "metadata": {},
   "outputs": [],
   "source": []
  },
  {
   "cell_type": "markdown",
   "metadata": {},
   "source": [
    "<h2>Normalization of ASPECT values</h2>"
   ]
  },
  {
   "cell_type": "code",
   "execution_count": 106,
   "metadata": {},
   "outputs": [],
   "source": [
    "#Transform ASPECT Value \n",
    "sample['ASPECT_CODE_16'] = sample['ASPECT_1'].apply(degToCompass16)\n",
    "\n",
    "#Scale ASPECT transformed Value\n",
    "sample['ASPECT_CODE_16_VAL'] = sample['ASPECT_CODE_16'].apply(dir16ToVal)"
   ]
  },
  {
   "cell_type": "code",
   "execution_count": 107,
   "metadata": {},
   "outputs": [],
   "source": [
    "sample = sample.drop(columns=[\"ASPECT_CODE_16\"])"
   ]
  },
  {
   "cell_type": "code",
   "execution_count": 108,
   "metadata": {},
   "outputs": [
    {
     "data": {
      "text/html": [
       "<div>\n",
       "<style scoped>\n",
       "    .dataframe tbody tr th:only-of-type {\n",
       "        vertical-align: middle;\n",
       "    }\n",
       "\n",
       "    .dataframe tbody tr th {\n",
       "        vertical-align: top;\n",
       "    }\n",
       "\n",
       "    .dataframe thead th {\n",
       "        text-align: right;\n",
       "    }\n",
       "</style>\n",
       "<table border=\"1\" class=\"dataframe\">\n",
       "  <thead>\n",
       "    <tr style=\"text-align: right;\">\n",
       "      <th></th>\n",
       "      <th>SLOPE_CODE</th>\n",
       "      <th>SLOPE_DESC</th>\n",
       "      <th>ASPECT_1</th>\n",
       "      <th>NAMRIA_SLOPE_1</th>\n",
       "      <th>TRI_1</th>\n",
       "      <th>lon</th>\n",
       "      <th>lat</th>\n",
       "      <th>ELEVATION_1</th>\n",
       "      <th>POINT</th>\n",
       "      <th>ASPECT_CODE_16_VAL</th>\n",
       "    </tr>\n",
       "  </thead>\n",
       "  <tbody>\n",
       "    <tr>\n",
       "      <th>0</th>\n",
       "      <td>A</td>\n",
       "      <td>0% to 8% Slope - Level to Undulating</td>\n",
       "      <td>133.567902</td>\n",
       "      <td>2546379.75</td>\n",
       "      <td>0.125</td>\n",
       "      <td>312775.210434</td>\n",
       "      <td>1.544807e+06</td>\n",
       "      <td>323</td>\n",
       "      <td>312775.2104342669/1544806.8868831748</td>\n",
       "      <td>0.3150</td>\n",
       "    </tr>\n",
       "    <tr>\n",
       "      <th>1</th>\n",
       "      <td>A</td>\n",
       "      <td>0% to 8% Slope - Level to Undulating</td>\n",
       "      <td>150.255127</td>\n",
       "      <td>2176809.50</td>\n",
       "      <td>0.500</td>\n",
       "      <td>312617.710434</td>\n",
       "      <td>1.544812e+06</td>\n",
       "      <td>344</td>\n",
       "      <td>312617.710434453/1544811.8868829866</td>\n",
       "      <td>0.2925</td>\n",
       "    </tr>\n",
       "    <tr>\n",
       "      <th>2</th>\n",
       "      <td>A</td>\n",
       "      <td>0% to 8% Slope - Level to Undulating</td>\n",
       "      <td>146.768280</td>\n",
       "      <td>1560144.25</td>\n",
       "      <td>-0.375</td>\n",
       "      <td>312590.210434</td>\n",
       "      <td>1.544817e+06</td>\n",
       "      <td>346</td>\n",
       "      <td>312590.21043448924/1544816.8868829524</td>\n",
       "      <td>0.2925</td>\n",
       "    </tr>\n",
       "    <tr>\n",
       "      <th>3</th>\n",
       "      <td>A</td>\n",
       "      <td>0% to 8% Slope - Level to Undulating</td>\n",
       "      <td>27.181110</td>\n",
       "      <td>3743394.25</td>\n",
       "      <td>-2.125</td>\n",
       "      <td>312885.210434</td>\n",
       "      <td>1.544837e+06</td>\n",
       "      <td>308</td>\n",
       "      <td>312885.2104341786/1544836.886883291</td>\n",
       "      <td>0.0675</td>\n",
       "    </tr>\n",
       "    <tr>\n",
       "      <th>4</th>\n",
       "      <td>A</td>\n",
       "      <td>0% to 8% Slope - Level to Undulating</td>\n",
       "      <td>4.236397</td>\n",
       "      <td>4873315.00</td>\n",
       "      <td>-5.125</td>\n",
       "      <td>312905.210434</td>\n",
       "      <td>1.544852e+06</td>\n",
       "      <td>303</td>\n",
       "      <td>312905.21043417236/1544851.8868833103</td>\n",
       "      <td>0.0900</td>\n",
       "    </tr>\n",
       "    <tr>\n",
       "      <th>...</th>\n",
       "      <td>...</td>\n",
       "      <td>...</td>\n",
       "      <td>...</td>\n",
       "      <td>...</td>\n",
       "      <td>...</td>\n",
       "      <td>...</td>\n",
       "      <td>...</td>\n",
       "      <td>...</td>\n",
       "      <td>...</td>\n",
       "      <td>...</td>\n",
       "    </tr>\n",
       "    <tr>\n",
       "      <th>440051</th>\n",
       "      <td>E</td>\n",
       "      <td>Above 50% Slope - Mountainous</td>\n",
       "      <td>182.231171</td>\n",
       "      <td>3467628.75</td>\n",
       "      <td>0.125</td>\n",
       "      <td>323969.351136</td>\n",
       "      <td>1.590141e+06</td>\n",
       "      <td>443</td>\n",
       "      <td>323969.3511357363/1590141.286145186</td>\n",
       "      <td>0.2700</td>\n",
       "    </tr>\n",
       "    <tr>\n",
       "      <th>440052</th>\n",
       "      <td>E</td>\n",
       "      <td>Above 50% Slope - Mountainous</td>\n",
       "      <td>41.748055</td>\n",
       "      <td>5609318.00</td>\n",
       "      <td>0.250</td>\n",
       "      <td>324195.953614</td>\n",
       "      <td>1.590272e+06</td>\n",
       "      <td>366</td>\n",
       "      <td>324195.95361386857/1590271.6516619325</td>\n",
       "      <td>0.0450</td>\n",
       "    </tr>\n",
       "    <tr>\n",
       "      <th>440053</th>\n",
       "      <td>E</td>\n",
       "      <td>Above 50% Slope - Mountainous</td>\n",
       "      <td>148.706970</td>\n",
       "      <td>2685712.25</td>\n",
       "      <td>-3.250</td>\n",
       "      <td>324610.076656</td>\n",
       "      <td>1.591400e+06</td>\n",
       "      <td>443</td>\n",
       "      <td>324610.0766557139/1591399.7063857145</td>\n",
       "      <td>0.2925</td>\n",
       "    </tr>\n",
       "    <tr>\n",
       "      <th>440054</th>\n",
       "      <td>E</td>\n",
       "      <td>Above 50% Slope - Mountainous</td>\n",
       "      <td>24.695526</td>\n",
       "      <td>6785606.00</td>\n",
       "      <td>0.750</td>\n",
       "      <td>324657.319730</td>\n",
       "      <td>1.593321e+06</td>\n",
       "      <td>282</td>\n",
       "      <td>324657.3197299169/1593321.3712228332</td>\n",
       "      <td>0.0675</td>\n",
       "    </tr>\n",
       "    <tr>\n",
       "      <th>440055</th>\n",
       "      <td>E</td>\n",
       "      <td>Above 50% Slope - Mountainous</td>\n",
       "      <td>108.434952</td>\n",
       "      <td>284605.00</td>\n",
       "      <td>1.750</td>\n",
       "      <td>296912.260781</td>\n",
       "      <td>1.608455e+06</td>\n",
       "      <td>9</td>\n",
       "      <td>296912.2607805232/1608454.529278667</td>\n",
       "      <td>0.3375</td>\n",
       "    </tr>\n",
       "  </tbody>\n",
       "</table>\n",
       "<p>440056 rows × 10 columns</p>\n",
       "</div>"
      ],
      "text/plain": [
       "       SLOPE_CODE                            SLOPE_DESC    ASPECT_1  \\\n",
       "0               A  0% to 8% Slope - Level to Undulating  133.567902   \n",
       "1               A  0% to 8% Slope - Level to Undulating  150.255127   \n",
       "2               A  0% to 8% Slope - Level to Undulating  146.768280   \n",
       "3               A  0% to 8% Slope - Level to Undulating   27.181110   \n",
       "4               A  0% to 8% Slope - Level to Undulating    4.236397   \n",
       "...           ...                                   ...         ...   \n",
       "440051          E         Above 50% Slope - Mountainous  182.231171   \n",
       "440052          E         Above 50% Slope - Mountainous   41.748055   \n",
       "440053          E         Above 50% Slope - Mountainous  148.706970   \n",
       "440054          E         Above 50% Slope - Mountainous   24.695526   \n",
       "440055          E         Above 50% Slope - Mountainous  108.434952   \n",
       "\n",
       "        NAMRIA_SLOPE_1  TRI_1            lon           lat  ELEVATION_1  \\\n",
       "0           2546379.75  0.125  312775.210434  1.544807e+06          323   \n",
       "1           2176809.50  0.500  312617.710434  1.544812e+06          344   \n",
       "2           1560144.25 -0.375  312590.210434  1.544817e+06          346   \n",
       "3           3743394.25 -2.125  312885.210434  1.544837e+06          308   \n",
       "4           4873315.00 -5.125  312905.210434  1.544852e+06          303   \n",
       "...                ...    ...            ...           ...          ...   \n",
       "440051      3467628.75  0.125  323969.351136  1.590141e+06          443   \n",
       "440052      5609318.00  0.250  324195.953614  1.590272e+06          366   \n",
       "440053      2685712.25 -3.250  324610.076656  1.591400e+06          443   \n",
       "440054      6785606.00  0.750  324657.319730  1.593321e+06          282   \n",
       "440055       284605.00  1.750  296912.260781  1.608455e+06            9   \n",
       "\n",
       "                                        POINT  ASPECT_CODE_16_VAL  \n",
       "0        312775.2104342669/1544806.8868831748              0.3150  \n",
       "1         312617.710434453/1544811.8868829866              0.2925  \n",
       "2       312590.21043448924/1544816.8868829524              0.2925  \n",
       "3         312885.2104341786/1544836.886883291              0.0675  \n",
       "4       312905.21043417236/1544851.8868833103              0.0900  \n",
       "...                                       ...                 ...  \n",
       "440051    323969.3511357363/1590141.286145186              0.2700  \n",
       "440052  324195.95361386857/1590271.6516619325              0.0450  \n",
       "440053   324610.0766557139/1591399.7063857145              0.2925  \n",
       "440054   324657.3197299169/1593321.3712228332              0.0675  \n",
       "440055    296912.2607805232/1608454.529278667              0.3375  \n",
       "\n",
       "[440056 rows x 10 columns]"
      ]
     },
     "execution_count": 108,
     "metadata": {},
     "output_type": "execute_result"
    }
   ],
   "source": [
    "sample"
   ]
  },
  {
   "cell_type": "code",
   "execution_count": null,
   "metadata": {},
   "outputs": [],
   "source": []
  },
  {
   "cell_type": "code",
   "execution_count": 109,
   "metadata": {},
   "outputs": [],
   "source": [
    "#scale slope feature\n",
    "sample[\"SLOPE_VAL\"] = sample[\"SLOPE_CODE\"].apply(getSlopeVal)"
   ]
  },
  {
   "cell_type": "code",
   "execution_count": 110,
   "metadata": {},
   "outputs": [],
   "source": [
    "#scale elevation feature\n",
    "sample[\"ELEVATION\"] = sample[\"ELEVATION_1\"].apply(getElevClass)"
   ]
  },
  {
   "cell_type": "code",
   "execution_count": 111,
   "metadata": {},
   "outputs": [],
   "source": [
    "#normalize and scale TRI(Terrain Ruggedness Index)\n",
    "sample[\"TRI_VAL\"] = sample[\"TRI_1\"].apply(getTriClass)"
   ]
  },
  {
   "cell_type": "code",
   "execution_count": 112,
   "metadata": {},
   "outputs": [],
   "source": [
    "sample = sample.drop(columns=[\"ASPECT_1\", \"NAMRIA_SLOPE_1\", \"lon\", \"lat\", \"SLOPE_CODE\", \"SLOPE_DESC\", \"ELEVATION_1\", \"TRI_1\"])"
   ]
  },
  {
   "cell_type": "code",
   "execution_count": null,
   "metadata": {},
   "outputs": [],
   "source": []
  },
  {
   "cell_type": "code",
   "execution_count": 113,
   "metadata": {},
   "outputs": [
    {
     "data": {
      "text/html": [
       "<div>\n",
       "<style scoped>\n",
       "    .dataframe tbody tr th:only-of-type {\n",
       "        vertical-align: middle;\n",
       "    }\n",
       "\n",
       "    .dataframe tbody tr th {\n",
       "        vertical-align: top;\n",
       "    }\n",
       "\n",
       "    .dataframe thead th {\n",
       "        text-align: right;\n",
       "    }\n",
       "</style>\n",
       "<table border=\"1\" class=\"dataframe\">\n",
       "  <thead>\n",
       "    <tr style=\"text-align: right;\">\n",
       "      <th></th>\n",
       "      <th>POINT</th>\n",
       "      <th>ASPECT_CODE_16_VAL</th>\n",
       "      <th>SLOPE_VAL</th>\n",
       "      <th>ELEVATION</th>\n",
       "      <th>TRI_VAL</th>\n",
       "    </tr>\n",
       "  </thead>\n",
       "  <tbody>\n",
       "    <tr>\n",
       "      <th>0</th>\n",
       "      <td>312775.2104342669/1544806.8868831748</td>\n",
       "      <td>0.3150</td>\n",
       "      <td>0.08</td>\n",
       "      <td>0.15</td>\n",
       "      <td>0.55</td>\n",
       "    </tr>\n",
       "    <tr>\n",
       "      <th>1</th>\n",
       "      <td>312617.710434453/1544811.8868829866</td>\n",
       "      <td>0.2925</td>\n",
       "      <td>0.08</td>\n",
       "      <td>0.15</td>\n",
       "      <td>0.55</td>\n",
       "    </tr>\n",
       "    <tr>\n",
       "      <th>2</th>\n",
       "      <td>312590.21043448924/1544816.8868829524</td>\n",
       "      <td>0.2925</td>\n",
       "      <td>0.08</td>\n",
       "      <td>0.15</td>\n",
       "      <td>0.55</td>\n",
       "    </tr>\n",
       "    <tr>\n",
       "      <th>3</th>\n",
       "      <td>312885.2104341786/1544836.886883291</td>\n",
       "      <td>0.0675</td>\n",
       "      <td>0.08</td>\n",
       "      <td>0.10</td>\n",
       "      <td>0.50</td>\n",
       "    </tr>\n",
       "    <tr>\n",
       "      <th>4</th>\n",
       "      <td>312905.21043417236/1544851.8868833103</td>\n",
       "      <td>0.0900</td>\n",
       "      <td>0.08</td>\n",
       "      <td>0.10</td>\n",
       "      <td>0.45</td>\n",
       "    </tr>\n",
       "    <tr>\n",
       "      <th>...</th>\n",
       "      <td>...</td>\n",
       "      <td>...</td>\n",
       "      <td>...</td>\n",
       "      <td>...</td>\n",
       "      <td>...</td>\n",
       "    </tr>\n",
       "    <tr>\n",
       "      <th>440051</th>\n",
       "      <td>323969.3511357363/1590141.286145186</td>\n",
       "      <td>0.2700</td>\n",
       "      <td>1.00</td>\n",
       "      <td>0.20</td>\n",
       "      <td>0.55</td>\n",
       "    </tr>\n",
       "    <tr>\n",
       "      <th>440052</th>\n",
       "      <td>324195.95361386857/1590271.6516619325</td>\n",
       "      <td>0.0450</td>\n",
       "      <td>1.00</td>\n",
       "      <td>0.15</td>\n",
       "      <td>0.55</td>\n",
       "    </tr>\n",
       "    <tr>\n",
       "      <th>440053</th>\n",
       "      <td>324610.0766557139/1591399.7063857145</td>\n",
       "      <td>0.2925</td>\n",
       "      <td>1.00</td>\n",
       "      <td>0.20</td>\n",
       "      <td>0.50</td>\n",
       "    </tr>\n",
       "    <tr>\n",
       "      <th>440054</th>\n",
       "      <td>324657.3197299169/1593321.3712228332</td>\n",
       "      <td>0.0675</td>\n",
       "      <td>1.00</td>\n",
       "      <td>0.10</td>\n",
       "      <td>0.55</td>\n",
       "    </tr>\n",
       "    <tr>\n",
       "      <th>440055</th>\n",
       "      <td>296912.2607805232/1608454.529278667</td>\n",
       "      <td>0.3375</td>\n",
       "      <td>1.00</td>\n",
       "      <td>0.00</td>\n",
       "      <td>0.55</td>\n",
       "    </tr>\n",
       "  </tbody>\n",
       "</table>\n",
       "<p>440056 rows × 5 columns</p>\n",
       "</div>"
      ],
      "text/plain": [
       "                                        POINT  ASPECT_CODE_16_VAL  SLOPE_VAL  \\\n",
       "0        312775.2104342669/1544806.8868831748              0.3150       0.08   \n",
       "1         312617.710434453/1544811.8868829866              0.2925       0.08   \n",
       "2       312590.21043448924/1544816.8868829524              0.2925       0.08   \n",
       "3         312885.2104341786/1544836.886883291              0.0675       0.08   \n",
       "4       312905.21043417236/1544851.8868833103              0.0900       0.08   \n",
       "...                                       ...                 ...        ...   \n",
       "440051    323969.3511357363/1590141.286145186              0.2700       1.00   \n",
       "440052  324195.95361386857/1590271.6516619325              0.0450       1.00   \n",
       "440053   324610.0766557139/1591399.7063857145              0.2925       1.00   \n",
       "440054   324657.3197299169/1593321.3712228332              0.0675       1.00   \n",
       "440055    296912.2607805232/1608454.529278667              0.3375       1.00   \n",
       "\n",
       "        ELEVATION  TRI_VAL  \n",
       "0            0.15     0.55  \n",
       "1            0.15     0.55  \n",
       "2            0.15     0.55  \n",
       "3            0.10     0.50  \n",
       "4            0.10     0.45  \n",
       "...           ...      ...  \n",
       "440051       0.20     0.55  \n",
       "440052       0.15     0.55  \n",
       "440053       0.20     0.50  \n",
       "440054       0.10     0.55  \n",
       "440055       0.00     0.55  \n",
       "\n",
       "[440056 rows x 5 columns]"
      ]
     },
     "execution_count": 113,
     "metadata": {},
     "output_type": "execute_result"
    }
   ],
   "source": [
    "sample\n",
    "#print(sample.max(axis=0)['TRI_1'])\n",
    "#print(sample.min(axis=0)['SLOPE_VAL'])"
   ]
  },
  {
   "cell_type": "code",
   "execution_count": 114,
   "metadata": {},
   "outputs": [],
   "source": [
    "# sample.to_csv(r'scaled_DEM_data.csv',index = None, header=True)"
   ]
  },
  {
   "cell_type": "code",
   "execution_count": 115,
   "metadata": {},
   "outputs": [],
   "source": [
    "# print(sample_points)"
   ]
  },
  {
   "cell_type": "markdown",
   "metadata": {},
   "source": [
    "<h2> Mergin LULC, Lithology, and DEM data sets using Point as ID</h2>"
   ]
  },
  {
   "cell_type": "code",
   "execution_count": 116,
   "metadata": {},
   "outputs": [],
   "source": [
    "land_use_cover_soil_dem = pd.merge(land_use_cover_soil, sample, on='POINT', how='outer')"
   ]
  },
  {
   "cell_type": "code",
   "execution_count": 117,
   "metadata": {},
   "outputs": [
    {
     "data": {
      "text/html": [
       "<div>\n",
       "<style scoped>\n",
       "    .dataframe tbody tr th:only-of-type {\n",
       "        vertical-align: middle;\n",
       "    }\n",
       "\n",
       "    .dataframe tbody tr th {\n",
       "        vertical-align: top;\n",
       "    }\n",
       "\n",
       "    .dataframe thead th {\n",
       "        text-align: right;\n",
       "    }\n",
       "</style>\n",
       "<table border=\"1\" class=\"dataframe\">\n",
       "  <thead>\n",
       "    <tr style=\"text-align: right;\">\n",
       "      <th></th>\n",
       "      <th>POINT</th>\n",
       "      <th>SOIL_H2O</th>\n",
       "      <th>SOIL_COHESION</th>\n",
       "      <th>LAND_USE_IMPACT</th>\n",
       "      <th>COVER_TYPE</th>\n",
       "      <th>COVER_SIZE</th>\n",
       "      <th>ASPECT_CODE_16_VAL</th>\n",
       "      <th>SLOPE_VAL</th>\n",
       "      <th>ELEVATION</th>\n",
       "      <th>TRI_VAL</th>\n",
       "    </tr>\n",
       "  </thead>\n",
       "  <tbody>\n",
       "    <tr>\n",
       "      <th>0</th>\n",
       "      <td>332745.2104856225/1606116.8868833247</td>\n",
       "      <td>1.0</td>\n",
       "      <td>1.0</td>\n",
       "      <td>0.1</td>\n",
       "      <td>1.0</td>\n",
       "      <td>0.0</td>\n",
       "      <td>0.0675</td>\n",
       "      <td>0.08</td>\n",
       "      <td>0.05</td>\n",
       "      <td>0.45</td>\n",
       "    </tr>\n",
       "    <tr>\n",
       "      <th>1</th>\n",
       "      <td>329410.3013985607/1606138.8868792974</td>\n",
       "      <td>1.0</td>\n",
       "      <td>1.0</td>\n",
       "      <td>0.1</td>\n",
       "      <td>1.0</td>\n",
       "      <td>0.0</td>\n",
       "      <td>0.2250</td>\n",
       "      <td>0.08</td>\n",
       "      <td>0.10</td>\n",
       "      <td>0.55</td>\n",
       "    </tr>\n",
       "    <tr>\n",
       "      <th>2</th>\n",
       "      <td>331347.6673839743/1606280.1196401897</td>\n",
       "      <td>1.0</td>\n",
       "      <td>1.0</td>\n",
       "      <td>0.1</td>\n",
       "      <td>1.0</td>\n",
       "      <td>0.0</td>\n",
       "      <td>0.3150</td>\n",
       "      <td>0.08</td>\n",
       "      <td>0.05</td>\n",
       "      <td>0.60</td>\n",
       "    </tr>\n",
       "    <tr>\n",
       "      <th>3</th>\n",
       "      <td>335713.3556437961/1606352.330435184</td>\n",
       "      <td>1.0</td>\n",
       "      <td>1.0</td>\n",
       "      <td>0.1</td>\n",
       "      <td>1.0</td>\n",
       "      <td>0.0</td>\n",
       "      <td>0.2475</td>\n",
       "      <td>0.08</td>\n",
       "      <td>0.25</td>\n",
       "      <td>0.65</td>\n",
       "    </tr>\n",
       "    <tr>\n",
       "      <th>4</th>\n",
       "      <td>335142.7104832159/1606396.8868860926</td>\n",
       "      <td>1.0</td>\n",
       "      <td>1.0</td>\n",
       "      <td>0.1</td>\n",
       "      <td>1.0</td>\n",
       "      <td>0.0</td>\n",
       "      <td>0.0000</td>\n",
       "      <td>0.08</td>\n",
       "      <td>0.25</td>\n",
       "      <td>0.55</td>\n",
       "    </tr>\n",
       "    <tr>\n",
       "      <th>...</th>\n",
       "      <td>...</td>\n",
       "      <td>...</td>\n",
       "      <td>...</td>\n",
       "      <td>...</td>\n",
       "      <td>...</td>\n",
       "      <td>...</td>\n",
       "      <td>...</td>\n",
       "      <td>...</td>\n",
       "      <td>...</td>\n",
       "      <td>...</td>\n",
       "    </tr>\n",
       "    <tr>\n",
       "      <th>440054</th>\n",
       "      <td>291027.5224966383/1602584.84344388</td>\n",
       "      <td>0.0</td>\n",
       "      <td>0.0</td>\n",
       "      <td>0.5</td>\n",
       "      <td>0.0</td>\n",
       "      <td>0.0</td>\n",
       "      <td>0.0000</td>\n",
       "      <td>0.08</td>\n",
       "      <td>0.00</td>\n",
       "      <td>0.55</td>\n",
       "    </tr>\n",
       "    <tr>\n",
       "      <th>440055</th>\n",
       "      <td>292602.0116899912/1605569.022336078</td>\n",
       "      <td>0.0</td>\n",
       "      <td>0.0</td>\n",
       "      <td>0.1</td>\n",
       "      <td>-1.0</td>\n",
       "      <td>1.0</td>\n",
       "      <td>0.2250</td>\n",
       "      <td>0.08</td>\n",
       "      <td>0.00</td>\n",
       "      <td>0.55</td>\n",
       "    </tr>\n",
       "    <tr>\n",
       "      <th>440056</th>\n",
       "      <td>313469.9399247705/1576915.8695542628</td>\n",
       "      <td>0.0</td>\n",
       "      <td>0.0</td>\n",
       "      <td>0.1</td>\n",
       "      <td>-1.0</td>\n",
       "      <td>1.0</td>\n",
       "      <td>0.0900</td>\n",
       "      <td>0.08</td>\n",
       "      <td>0.00</td>\n",
       "      <td>0.55</td>\n",
       "    </tr>\n",
       "    <tr>\n",
       "      <th>440057</th>\n",
       "      <td>341778.8287740705/1578118.6129843653</td>\n",
       "      <td>0.0</td>\n",
       "      <td>0.0</td>\n",
       "      <td>0.1</td>\n",
       "      <td>0.7</td>\n",
       "      <td>0.0</td>\n",
       "      <td>0.1350</td>\n",
       "      <td>0.08</td>\n",
       "      <td>0.10</td>\n",
       "      <td>0.55</td>\n",
       "    </tr>\n",
       "    <tr>\n",
       "      <th>440058</th>\n",
       "      <td>296912.2607805232/1608454.529278667</td>\n",
       "      <td>NaN</td>\n",
       "      <td>NaN</td>\n",
       "      <td>NaN</td>\n",
       "      <td>NaN</td>\n",
       "      <td>NaN</td>\n",
       "      <td>0.3375</td>\n",
       "      <td>1.00</td>\n",
       "      <td>0.00</td>\n",
       "      <td>0.55</td>\n",
       "    </tr>\n",
       "  </tbody>\n",
       "</table>\n",
       "<p>440059 rows × 10 columns</p>\n",
       "</div>"
      ],
      "text/plain": [
       "                                       POINT  SOIL_H2O  SOIL_COHESION  \\\n",
       "0       332745.2104856225/1606116.8868833247       1.0            1.0   \n",
       "1       329410.3013985607/1606138.8868792974       1.0            1.0   \n",
       "2       331347.6673839743/1606280.1196401897       1.0            1.0   \n",
       "3        335713.3556437961/1606352.330435184       1.0            1.0   \n",
       "4       335142.7104832159/1606396.8868860926       1.0            1.0   \n",
       "...                                      ...       ...            ...   \n",
       "440054    291027.5224966383/1602584.84344388       0.0            0.0   \n",
       "440055   292602.0116899912/1605569.022336078       0.0            0.0   \n",
       "440056  313469.9399247705/1576915.8695542628       0.0            0.0   \n",
       "440057  341778.8287740705/1578118.6129843653       0.0            0.0   \n",
       "440058   296912.2607805232/1608454.529278667       NaN            NaN   \n",
       "\n",
       "        LAND_USE_IMPACT  COVER_TYPE  COVER_SIZE  ASPECT_CODE_16_VAL  \\\n",
       "0                   0.1         1.0         0.0              0.0675   \n",
       "1                   0.1         1.0         0.0              0.2250   \n",
       "2                   0.1         1.0         0.0              0.3150   \n",
       "3                   0.1         1.0         0.0              0.2475   \n",
       "4                   0.1         1.0         0.0              0.0000   \n",
       "...                 ...         ...         ...                 ...   \n",
       "440054              0.5         0.0         0.0              0.0000   \n",
       "440055              0.1        -1.0         1.0              0.2250   \n",
       "440056              0.1        -1.0         1.0              0.0900   \n",
       "440057              0.1         0.7         0.0              0.1350   \n",
       "440058              NaN         NaN         NaN              0.3375   \n",
       "\n",
       "        SLOPE_VAL  ELEVATION  TRI_VAL  \n",
       "0            0.08       0.05     0.45  \n",
       "1            0.08       0.10     0.55  \n",
       "2            0.08       0.05     0.60  \n",
       "3            0.08       0.25     0.65  \n",
       "4            0.08       0.25     0.55  \n",
       "...           ...        ...      ...  \n",
       "440054       0.08       0.00     0.55  \n",
       "440055       0.08       0.00     0.55  \n",
       "440056       0.08       0.00     0.55  \n",
       "440057       0.08       0.10     0.55  \n",
       "440058       1.00       0.00     0.55  \n",
       "\n",
       "[440059 rows x 10 columns]"
      ]
     },
     "execution_count": 117,
     "metadata": {},
     "output_type": "execute_result"
    }
   ],
   "source": [
    "land_use_cover_soil_dem"
   ]
  },
  {
   "cell_type": "code",
   "execution_count": 118,
   "metadata": {},
   "outputs": [],
   "source": [
    "land_use_cover_soil_dem_fwdistance = pd.merge(land_use_cover_soil_dem, distance, on='POINT', how='left')"
   ]
  },
  {
   "cell_type": "code",
   "execution_count": 119,
   "metadata": {},
   "outputs": [],
   "source": [
    "# land_use_cover_soil_dem_fwdistance"
   ]
  },
  {
   "cell_type": "code",
   "execution_count": 120,
   "metadata": {},
   "outputs": [],
   "source": [
    "land_use_cover_soil_dem_fwdistance.drop_duplicates(subset =\"POINT\", inplace = True)"
   ]
  },
  {
   "cell_type": "code",
   "execution_count": 121,
   "metadata": {},
   "outputs": [
    {
     "data": {
      "text/html": [
       "<div>\n",
       "<style scoped>\n",
       "    .dataframe tbody tr th:only-of-type {\n",
       "        vertical-align: middle;\n",
       "    }\n",
       "\n",
       "    .dataframe tbody tr th {\n",
       "        vertical-align: top;\n",
       "    }\n",
       "\n",
       "    .dataframe thead th {\n",
       "        text-align: right;\n",
       "    }\n",
       "</style>\n",
       "<table border=\"1\" class=\"dataframe\">\n",
       "  <thead>\n",
       "    <tr style=\"text-align: right;\">\n",
       "      <th></th>\n",
       "      <th>POINT</th>\n",
       "      <th>SOIL_H2O</th>\n",
       "      <th>SOIL_COHESION</th>\n",
       "      <th>LAND_USE_IMPACT</th>\n",
       "      <th>COVER_TYPE</th>\n",
       "      <th>COVER_SIZE</th>\n",
       "      <th>ASPECT_CODE_16_VAL</th>\n",
       "      <th>SLOPE_VAL</th>\n",
       "      <th>ELEVATION</th>\n",
       "      <th>TRI_VAL</th>\n",
       "      <th>FAULT_DISTANCE</th>\n",
       "      <th>WATER_DISTANCE</th>\n",
       "    </tr>\n",
       "  </thead>\n",
       "  <tbody>\n",
       "    <tr>\n",
       "      <th>0</th>\n",
       "      <td>332745.2104856225/1606116.8868833247</td>\n",
       "      <td>1.0</td>\n",
       "      <td>1.0</td>\n",
       "      <td>0.1</td>\n",
       "      <td>1.0</td>\n",
       "      <td>0.0</td>\n",
       "      <td>0.0675</td>\n",
       "      <td>0.08</td>\n",
       "      <td>0.05</td>\n",
       "      <td>0.45</td>\n",
       "      <td>0.0000</td>\n",
       "      <td>0.0152</td>\n",
       "    </tr>\n",
       "    <tr>\n",
       "      <th>1</th>\n",
       "      <td>329410.3013985607/1606138.8868792974</td>\n",
       "      <td>1.0</td>\n",
       "      <td>1.0</td>\n",
       "      <td>0.1</td>\n",
       "      <td>1.0</td>\n",
       "      <td>0.0</td>\n",
       "      <td>0.2250</td>\n",
       "      <td>0.08</td>\n",
       "      <td>0.10</td>\n",
       "      <td>0.55</td>\n",
       "      <td>0.0000</td>\n",
       "      <td>0.0152</td>\n",
       "    </tr>\n",
       "    <tr>\n",
       "      <th>2</th>\n",
       "      <td>331347.6673839743/1606280.1196401897</td>\n",
       "      <td>1.0</td>\n",
       "      <td>1.0</td>\n",
       "      <td>0.1</td>\n",
       "      <td>1.0</td>\n",
       "      <td>0.0</td>\n",
       "      <td>0.3150</td>\n",
       "      <td>0.08</td>\n",
       "      <td>0.05</td>\n",
       "      <td>0.60</td>\n",
       "      <td>0.0000</td>\n",
       "      <td>0.0152</td>\n",
       "    </tr>\n",
       "    <tr>\n",
       "      <th>3</th>\n",
       "      <td>335713.3556437961/1606352.330435184</td>\n",
       "      <td>1.0</td>\n",
       "      <td>1.0</td>\n",
       "      <td>0.1</td>\n",
       "      <td>1.0</td>\n",
       "      <td>0.0</td>\n",
       "      <td>0.2475</td>\n",
       "      <td>0.08</td>\n",
       "      <td>0.25</td>\n",
       "      <td>0.65</td>\n",
       "      <td>0.0000</td>\n",
       "      <td>0.0152</td>\n",
       "    </tr>\n",
       "    <tr>\n",
       "      <th>4</th>\n",
       "      <td>335142.7104832159/1606396.8868860926</td>\n",
       "      <td>1.0</td>\n",
       "      <td>1.0</td>\n",
       "      <td>0.1</td>\n",
       "      <td>1.0</td>\n",
       "      <td>0.0</td>\n",
       "      <td>0.0000</td>\n",
       "      <td>0.08</td>\n",
       "      <td>0.25</td>\n",
       "      <td>0.55</td>\n",
       "      <td>0.0000</td>\n",
       "      <td>0.0152</td>\n",
       "    </tr>\n",
       "    <tr>\n",
       "      <th>...</th>\n",
       "      <td>...</td>\n",
       "      <td>...</td>\n",
       "      <td>...</td>\n",
       "      <td>...</td>\n",
       "      <td>...</td>\n",
       "      <td>...</td>\n",
       "      <td>...</td>\n",
       "      <td>...</td>\n",
       "      <td>...</td>\n",
       "      <td>...</td>\n",
       "      <td>...</td>\n",
       "      <td>...</td>\n",
       "    </tr>\n",
       "    <tr>\n",
       "      <th>440065</th>\n",
       "      <td>308914.0977608298/1600930.0763667298</td>\n",
       "      <td>0.0</td>\n",
       "      <td>0.0</td>\n",
       "      <td>0.5</td>\n",
       "      <td>0.0</td>\n",
       "      <td>0.0</td>\n",
       "      <td>0.0900</td>\n",
       "      <td>0.08</td>\n",
       "      <td>0.00</td>\n",
       "      <td>0.55</td>\n",
       "      <td>0.0000</td>\n",
       "      <td>0.0000</td>\n",
       "    </tr>\n",
       "    <tr>\n",
       "      <th>440066</th>\n",
       "      <td>291027.5224966383/1602584.84344388</td>\n",
       "      <td>0.0</td>\n",
       "      <td>0.0</td>\n",
       "      <td>0.5</td>\n",
       "      <td>0.0</td>\n",
       "      <td>0.0</td>\n",
       "      <td>0.0000</td>\n",
       "      <td>0.08</td>\n",
       "      <td>0.00</td>\n",
       "      <td>0.55</td>\n",
       "      <td>0.0000</td>\n",
       "      <td>0.0000</td>\n",
       "    </tr>\n",
       "    <tr>\n",
       "      <th>440067</th>\n",
       "      <td>292602.0116899912/1605569.022336078</td>\n",
       "      <td>0.0</td>\n",
       "      <td>0.0</td>\n",
       "      <td>0.1</td>\n",
       "      <td>-1.0</td>\n",
       "      <td>1.0</td>\n",
       "      <td>0.2250</td>\n",
       "      <td>0.08</td>\n",
       "      <td>0.00</td>\n",
       "      <td>0.55</td>\n",
       "      <td>0.1700</td>\n",
       "      <td>0.0455</td>\n",
       "    </tr>\n",
       "    <tr>\n",
       "      <th>440068</th>\n",
       "      <td>313469.9399247705/1576915.8695542628</td>\n",
       "      <td>0.0</td>\n",
       "      <td>0.0</td>\n",
       "      <td>0.1</td>\n",
       "      <td>-1.0</td>\n",
       "      <td>1.0</td>\n",
       "      <td>0.0900</td>\n",
       "      <td>0.08</td>\n",
       "      <td>0.00</td>\n",
       "      <td>0.55</td>\n",
       "      <td>0.0000</td>\n",
       "      <td>0.0000</td>\n",
       "    </tr>\n",
       "    <tr>\n",
       "      <th>440069</th>\n",
       "      <td>341778.8287740705/1578118.6129843653</td>\n",
       "      <td>0.0</td>\n",
       "      <td>0.0</td>\n",
       "      <td>0.1</td>\n",
       "      <td>0.7</td>\n",
       "      <td>0.0</td>\n",
       "      <td>0.1350</td>\n",
       "      <td>0.08</td>\n",
       "      <td>0.10</td>\n",
       "      <td>0.55</td>\n",
       "      <td>0.2551</td>\n",
       "      <td>0.0152</td>\n",
       "    </tr>\n",
       "  </tbody>\n",
       "</table>\n",
       "<p>440055 rows × 12 columns</p>\n",
       "</div>"
      ],
      "text/plain": [
       "                                       POINT  SOIL_H2O  SOIL_COHESION  \\\n",
       "0       332745.2104856225/1606116.8868833247       1.0            1.0   \n",
       "1       329410.3013985607/1606138.8868792974       1.0            1.0   \n",
       "2       331347.6673839743/1606280.1196401897       1.0            1.0   \n",
       "3        335713.3556437961/1606352.330435184       1.0            1.0   \n",
       "4       335142.7104832159/1606396.8868860926       1.0            1.0   \n",
       "...                                      ...       ...            ...   \n",
       "440065  308914.0977608298/1600930.0763667298       0.0            0.0   \n",
       "440066    291027.5224966383/1602584.84344388       0.0            0.0   \n",
       "440067   292602.0116899912/1605569.022336078       0.0            0.0   \n",
       "440068  313469.9399247705/1576915.8695542628       0.0            0.0   \n",
       "440069  341778.8287740705/1578118.6129843653       0.0            0.0   \n",
       "\n",
       "        LAND_USE_IMPACT  COVER_TYPE  COVER_SIZE  ASPECT_CODE_16_VAL  \\\n",
       "0                   0.1         1.0         0.0              0.0675   \n",
       "1                   0.1         1.0         0.0              0.2250   \n",
       "2                   0.1         1.0         0.0              0.3150   \n",
       "3                   0.1         1.0         0.0              0.2475   \n",
       "4                   0.1         1.0         0.0              0.0000   \n",
       "...                 ...         ...         ...                 ...   \n",
       "440065              0.5         0.0         0.0              0.0900   \n",
       "440066              0.5         0.0         0.0              0.0000   \n",
       "440067              0.1        -1.0         1.0              0.2250   \n",
       "440068              0.1        -1.0         1.0              0.0900   \n",
       "440069              0.1         0.7         0.0              0.1350   \n",
       "\n",
       "        SLOPE_VAL  ELEVATION  TRI_VAL  FAULT_DISTANCE  WATER_DISTANCE  \n",
       "0            0.08       0.05     0.45          0.0000          0.0152  \n",
       "1            0.08       0.10     0.55          0.0000          0.0152  \n",
       "2            0.08       0.05     0.60          0.0000          0.0152  \n",
       "3            0.08       0.25     0.65          0.0000          0.0152  \n",
       "4            0.08       0.25     0.55          0.0000          0.0152  \n",
       "...           ...        ...      ...             ...             ...  \n",
       "440065       0.08       0.00     0.55          0.0000          0.0000  \n",
       "440066       0.08       0.00     0.55          0.0000          0.0000  \n",
       "440067       0.08       0.00     0.55          0.1700          0.0455  \n",
       "440068       0.08       0.00     0.55          0.0000          0.0000  \n",
       "440069       0.08       0.10     0.55          0.2551          0.0152  \n",
       "\n",
       "[440055 rows x 12 columns]"
      ]
     },
     "execution_count": 121,
     "metadata": {},
     "output_type": "execute_result"
    }
   ],
   "source": [
    "land_use_cover_soil_dem_fwdistance.dropna(axis='rows')"
   ]
  },
  {
   "cell_type": "code",
   "execution_count": 122,
   "metadata": {},
   "outputs": [],
   "source": [
    "land_use_cover_soil_dem_fwdistance = land_use_cover_soil_dem_fwdistance[land_use_cover_soil_dem_fwdistance['POINT'] != '296912.2607805232/1608454.529278667']"
   ]
  },
  {
   "cell_type": "code",
   "execution_count": 123,
   "metadata": {},
   "outputs": [
    {
     "data": {
      "text/html": [
       "<div>\n",
       "<style scoped>\n",
       "    .dataframe tbody tr th:only-of-type {\n",
       "        vertical-align: middle;\n",
       "    }\n",
       "\n",
       "    .dataframe tbody tr th {\n",
       "        vertical-align: top;\n",
       "    }\n",
       "\n",
       "    .dataframe thead th {\n",
       "        text-align: right;\n",
       "    }\n",
       "</style>\n",
       "<table border=\"1\" class=\"dataframe\">\n",
       "  <thead>\n",
       "    <tr style=\"text-align: right;\">\n",
       "      <th></th>\n",
       "      <th>POINT</th>\n",
       "      <th>SOIL_H2O</th>\n",
       "      <th>SOIL_COHESION</th>\n",
       "      <th>LAND_USE_IMPACT</th>\n",
       "      <th>COVER_TYPE</th>\n",
       "      <th>COVER_SIZE</th>\n",
       "      <th>ASPECT_CODE_16_VAL</th>\n",
       "      <th>SLOPE_VAL</th>\n",
       "      <th>ELEVATION</th>\n",
       "      <th>TRI_VAL</th>\n",
       "      <th>FAULT_DISTANCE</th>\n",
       "      <th>WATER_DISTANCE</th>\n",
       "    </tr>\n",
       "  </thead>\n",
       "  <tbody>\n",
       "    <tr>\n",
       "      <th>0</th>\n",
       "      <td>332745.2104856225/1606116.8868833247</td>\n",
       "      <td>1.0</td>\n",
       "      <td>1.0</td>\n",
       "      <td>0.1</td>\n",
       "      <td>1.0</td>\n",
       "      <td>0.0</td>\n",
       "      <td>0.0675</td>\n",
       "      <td>0.08</td>\n",
       "      <td>0.05</td>\n",
       "      <td>0.45</td>\n",
       "      <td>0.0000</td>\n",
       "      <td>0.0152</td>\n",
       "    </tr>\n",
       "    <tr>\n",
       "      <th>1</th>\n",
       "      <td>329410.3013985607/1606138.8868792974</td>\n",
       "      <td>1.0</td>\n",
       "      <td>1.0</td>\n",
       "      <td>0.1</td>\n",
       "      <td>1.0</td>\n",
       "      <td>0.0</td>\n",
       "      <td>0.2250</td>\n",
       "      <td>0.08</td>\n",
       "      <td>0.10</td>\n",
       "      <td>0.55</td>\n",
       "      <td>0.0000</td>\n",
       "      <td>0.0152</td>\n",
       "    </tr>\n",
       "    <tr>\n",
       "      <th>2</th>\n",
       "      <td>331347.6673839743/1606280.1196401897</td>\n",
       "      <td>1.0</td>\n",
       "      <td>1.0</td>\n",
       "      <td>0.1</td>\n",
       "      <td>1.0</td>\n",
       "      <td>0.0</td>\n",
       "      <td>0.3150</td>\n",
       "      <td>0.08</td>\n",
       "      <td>0.05</td>\n",
       "      <td>0.60</td>\n",
       "      <td>0.0000</td>\n",
       "      <td>0.0152</td>\n",
       "    </tr>\n",
       "    <tr>\n",
       "      <th>3</th>\n",
       "      <td>335713.3556437961/1606352.330435184</td>\n",
       "      <td>1.0</td>\n",
       "      <td>1.0</td>\n",
       "      <td>0.1</td>\n",
       "      <td>1.0</td>\n",
       "      <td>0.0</td>\n",
       "      <td>0.2475</td>\n",
       "      <td>0.08</td>\n",
       "      <td>0.25</td>\n",
       "      <td>0.65</td>\n",
       "      <td>0.0000</td>\n",
       "      <td>0.0152</td>\n",
       "    </tr>\n",
       "    <tr>\n",
       "      <th>4</th>\n",
       "      <td>335142.7104832159/1606396.8868860926</td>\n",
       "      <td>1.0</td>\n",
       "      <td>1.0</td>\n",
       "      <td>0.1</td>\n",
       "      <td>1.0</td>\n",
       "      <td>0.0</td>\n",
       "      <td>0.0000</td>\n",
       "      <td>0.08</td>\n",
       "      <td>0.25</td>\n",
       "      <td>0.55</td>\n",
       "      <td>0.0000</td>\n",
       "      <td>0.0152</td>\n",
       "    </tr>\n",
       "    <tr>\n",
       "      <th>...</th>\n",
       "      <td>...</td>\n",
       "      <td>...</td>\n",
       "      <td>...</td>\n",
       "      <td>...</td>\n",
       "      <td>...</td>\n",
       "      <td>...</td>\n",
       "      <td>...</td>\n",
       "      <td>...</td>\n",
       "      <td>...</td>\n",
       "      <td>...</td>\n",
       "      <td>...</td>\n",
       "      <td>...</td>\n",
       "    </tr>\n",
       "    <tr>\n",
       "      <th>440065</th>\n",
       "      <td>308914.0977608298/1600930.0763667298</td>\n",
       "      <td>0.0</td>\n",
       "      <td>0.0</td>\n",
       "      <td>0.5</td>\n",
       "      <td>0.0</td>\n",
       "      <td>0.0</td>\n",
       "      <td>0.0900</td>\n",
       "      <td>0.08</td>\n",
       "      <td>0.00</td>\n",
       "      <td>0.55</td>\n",
       "      <td>0.0000</td>\n",
       "      <td>0.0000</td>\n",
       "    </tr>\n",
       "    <tr>\n",
       "      <th>440066</th>\n",
       "      <td>291027.5224966383/1602584.84344388</td>\n",
       "      <td>0.0</td>\n",
       "      <td>0.0</td>\n",
       "      <td>0.5</td>\n",
       "      <td>0.0</td>\n",
       "      <td>0.0</td>\n",
       "      <td>0.0000</td>\n",
       "      <td>0.08</td>\n",
       "      <td>0.00</td>\n",
       "      <td>0.55</td>\n",
       "      <td>0.0000</td>\n",
       "      <td>0.0000</td>\n",
       "    </tr>\n",
       "    <tr>\n",
       "      <th>440067</th>\n",
       "      <td>292602.0116899912/1605569.022336078</td>\n",
       "      <td>0.0</td>\n",
       "      <td>0.0</td>\n",
       "      <td>0.1</td>\n",
       "      <td>-1.0</td>\n",
       "      <td>1.0</td>\n",
       "      <td>0.2250</td>\n",
       "      <td>0.08</td>\n",
       "      <td>0.00</td>\n",
       "      <td>0.55</td>\n",
       "      <td>0.1700</td>\n",
       "      <td>0.0455</td>\n",
       "    </tr>\n",
       "    <tr>\n",
       "      <th>440068</th>\n",
       "      <td>313469.9399247705/1576915.8695542628</td>\n",
       "      <td>0.0</td>\n",
       "      <td>0.0</td>\n",
       "      <td>0.1</td>\n",
       "      <td>-1.0</td>\n",
       "      <td>1.0</td>\n",
       "      <td>0.0900</td>\n",
       "      <td>0.08</td>\n",
       "      <td>0.00</td>\n",
       "      <td>0.55</td>\n",
       "      <td>0.0000</td>\n",
       "      <td>0.0000</td>\n",
       "    </tr>\n",
       "    <tr>\n",
       "      <th>440069</th>\n",
       "      <td>341778.8287740705/1578118.6129843653</td>\n",
       "      <td>0.0</td>\n",
       "      <td>0.0</td>\n",
       "      <td>0.1</td>\n",
       "      <td>0.7</td>\n",
       "      <td>0.0</td>\n",
       "      <td>0.1350</td>\n",
       "      <td>0.08</td>\n",
       "      <td>0.10</td>\n",
       "      <td>0.55</td>\n",
       "      <td>0.2551</td>\n",
       "      <td>0.0152</td>\n",
       "    </tr>\n",
       "  </tbody>\n",
       "</table>\n",
       "<p>440055 rows × 12 columns</p>\n",
       "</div>"
      ],
      "text/plain": [
       "                                       POINT  SOIL_H2O  SOIL_COHESION  \\\n",
       "0       332745.2104856225/1606116.8868833247       1.0            1.0   \n",
       "1       329410.3013985607/1606138.8868792974       1.0            1.0   \n",
       "2       331347.6673839743/1606280.1196401897       1.0            1.0   \n",
       "3        335713.3556437961/1606352.330435184       1.0            1.0   \n",
       "4       335142.7104832159/1606396.8868860926       1.0            1.0   \n",
       "...                                      ...       ...            ...   \n",
       "440065  308914.0977608298/1600930.0763667298       0.0            0.0   \n",
       "440066    291027.5224966383/1602584.84344388       0.0            0.0   \n",
       "440067   292602.0116899912/1605569.022336078       0.0            0.0   \n",
       "440068  313469.9399247705/1576915.8695542628       0.0            0.0   \n",
       "440069  341778.8287740705/1578118.6129843653       0.0            0.0   \n",
       "\n",
       "        LAND_USE_IMPACT  COVER_TYPE  COVER_SIZE  ASPECT_CODE_16_VAL  \\\n",
       "0                   0.1         1.0         0.0              0.0675   \n",
       "1                   0.1         1.0         0.0              0.2250   \n",
       "2                   0.1         1.0         0.0              0.3150   \n",
       "3                   0.1         1.0         0.0              0.2475   \n",
       "4                   0.1         1.0         0.0              0.0000   \n",
       "...                 ...         ...         ...                 ...   \n",
       "440065              0.5         0.0         0.0              0.0900   \n",
       "440066              0.5         0.0         0.0              0.0000   \n",
       "440067              0.1        -1.0         1.0              0.2250   \n",
       "440068              0.1        -1.0         1.0              0.0900   \n",
       "440069              0.1         0.7         0.0              0.1350   \n",
       "\n",
       "        SLOPE_VAL  ELEVATION  TRI_VAL  FAULT_DISTANCE  WATER_DISTANCE  \n",
       "0            0.08       0.05     0.45          0.0000          0.0152  \n",
       "1            0.08       0.10     0.55          0.0000          0.0152  \n",
       "2            0.08       0.05     0.60          0.0000          0.0152  \n",
       "3            0.08       0.25     0.65          0.0000          0.0152  \n",
       "4            0.08       0.25     0.55          0.0000          0.0152  \n",
       "...           ...        ...      ...             ...             ...  \n",
       "440065       0.08       0.00     0.55          0.0000          0.0000  \n",
       "440066       0.08       0.00     0.55          0.0000          0.0000  \n",
       "440067       0.08       0.00     0.55          0.1700          0.0455  \n",
       "440068       0.08       0.00     0.55          0.0000          0.0000  \n",
       "440069       0.08       0.10     0.55          0.2551          0.0152  \n",
       "\n",
       "[440055 rows x 12 columns]"
      ]
     },
     "execution_count": 123,
     "metadata": {},
     "output_type": "execute_result"
    }
   ],
   "source": [
    "land_use_cover_soil_dem_fwdistance"
   ]
  },
  {
   "cell_type": "markdown",
   "metadata": {},
   "source": [
    "<h2> Hazard Rating Transformation</h2>"
   ]
  },
  {
   "cell_type": "code",
   "execution_count": 124,
   "metadata": {},
   "outputs": [],
   "source": [
    "earthquake_ls = earthquake_ls.drop(columns=[\"lon\", \"lat\", \"ID\", \"GRIDCODE\", \"Suscep\", \"X\", \"Y\"])"
   ]
  },
  {
   "cell_type": "code",
   "execution_count": 125,
   "metadata": {},
   "outputs": [],
   "source": [
    "earthquake_ls.rename(columns = {'RATING':'EARTHQ_SUS'}, inplace = True)"
   ]
  },
  {
   "cell_type": "code",
   "execution_count": 126,
   "metadata": {},
   "outputs": [],
   "source": [
    "rain_liq_ls = rain_liq_ls.drop(columns=[\"lon\", \"lat\", \"X\", \"Y\"])"
   ]
  },
  {
   "cell_type": "code",
   "execution_count": 127,
   "metadata": {},
   "outputs": [],
   "source": [
    "rain_liq_ls.rename(columns = {'RATING':'RAIN_IN_SUSC', 'Susceptib':'LIQF_SUSC'}, inplace = True)"
   ]
  },
  {
   "cell_type": "code",
   "execution_count": 128,
   "metadata": {},
   "outputs": [],
   "source": [
    "rain_liq_ls = rain_liq_ls.fillna('Very Low')\n",
    "earthquake_ls = earthquake_ls.fillna('Very Low')"
   ]
  },
  {
   "cell_type": "code",
   "execution_count": 129,
   "metadata": {},
   "outputs": [],
   "source": [
    "# earthquake_ls\n",
    "# rain_liq_ls\n"
   ]
  },
  {
   "cell_type": "code",
   "execution_count": 130,
   "metadata": {},
   "outputs": [],
   "source": [
    "hazard_rating = pd.merge(rain_liq_ls, earthquake_ls, on='POINT', how='outer')"
   ]
  },
  {
   "cell_type": "code",
   "execution_count": 131,
   "metadata": {},
   "outputs": [
    {
     "name": "stdout",
     "output_type": "stream",
     "text": [
      "['None' 'High' 'Moderate' 'Very Low'\n",
      " 'Possible Landslide Debris Accumulation Zone' 'Low']\n",
      "['Very Low' 'Low' 'Moderate' 'High']\n",
      "['Low' 'Moderate' 'High' 'Very Low']\n"
     ]
    }
   ],
   "source": [
    "print(hazard_rating['RAIN_IN_SUSC'].unique())\n",
    "# print(hazard_rating)\n",
    "print(hazard_rating['EARTHQ_SUS'].unique())\n",
    "print(hazard_rating['LIQF_SUSC'].unique())"
   ]
  },
  {
   "cell_type": "code",
   "execution_count": 132,
   "metadata": {},
   "outputs": [],
   "source": [
    "hazard_rating['RAIN_IN_SUSC'] = hazard_rating['RAIN_IN_SUSC'].map({'High':1, 'Moderate':0.75, 'Low':0.5, 'None':0.25})\n",
    "hazard_rating['EARTHQ_SUS'] = hazard_rating['EARTHQ_SUS'].map({'High':1, 'Moderate':0.75, 'Low':0.5, 'Very Low':0.25})\n",
    "hazard_rating['LIQF_SUSC'] = hazard_rating['LIQF_SUSC'].map({'High':1, 'Moderate':0.75, 'Low':0.5, 'Very Low':0.25})"
   ]
  },
  {
   "cell_type": "code",
   "execution_count": 133,
   "metadata": {},
   "outputs": [],
   "source": [
    "hazard_rating['RF_HZ_RATING'] = hazard_rating[['RAIN_IN_SUSC', 'LIQF_SUSC']].mean(axis=1)"
   ]
  },
  {
   "cell_type": "code",
   "execution_count": 134,
   "metadata": {},
   "outputs": [],
   "source": [
    "#hazard_rating['average'] = hazard_rating.mean(axis=1).round(2)\n",
    "hazard_rating.rename(columns = {'EARTHQ_SUS':'EQ_HZ_RATING'}, inplace = True)"
   ]
  },
  {
   "cell_type": "code",
   "execution_count": null,
   "metadata": {},
   "outputs": [],
   "source": []
  },
  {
   "cell_type": "code",
   "execution_count": 135,
   "metadata": {},
   "outputs": [],
   "source": [
    "hazard_rating = hazard_rating.drop(columns=[\"RAIN_IN_SUSC\",\"LIQF_SUSC\"])"
   ]
  },
  {
   "cell_type": "code",
   "execution_count": 136,
   "metadata": {},
   "outputs": [],
   "source": [
    "feature_set = pd.merge(land_use_cover_soil_dem_fwdistance, hazard_rating, on='POINT', how='outer')"
   ]
  },
  {
   "cell_type": "code",
   "execution_count": 137,
   "metadata": {},
   "outputs": [],
   "source": [
    "feature_set = feature_set.dropna()\n",
    "feature_set.drop_duplicates(subset =\"POINT\", inplace = True)"
   ]
  },
  {
   "cell_type": "code",
   "execution_count": 138,
   "metadata": {},
   "outputs": [],
   "source": [
    "feature_set.to_csv(r'feature_set.csv',index = None, header=True)"
   ]
  },
  {
   "cell_type": "code",
   "execution_count": 139,
   "metadata": {},
   "outputs": [
    {
     "data": {
      "text/html": [
       "<div>\n",
       "<style scoped>\n",
       "    .dataframe tbody tr th:only-of-type {\n",
       "        vertical-align: middle;\n",
       "    }\n",
       "\n",
       "    .dataframe tbody tr th {\n",
       "        vertical-align: top;\n",
       "    }\n",
       "\n",
       "    .dataframe thead th {\n",
       "        text-align: right;\n",
       "    }\n",
       "</style>\n",
       "<table border=\"1\" class=\"dataframe\">\n",
       "  <thead>\n",
       "    <tr style=\"text-align: right;\">\n",
       "      <th></th>\n",
       "      <th>POINT</th>\n",
       "      <th>SOIL_H2O</th>\n",
       "      <th>SOIL_COHESION</th>\n",
       "      <th>LAND_USE_IMPACT</th>\n",
       "      <th>COVER_TYPE</th>\n",
       "      <th>COVER_SIZE</th>\n",
       "      <th>ASPECT_CODE_16_VAL</th>\n",
       "      <th>SLOPE_VAL</th>\n",
       "      <th>ELEVATION</th>\n",
       "      <th>TRI_VAL</th>\n",
       "      <th>FAULT_DISTANCE</th>\n",
       "      <th>WATER_DISTANCE</th>\n",
       "      <th>EQ_HZ_RATING</th>\n",
       "      <th>RF_HZ_RATING</th>\n",
       "    </tr>\n",
       "  </thead>\n",
       "  <tbody>\n",
       "    <tr>\n",
       "      <th>0</th>\n",
       "      <td>332745.2104856225/1606116.8868833247</td>\n",
       "      <td>1.0</td>\n",
       "      <td>1.0</td>\n",
       "      <td>0.1</td>\n",
       "      <td>1.0</td>\n",
       "      <td>0.0</td>\n",
       "      <td>0.0675</td>\n",
       "      <td>0.08</td>\n",
       "      <td>0.05</td>\n",
       "      <td>0.45</td>\n",
       "      <td>0.0000</td>\n",
       "      <td>0.0152</td>\n",
       "      <td>0.50</td>\n",
       "      <td>0.625</td>\n",
       "    </tr>\n",
       "    <tr>\n",
       "      <th>1</th>\n",
       "      <td>329410.3013985607/1606138.8868792974</td>\n",
       "      <td>1.0</td>\n",
       "      <td>1.0</td>\n",
       "      <td>0.1</td>\n",
       "      <td>1.0</td>\n",
       "      <td>0.0</td>\n",
       "      <td>0.2250</td>\n",
       "      <td>0.08</td>\n",
       "      <td>0.10</td>\n",
       "      <td>0.55</td>\n",
       "      <td>0.0000</td>\n",
       "      <td>0.0152</td>\n",
       "      <td>0.25</td>\n",
       "      <td>0.375</td>\n",
       "    </tr>\n",
       "    <tr>\n",
       "      <th>2</th>\n",
       "      <td>331347.6673839743/1606280.1196401897</td>\n",
       "      <td>1.0</td>\n",
       "      <td>1.0</td>\n",
       "      <td>0.1</td>\n",
       "      <td>1.0</td>\n",
       "      <td>0.0</td>\n",
       "      <td>0.3150</td>\n",
       "      <td>0.08</td>\n",
       "      <td>0.05</td>\n",
       "      <td>0.60</td>\n",
       "      <td>0.0000</td>\n",
       "      <td>0.0152</td>\n",
       "      <td>0.25</td>\n",
       "      <td>0.375</td>\n",
       "    </tr>\n",
       "    <tr>\n",
       "      <th>3</th>\n",
       "      <td>335713.3556437961/1606352.330435184</td>\n",
       "      <td>1.0</td>\n",
       "      <td>1.0</td>\n",
       "      <td>0.1</td>\n",
       "      <td>1.0</td>\n",
       "      <td>0.0</td>\n",
       "      <td>0.2475</td>\n",
       "      <td>0.08</td>\n",
       "      <td>0.25</td>\n",
       "      <td>0.65</td>\n",
       "      <td>0.0000</td>\n",
       "      <td>0.0152</td>\n",
       "      <td>0.25</td>\n",
       "      <td>0.375</td>\n",
       "    </tr>\n",
       "    <tr>\n",
       "      <th>4</th>\n",
       "      <td>335142.7104832159/1606396.8868860926</td>\n",
       "      <td>1.0</td>\n",
       "      <td>1.0</td>\n",
       "      <td>0.1</td>\n",
       "      <td>1.0</td>\n",
       "      <td>0.0</td>\n",
       "      <td>0.0000</td>\n",
       "      <td>0.08</td>\n",
       "      <td>0.25</td>\n",
       "      <td>0.55</td>\n",
       "      <td>0.0000</td>\n",
       "      <td>0.0152</td>\n",
       "      <td>0.25</td>\n",
       "      <td>0.375</td>\n",
       "    </tr>\n",
       "    <tr>\n",
       "      <th>...</th>\n",
       "      <td>...</td>\n",
       "      <td>...</td>\n",
       "      <td>...</td>\n",
       "      <td>...</td>\n",
       "      <td>...</td>\n",
       "      <td>...</td>\n",
       "      <td>...</td>\n",
       "      <td>...</td>\n",
       "      <td>...</td>\n",
       "      <td>...</td>\n",
       "      <td>...</td>\n",
       "      <td>...</td>\n",
       "      <td>...</td>\n",
       "      <td>...</td>\n",
       "    </tr>\n",
       "    <tr>\n",
       "      <th>440097</th>\n",
       "      <td>308914.0977608298/1600930.0763667298</td>\n",
       "      <td>0.0</td>\n",
       "      <td>0.0</td>\n",
       "      <td>0.5</td>\n",
       "      <td>0.0</td>\n",
       "      <td>0.0</td>\n",
       "      <td>0.0900</td>\n",
       "      <td>0.08</td>\n",
       "      <td>0.00</td>\n",
       "      <td>0.55</td>\n",
       "      <td>0.0000</td>\n",
       "      <td>0.0000</td>\n",
       "      <td>0.25</td>\n",
       "      <td>0.250</td>\n",
       "    </tr>\n",
       "    <tr>\n",
       "      <th>440098</th>\n",
       "      <td>291027.5224966383/1602584.84344388</td>\n",
       "      <td>0.0</td>\n",
       "      <td>0.0</td>\n",
       "      <td>0.5</td>\n",
       "      <td>0.0</td>\n",
       "      <td>0.0</td>\n",
       "      <td>0.0000</td>\n",
       "      <td>0.08</td>\n",
       "      <td>0.00</td>\n",
       "      <td>0.55</td>\n",
       "      <td>0.0000</td>\n",
       "      <td>0.0000</td>\n",
       "      <td>0.25</td>\n",
       "      <td>0.250</td>\n",
       "    </tr>\n",
       "    <tr>\n",
       "      <th>440099</th>\n",
       "      <td>292602.0116899912/1605569.022336078</td>\n",
       "      <td>0.0</td>\n",
       "      <td>0.0</td>\n",
       "      <td>0.1</td>\n",
       "      <td>-1.0</td>\n",
       "      <td>1.0</td>\n",
       "      <td>0.2250</td>\n",
       "      <td>0.08</td>\n",
       "      <td>0.00</td>\n",
       "      <td>0.55</td>\n",
       "      <td>0.1700</td>\n",
       "      <td>0.0455</td>\n",
       "      <td>0.25</td>\n",
       "      <td>0.250</td>\n",
       "    </tr>\n",
       "    <tr>\n",
       "      <th>440100</th>\n",
       "      <td>313469.9399247705/1576915.8695542628</td>\n",
       "      <td>0.0</td>\n",
       "      <td>0.0</td>\n",
       "      <td>0.1</td>\n",
       "      <td>-1.0</td>\n",
       "      <td>1.0</td>\n",
       "      <td>0.0900</td>\n",
       "      <td>0.08</td>\n",
       "      <td>0.00</td>\n",
       "      <td>0.55</td>\n",
       "      <td>0.0000</td>\n",
       "      <td>0.0000</td>\n",
       "      <td>0.25</td>\n",
       "      <td>0.250</td>\n",
       "    </tr>\n",
       "    <tr>\n",
       "      <th>440101</th>\n",
       "      <td>341778.8287740705/1578118.6129843653</td>\n",
       "      <td>0.0</td>\n",
       "      <td>0.0</td>\n",
       "      <td>0.1</td>\n",
       "      <td>0.7</td>\n",
       "      <td>0.0</td>\n",
       "      <td>0.1350</td>\n",
       "      <td>0.08</td>\n",
       "      <td>0.10</td>\n",
       "      <td>0.55</td>\n",
       "      <td>0.2551</td>\n",
       "      <td>0.0152</td>\n",
       "      <td>0.25</td>\n",
       "      <td>0.375</td>\n",
       "    </tr>\n",
       "  </tbody>\n",
       "</table>\n",
       "<p>440055 rows × 14 columns</p>\n",
       "</div>"
      ],
      "text/plain": [
       "                                       POINT  SOIL_H2O  SOIL_COHESION  \\\n",
       "0       332745.2104856225/1606116.8868833247       1.0            1.0   \n",
       "1       329410.3013985607/1606138.8868792974       1.0            1.0   \n",
       "2       331347.6673839743/1606280.1196401897       1.0            1.0   \n",
       "3        335713.3556437961/1606352.330435184       1.0            1.0   \n",
       "4       335142.7104832159/1606396.8868860926       1.0            1.0   \n",
       "...                                      ...       ...            ...   \n",
       "440097  308914.0977608298/1600930.0763667298       0.0            0.0   \n",
       "440098    291027.5224966383/1602584.84344388       0.0            0.0   \n",
       "440099   292602.0116899912/1605569.022336078       0.0            0.0   \n",
       "440100  313469.9399247705/1576915.8695542628       0.0            0.0   \n",
       "440101  341778.8287740705/1578118.6129843653       0.0            0.0   \n",
       "\n",
       "        LAND_USE_IMPACT  COVER_TYPE  COVER_SIZE  ASPECT_CODE_16_VAL  \\\n",
       "0                   0.1         1.0         0.0              0.0675   \n",
       "1                   0.1         1.0         0.0              0.2250   \n",
       "2                   0.1         1.0         0.0              0.3150   \n",
       "3                   0.1         1.0         0.0              0.2475   \n",
       "4                   0.1         1.0         0.0              0.0000   \n",
       "...                 ...         ...         ...                 ...   \n",
       "440097              0.5         0.0         0.0              0.0900   \n",
       "440098              0.5         0.0         0.0              0.0000   \n",
       "440099              0.1        -1.0         1.0              0.2250   \n",
       "440100              0.1        -1.0         1.0              0.0900   \n",
       "440101              0.1         0.7         0.0              0.1350   \n",
       "\n",
       "        SLOPE_VAL  ELEVATION  TRI_VAL  FAULT_DISTANCE  WATER_DISTANCE  \\\n",
       "0            0.08       0.05     0.45          0.0000          0.0152   \n",
       "1            0.08       0.10     0.55          0.0000          0.0152   \n",
       "2            0.08       0.05     0.60          0.0000          0.0152   \n",
       "3            0.08       0.25     0.65          0.0000          0.0152   \n",
       "4            0.08       0.25     0.55          0.0000          0.0152   \n",
       "...           ...        ...      ...             ...             ...   \n",
       "440097       0.08       0.00     0.55          0.0000          0.0000   \n",
       "440098       0.08       0.00     0.55          0.0000          0.0000   \n",
       "440099       0.08       0.00     0.55          0.1700          0.0455   \n",
       "440100       0.08       0.00     0.55          0.0000          0.0000   \n",
       "440101       0.08       0.10     0.55          0.2551          0.0152   \n",
       "\n",
       "        EQ_HZ_RATING  RF_HZ_RATING  \n",
       "0               0.50         0.625  \n",
       "1               0.25         0.375  \n",
       "2               0.25         0.375  \n",
       "3               0.25         0.375  \n",
       "4               0.25         0.375  \n",
       "...              ...           ...  \n",
       "440097          0.25         0.250  \n",
       "440098          0.25         0.250  \n",
       "440099          0.25         0.250  \n",
       "440100          0.25         0.250  \n",
       "440101          0.25         0.375  \n",
       "\n",
       "[440055 rows x 14 columns]"
      ]
     },
     "execution_count": 139,
     "metadata": {},
     "output_type": "execute_result"
    }
   ],
   "source": [
    "feature_set"
   ]
  },
  {
   "cell_type": "code",
   "execution_count": 140,
   "metadata": {},
   "outputs": [],
   "source": [
    "cols = ['COVER_TYPE']\n",
    "feature_set[cols] = feature_set[feature_set[cols] > 0][cols]\n",
    "feature_set = feature_set.dropna()"
   ]
  },
  {
   "cell_type": "code",
   "execution_count": 141,
   "metadata": {},
   "outputs": [
    {
     "name": "stdout",
     "output_type": "stream",
     "text": [
      "                                        POINT  SOIL_H2O  SOIL_COHESION  \\\n",
      "0        332745.2104856225/1606116.8868833247       1.0            1.0   \n",
      "1        329410.3013985607/1606138.8868792974       1.0            1.0   \n",
      "2        331347.6673839743/1606280.1196401897       1.0            1.0   \n",
      "3         335713.3556437961/1606352.330435184       1.0            1.0   \n",
      "4        335142.7104832159/1606396.8868860926       1.0            1.0   \n",
      "...                                       ...       ...            ...   \n",
      "440037   330216.9846645341/1591754.1449508737       0.0            0.0   \n",
      "440038  327335.21047434286/1591801.8868828872       0.0            0.0   \n",
      "440040  330185.92475679924/1591807.6011720125       0.0            0.0   \n",
      "440041   330200.2104711228/1591851.8868862968       0.0            0.0   \n",
      "440101   341778.8287740705/1578118.6129843653       0.0            0.0   \n",
      "\n",
      "        LAND_USE_IMPACT  COVER_TYPE  COVER_SIZE  ASPECT_CODE_16_VAL  \\\n",
      "0                   0.1         1.0         0.0              0.0675   \n",
      "1                   0.1         1.0         0.0              0.2250   \n",
      "2                   0.1         1.0         0.0              0.3150   \n",
      "3                   0.1         1.0         0.0              0.2475   \n",
      "4                   0.1         1.0         0.0              0.0000   \n",
      "...                 ...         ...         ...                 ...   \n",
      "440037              0.1         0.7         0.0              0.2475   \n",
      "440038              0.1         0.7         0.0              0.3375   \n",
      "440040              0.1         0.7         0.0              0.2025   \n",
      "440041              0.1         0.7         0.0              0.2250   \n",
      "440101              0.1         0.7         0.0              0.1350   \n",
      "\n",
      "        SLOPE_VAL  ELEVATION  TRI_VAL  FAULT_DISTANCE  WATER_DISTANCE  \\\n",
      "0            0.08       0.05     0.45          0.0000          0.0152   \n",
      "1            0.08       0.10     0.55          0.0000          0.0152   \n",
      "2            0.08       0.05     0.60          0.0000          0.0152   \n",
      "3            0.08       0.25     0.65          0.0000          0.0152   \n",
      "4            0.08       0.25     0.55          0.0000          0.0152   \n",
      "...           ...        ...      ...             ...             ...   \n",
      "440037       0.18       0.00     0.45          0.1700          0.0000   \n",
      "440038       0.18       0.00     0.45          0.1700          0.0000   \n",
      "440040       0.18       0.00     0.55          0.1700          0.0000   \n",
      "440041       0.18       0.00     0.55          0.1700          0.0000   \n",
      "440101       0.08       0.10     0.55          0.2551          0.0152   \n",
      "\n",
      "        EQ_HZ_RATING  RF_HZ_RATING  \n",
      "0               0.50         0.625  \n",
      "1               0.25         0.375  \n",
      "2               0.25         0.375  \n",
      "3               0.25         0.375  \n",
      "4               0.25         0.375  \n",
      "...              ...           ...  \n",
      "440037          0.25         0.625  \n",
      "440038          0.25         0.625  \n",
      "440040          0.25         0.625  \n",
      "440041          0.25         0.625  \n",
      "440101          0.25         0.375  \n",
      "\n",
      "[399667 rows x 14 columns]\n"
     ]
    }
   ],
   "source": [
    "feature_set.to_csv(r'feature_set_cleaned.csv',index = None, header=True)\n",
    "print(feature_set)"
   ]
  },
  {
   "cell_type": "code",
   "execution_count": 142,
   "metadata": {},
   "outputs": [],
   "source": [
    "import matplotlib.pyplot as plt"
   ]
  },
  {
   "cell_type": "code",
   "execution_count": 143,
   "metadata": {},
   "outputs": [
    {
     "data": {
      "text/plain": [
       "array([0.  , 0.01, 0.03, 0.13, 0.02, 0.1 , 0.16, 0.25, 0.04, 0.05])"
      ]
     },
     "execution_count": 143,
     "metadata": {},
     "output_type": "execute_result"
    }
   ],
   "source": [
    "feature_set['COVER_SIZE'].unique()"
   ]
  },
  {
   "cell_type": "code",
   "execution_count": 144,
   "metadata": {},
   "outputs": [],
   "source": [
    "feature_set = feature_set[feature_set['SOIL_COHESION'] != 0]\n",
    "feature_set = feature_set[feature_set['SOIL_H2O'] != 0]"
   ]
  },
  {
   "cell_type": "code",
   "execution_count": 145,
   "metadata": {},
   "outputs": [],
   "source": [
    "feature_set['SOIL_INTEGRITY'] = feature_set['SOIL_H2O'] * feature_set['SOIL_COHESION']"
   ]
  },
  {
   "cell_type": "code",
   "execution_count": 146,
   "metadata": {},
   "outputs": [
    {
     "data": {
      "text/plain": [
       "array([1.    , 0.2376, 0.354 , 0.59  , 0.5688, 0.132 , 0.56  , 0.91  ,\n",
       "       0.24  , 0.72  , 0.52  , 0.474 , 0.28  , 0.024 ])"
      ]
     },
     "execution_count": 146,
     "metadata": {},
     "output_type": "execute_result"
    }
   ],
   "source": [
    "feature_set['SOIL_INTEGRITY'].unique()"
   ]
  },
  {
   "cell_type": "code",
   "execution_count": null,
   "metadata": {},
   "outputs": [],
   "source": []
  },
  {
   "cell_type": "code",
   "execution_count": 147,
   "metadata": {},
   "outputs": [],
   "source": [
    "#is the ratio of land cover by land use -- land cover / land use\n",
    "feature_set['LULC'] = (feature_set['COVER_TYPE'] / feature_set['LAND_USE_IMPACT'])"
   ]
  },
  {
   "cell_type": "code",
   "execution_count": 148,
   "metadata": {},
   "outputs": [],
   "source": [
    "def normalizeLulc(lulc):\n",
    "    return lulc/10"
   ]
  },
  {
   "cell_type": "code",
   "execution_count": 149,
   "metadata": {},
   "outputs": [],
   "source": [
    "feature_set['LULC'] = feature_set['LULC'].apply(normalizeLulc)"
   ]
  },
  {
   "cell_type": "code",
   "execution_count": 150,
   "metadata": {},
   "outputs": [],
   "source": [
    "feature_set = feature_set.drop(columns=[\"SOIL_H2O\",\"SOIL_COHESION\",\"COVER_SIZE\",\"COVER_TYPE\",\"LAND_USE_IMPACT\"])"
   ]
  },
  {
   "cell_type": "code",
   "execution_count": 151,
   "metadata": {},
   "outputs": [],
   "source": [
    "feature_set_ndvi = pd.merge(ndvi, feature_set, on='POINT', how='left')"
   ]
  },
  {
   "cell_type": "code",
   "execution_count": 152,
   "metadata": {},
   "outputs": [],
   "source": [
    "feature_set = feature_set.round(4)"
   ]
  },
  {
   "cell_type": "code",
   "execution_count": 153,
   "metadata": {},
   "outputs": [],
   "source": [
    "feature_set_ndvi = feature_set_ndvi.dropna()"
   ]
  },
  {
   "cell_type": "code",
   "execution_count": 154,
   "metadata": {},
   "outputs": [
    {
     "data": {
      "text/html": [
       "<div>\n",
       "<style scoped>\n",
       "    .dataframe tbody tr th:only-of-type {\n",
       "        vertical-align: middle;\n",
       "    }\n",
       "\n",
       "    .dataframe tbody tr th {\n",
       "        vertical-align: top;\n",
       "    }\n",
       "\n",
       "    .dataframe thead th {\n",
       "        text-align: right;\n",
       "    }\n",
       "</style>\n",
       "<table border=\"1\" class=\"dataframe\">\n",
       "  <thead>\n",
       "    <tr style=\"text-align: right;\">\n",
       "      <th></th>\n",
       "      <th>NDVI</th>\n",
       "      <th>POINT</th>\n",
       "      <th>ASPECT_CODE_16_VAL</th>\n",
       "      <th>SLOPE_VAL</th>\n",
       "      <th>ELEVATION</th>\n",
       "      <th>TRI_VAL</th>\n",
       "      <th>FAULT_DISTANCE</th>\n",
       "      <th>WATER_DISTANCE</th>\n",
       "      <th>EQ_HZ_RATING</th>\n",
       "      <th>RF_HZ_RATING</th>\n",
       "      <th>SOIL_INTEGRITY</th>\n",
       "      <th>LULC</th>\n",
       "    </tr>\n",
       "  </thead>\n",
       "  <tbody>\n",
       "    <tr>\n",
       "      <th>0</th>\n",
       "      <td>1.0</td>\n",
       "      <td>312775.2104342669/1544806.8868831748</td>\n",
       "      <td>0.3150</td>\n",
       "      <td>0.08</td>\n",
       "      <td>0.15</td>\n",
       "      <td>0.55</td>\n",
       "      <td>0.2551</td>\n",
       "      <td>0.0</td>\n",
       "      <td>0.25</td>\n",
       "      <td>0.625</td>\n",
       "      <td>0.7200</td>\n",
       "      <td>0.3</td>\n",
       "    </tr>\n",
       "    <tr>\n",
       "      <th>1</th>\n",
       "      <td>1.0</td>\n",
       "      <td>312775.2104342669/1544806.8868831748</td>\n",
       "      <td>0.3150</td>\n",
       "      <td>0.08</td>\n",
       "      <td>0.15</td>\n",
       "      <td>0.55</td>\n",
       "      <td>0.2551</td>\n",
       "      <td>0.0</td>\n",
       "      <td>0.25</td>\n",
       "      <td>0.625</td>\n",
       "      <td>0.7200</td>\n",
       "      <td>0.3</td>\n",
       "    </tr>\n",
       "    <tr>\n",
       "      <th>2</th>\n",
       "      <td>1.0</td>\n",
       "      <td>312617.710434453/1544811.8868829866</td>\n",
       "      <td>0.2925</td>\n",
       "      <td>0.08</td>\n",
       "      <td>0.15</td>\n",
       "      <td>0.55</td>\n",
       "      <td>0.2551</td>\n",
       "      <td>0.0</td>\n",
       "      <td>0.25</td>\n",
       "      <td>0.625</td>\n",
       "      <td>0.7200</td>\n",
       "      <td>0.3</td>\n",
       "    </tr>\n",
       "    <tr>\n",
       "      <th>3</th>\n",
       "      <td>0.4</td>\n",
       "      <td>312590.21043448924/1544816.8868829524</td>\n",
       "      <td>0.2925</td>\n",
       "      <td>0.08</td>\n",
       "      <td>0.15</td>\n",
       "      <td>0.55</td>\n",
       "      <td>0.2551</td>\n",
       "      <td>0.0</td>\n",
       "      <td>0.25</td>\n",
       "      <td>0.625</td>\n",
       "      <td>0.7200</td>\n",
       "      <td>0.3</td>\n",
       "    </tr>\n",
       "    <tr>\n",
       "      <th>4</th>\n",
       "      <td>0.4</td>\n",
       "      <td>312885.2104341786/1544836.886883291</td>\n",
       "      <td>0.0675</td>\n",
       "      <td>0.08</td>\n",
       "      <td>0.10</td>\n",
       "      <td>0.50</td>\n",
       "      <td>0.2551</td>\n",
       "      <td>0.0</td>\n",
       "      <td>0.25</td>\n",
       "      <td>0.250</td>\n",
       "      <td>0.7200</td>\n",
       "      <td>0.3</td>\n",
       "    </tr>\n",
       "    <tr>\n",
       "      <th>...</th>\n",
       "      <td>...</td>\n",
       "      <td>...</td>\n",
       "      <td>...</td>\n",
       "      <td>...</td>\n",
       "      <td>...</td>\n",
       "      <td>...</td>\n",
       "      <td>...</td>\n",
       "      <td>...</td>\n",
       "      <td>...</td>\n",
       "      <td>...</td>\n",
       "      <td>...</td>\n",
       "      <td>...</td>\n",
       "    </tr>\n",
       "    <tr>\n",
       "      <th>314138</th>\n",
       "      <td>0.4</td>\n",
       "      <td>340190.6551865188/1577770.6604887112</td>\n",
       "      <td>0.2475</td>\n",
       "      <td>1.00</td>\n",
       "      <td>0.10</td>\n",
       "      <td>0.50</td>\n",
       "      <td>0.0850</td>\n",
       "      <td>0.0</td>\n",
       "      <td>0.25</td>\n",
       "      <td>0.375</td>\n",
       "      <td>0.5688</td>\n",
       "      <td>0.7</td>\n",
       "    </tr>\n",
       "    <tr>\n",
       "      <th>314141</th>\n",
       "      <td>0.4</td>\n",
       "      <td>341987.3821576835/1577760.4222594853</td>\n",
       "      <td>0.2025</td>\n",
       "      <td>1.00</td>\n",
       "      <td>0.10</td>\n",
       "      <td>0.50</td>\n",
       "      <td>0.0850</td>\n",
       "      <td>0.0</td>\n",
       "      <td>0.25</td>\n",
       "      <td>0.375</td>\n",
       "      <td>1.0000</td>\n",
       "      <td>0.3</td>\n",
       "    </tr>\n",
       "    <tr>\n",
       "      <th>314142</th>\n",
       "      <td>0.4</td>\n",
       "      <td>344027.7104382346/1577811.8869083615</td>\n",
       "      <td>0.0225</td>\n",
       "      <td>1.00</td>\n",
       "      <td>0.10</td>\n",
       "      <td>0.50</td>\n",
       "      <td>0.0850</td>\n",
       "      <td>0.0</td>\n",
       "      <td>0.25</td>\n",
       "      <td>0.375</td>\n",
       "      <td>0.5688</td>\n",
       "      <td>0.7</td>\n",
       "    </tr>\n",
       "    <tr>\n",
       "      <th>314143</th>\n",
       "      <td>0.4</td>\n",
       "      <td>340622.8030347185/1577802.4424598643</td>\n",
       "      <td>0.2250</td>\n",
       "      <td>1.00</td>\n",
       "      <td>0.10</td>\n",
       "      <td>0.55</td>\n",
       "      <td>0.0850</td>\n",
       "      <td>0.0</td>\n",
       "      <td>0.25</td>\n",
       "      <td>0.375</td>\n",
       "      <td>1.0000</td>\n",
       "      <td>0.7</td>\n",
       "    </tr>\n",
       "    <tr>\n",
       "      <th>314144</th>\n",
       "      <td>0.4</td>\n",
       "      <td>345016.3063274803/1577784.7636218802</td>\n",
       "      <td>0.2475</td>\n",
       "      <td>1.00</td>\n",
       "      <td>0.10</td>\n",
       "      <td>0.45</td>\n",
       "      <td>0.0850</td>\n",
       "      <td>0.0</td>\n",
       "      <td>0.25</td>\n",
       "      <td>0.500</td>\n",
       "      <td>1.0000</td>\n",
       "      <td>0.7</td>\n",
       "    </tr>\n",
       "  </tbody>\n",
       "</table>\n",
       "<p>235786 rows × 12 columns</p>\n",
       "</div>"
      ],
      "text/plain": [
       "        NDVI                                  POINT  ASPECT_CODE_16_VAL  \\\n",
       "0        1.0   312775.2104342669/1544806.8868831748              0.3150   \n",
       "1        1.0   312775.2104342669/1544806.8868831748              0.3150   \n",
       "2        1.0    312617.710434453/1544811.8868829866              0.2925   \n",
       "3        0.4  312590.21043448924/1544816.8868829524              0.2925   \n",
       "4        0.4    312885.2104341786/1544836.886883291              0.0675   \n",
       "...      ...                                    ...                 ...   \n",
       "314138   0.4   340190.6551865188/1577770.6604887112              0.2475   \n",
       "314141   0.4   341987.3821576835/1577760.4222594853              0.2025   \n",
       "314142   0.4   344027.7104382346/1577811.8869083615              0.0225   \n",
       "314143   0.4   340622.8030347185/1577802.4424598643              0.2250   \n",
       "314144   0.4   345016.3063274803/1577784.7636218802              0.2475   \n",
       "\n",
       "        SLOPE_VAL  ELEVATION  TRI_VAL  FAULT_DISTANCE  WATER_DISTANCE  \\\n",
       "0            0.08       0.15     0.55          0.2551             0.0   \n",
       "1            0.08       0.15     0.55          0.2551             0.0   \n",
       "2            0.08       0.15     0.55          0.2551             0.0   \n",
       "3            0.08       0.15     0.55          0.2551             0.0   \n",
       "4            0.08       0.10     0.50          0.2551             0.0   \n",
       "...           ...        ...      ...             ...             ...   \n",
       "314138       1.00       0.10     0.50          0.0850             0.0   \n",
       "314141       1.00       0.10     0.50          0.0850             0.0   \n",
       "314142       1.00       0.10     0.50          0.0850             0.0   \n",
       "314143       1.00       0.10     0.55          0.0850             0.0   \n",
       "314144       1.00       0.10     0.45          0.0850             0.0   \n",
       "\n",
       "        EQ_HZ_RATING  RF_HZ_RATING  SOIL_INTEGRITY  LULC  \n",
       "0               0.25         0.625          0.7200   0.3  \n",
       "1               0.25         0.625          0.7200   0.3  \n",
       "2               0.25         0.625          0.7200   0.3  \n",
       "3               0.25         0.625          0.7200   0.3  \n",
       "4               0.25         0.250          0.7200   0.3  \n",
       "...              ...           ...             ...   ...  \n",
       "314138          0.25         0.375          0.5688   0.7  \n",
       "314141          0.25         0.375          1.0000   0.3  \n",
       "314142          0.25         0.375          0.5688   0.7  \n",
       "314143          0.25         0.375          1.0000   0.7  \n",
       "314144          0.25         0.500          1.0000   0.7  \n",
       "\n",
       "[235786 rows x 12 columns]"
      ]
     },
     "execution_count": 154,
     "metadata": {},
     "output_type": "execute_result"
    }
   ],
   "source": [
    "feature_set_ndvi"
   ]
  },
  {
   "cell_type": "code",
   "execution_count": 155,
   "metadata": {},
   "outputs": [
    {
     "data": {
      "image/png": "[encoded data removed]",
      "text/plain": [
       "<Figure size 432x288 with 1 Axes>"
      ]
     },
     "metadata": {
      "needs_background": "light"
     },
     "output_type": "display_data"
    }
   ],
   "source": [
    "plt.scatter(feature_set_ndvi['SLOPE_VAL'], feature_set_ndvi['TRI_VAL'])\n",
    "plt.xlabel(\"SLOPE RATING\")\n",
    "plt.show()"
   ]
  },
  {
   "cell_type": "code",
   "execution_count": 156,
   "metadata": {},
   "outputs": [
    {
     "data": {
      "image/png": "[encoded data removed]",
      "text/plain": [
       "<Figure size 432x288 with 1 Axes>"
      ]
     },
     "metadata": {
      "needs_background": "light"
     },
     "output_type": "display_data"
    }
   ],
   "source": [
    "plt.scatter(feature_set['SOIL_INTEGRITY'], feature_set['EQ_HZ_RATING'])\n",
    "# plt.xlabel(\"COVER TYPE\")\n",
    "plt.show()"
   ]
  },
  {
   "cell_type": "code",
   "execution_count": 157,
   "metadata": {},
   "outputs": [
    {
     "data": {
      "text/plain": [
       "array([0.5 , 0.25, 1.  , 0.75])"
      ]
     },
     "execution_count": 157,
     "metadata": {},
     "output_type": "execute_result"
    }
   ],
   "source": [
    "feature_set['EQ_HZ_RATING'].unique()"
   ]
  },
  {
   "cell_type": "code",
   "execution_count": 158,
   "metadata": {},
   "outputs": [
    {
     "data": {
      "text/plain": [
       "array([1.    , 0.2376, 0.354 , 0.59  , 0.5688, 0.132 , 0.56  , 0.91  ,\n",
       "       0.24  , 0.72  , 0.52  , 0.474 , 0.28  , 0.024 ])"
      ]
     },
     "execution_count": 158,
     "metadata": {},
     "output_type": "execute_result"
    }
   ],
   "source": [
    "feature_set['SOIL_INTEGRITY'].unique()"
   ]
  },
  {
   "cell_type": "code",
   "execution_count": 159,
   "metadata": {},
   "outputs": [
    {
     "data": {
      "text/plain": [
       "array([0.08, 0.18, 0.3 , 0.5 , 1.  , 0.  ])"
      ]
     },
     "execution_count": 159,
     "metadata": {},
     "output_type": "execute_result"
    }
   ],
   "source": [
    "feature_set['SLOPE_VAL'].unique()"
   ]
  },
  {
   "cell_type": "code",
   "execution_count": 160,
   "metadata": {},
   "outputs": [],
   "source": [
    "# plt.scatter(sample[\"ELEVATION\"])\n",
    "# plt.xlabel(\"ELEVATION\")\n",
    "# plt.show()"
   ]
  },
  {
   "cell_type": "code",
   "execution_count": 161,
   "metadata": {},
   "outputs": [
    {
     "data": {
      "text/plain": [
       "Index(['NDVI', 'POINT', 'ASPECT_CODE_16_VAL', 'SLOPE_VAL', 'ELEVATION',\n",
       "       'TRI_VAL', 'FAULT_DISTANCE', 'WATER_DISTANCE', 'EQ_HZ_RATING',\n",
       "       'RF_HZ_RATING', 'SOIL_INTEGRITY', 'LULC'],\n",
       "      dtype='object')"
      ]
     },
     "execution_count": 161,
     "metadata": {},
     "output_type": "execute_result"
    }
   ],
   "source": [
    "feature_set_ndvi.columns"
   ]
  },
  {
   "cell_type": "code",
   "execution_count": null,
   "metadata": {},
   "outputs": [],
   "source": []
  },
  {
   "cell_type": "markdown",
   "metadata": {},
   "source": [
    "<h2>Using Analytical Hierarchy Process(AHP) </h2>\n",
    "<br>\n",
    "\"The AHP method, developed by Saaty (Saaty, 1977), is an important multiple-criteria decision-making method (Vaidya and Kumar, 2006), which has been applied for landslide susceptibility assessment for many years (Akgun, 2012; Barredo et al., 2000; Kayastha et al., 2013; Komac, 2006; Pourghasemi et al., 2012; Yalcin, 2008).\" (Yaning Yi,Zhijie Zhang, et. al, 2019)"
   ]
  },
  {
   "cell_type": "code",
   "execution_count": 162,
   "metadata": {},
   "outputs": [],
   "source": [
    "truths = ['HZ_RATING', 'LANDSLIDE']\n",
    "\n",
    "features = ['ELEVATION', 'SLOPE_VAL', 'ASPECT_CODE_16_VAL', 'SOIL_INTEGRITY', 'FAULT_DISTANCE', 'LULC', 'TRI_VAL', 'WATER_DISTANCE', 'NDVI', 'RAINFALL']\n",
    "\n",
    "# pairwise = []\n",
    "\n",
    "# for index_x in range(len(features)):\n",
    "#     y = []\n",
    "#     for index_y in range(len(features)):\n",
    "#         if(index_x > index_y):\n",
    "#             val = 1 / pairwise[index_y][index_x]\n",
    "#         elif(index_x != index_y):\n",
    "#             print(features[index_x] + ' / ' + features[index_y] + ':');\n",
    "#             val = float(input())\n",
    "#         else: \n",
    "#             print(features[index_x] + ' / ' + features[index_y] + ': 1');\n",
    "#             val = 1\n",
    "#         y.append(val)\n",
    "#     pairwise.append(y)\n",
    "\n"
   ]
  },
  {
   "cell_type": "code",
   "execution_count": 163,
   "metadata": {},
   "outputs": [],
   "source": [
    "# print(pairwise)"
   ]
  },
  {
   "cell_type": "code",
   "execution_count": 164,
   "metadata": {},
   "outputs": [],
   "source": [
    "# pairwise_cleaned = pairwise\n",
    "\n",
    "# for x in range(10):\n",
    "#     for y in range(10):\n",
    "#         if(pairwise_cleaned[x][y] > 2 and pairwise_cleaned[x][y] < 3):\n",
    "#             pairwise_cleaned[x][y] = 3"
   ]
  },
  {
   "cell_type": "code",
   "execution_count": 165,
   "metadata": {},
   "outputs": [],
   "source": [
    "    \n",
    "# pairwise_matrix = pd.DataFrame(pairwise_cleaned, columns=list(features))"
   ]
  },
  {
   "cell_type": "code",
   "execution_count": 166,
   "metadata": {},
   "outputs": [
    {
     "data": {
      "text/html": [
       "<div>\n",
       "<style scoped>\n",
       "    .dataframe tbody tr th:only-of-type {\n",
       "        vertical-align: middle;\n",
       "    }\n",
       "\n",
       "    .dataframe tbody tr th {\n",
       "        vertical-align: top;\n",
       "    }\n",
       "\n",
       "    .dataframe thead th {\n",
       "        text-align: right;\n",
       "    }\n",
       "</style>\n",
       "<table border=\"1\" class=\"dataframe\">\n",
       "  <thead>\n",
       "    <tr style=\"text-align: right;\">\n",
       "      <th></th>\n",
       "      <th>ELEVATION</th>\n",
       "      <th>SLOPE_VAL</th>\n",
       "      <th>ASPECT_CODE_16_VAL</th>\n",
       "      <th>SOIL_INTEGRITY</th>\n",
       "      <th>FAULT_DISTANCE</th>\n",
       "      <th>LULC</th>\n",
       "      <th>TRI_VAL</th>\n",
       "      <th>WATER_DISTANCE</th>\n",
       "      <th>NDVI</th>\n",
       "      <th>RAINFALL</th>\n",
       "    </tr>\n",
       "  </thead>\n",
       "  <tbody>\n",
       "    <tr>\n",
       "      <th>0</th>\n",
       "      <td>1.0</td>\n",
       "      <td>0.25</td>\n",
       "      <td>2.0</td>\n",
       "      <td>0.33</td>\n",
       "      <td>0.25</td>\n",
       "      <td>1.0</td>\n",
       "      <td>0.33</td>\n",
       "      <td>0.5</td>\n",
       "      <td>2.0</td>\n",
       "      <td>0.33</td>\n",
       "    </tr>\n",
       "    <tr>\n",
       "      <th>1</th>\n",
       "      <td>4.0</td>\n",
       "      <td>1.00</td>\n",
       "      <td>4.0</td>\n",
       "      <td>2.00</td>\n",
       "      <td>1.00</td>\n",
       "      <td>3.0</td>\n",
       "      <td>2.00</td>\n",
       "      <td>3.0</td>\n",
       "      <td>4.0</td>\n",
       "      <td>1.00</td>\n",
       "    </tr>\n",
       "    <tr>\n",
       "      <th>2</th>\n",
       "      <td>0.5</td>\n",
       "      <td>0.25</td>\n",
       "      <td>1.0</td>\n",
       "      <td>0.33</td>\n",
       "      <td>0.25</td>\n",
       "      <td>0.5</td>\n",
       "      <td>0.33</td>\n",
       "      <td>0.5</td>\n",
       "      <td>1.0</td>\n",
       "      <td>0.25</td>\n",
       "    </tr>\n",
       "    <tr>\n",
       "      <th>3</th>\n",
       "      <td>3.0</td>\n",
       "      <td>0.50</td>\n",
       "      <td>3.0</td>\n",
       "      <td>1.00</td>\n",
       "      <td>0.50</td>\n",
       "      <td>1.0</td>\n",
       "      <td>0.50</td>\n",
       "      <td>2.0</td>\n",
       "      <td>3.0</td>\n",
       "      <td>0.50</td>\n",
       "    </tr>\n",
       "    <tr>\n",
       "      <th>4</th>\n",
       "      <td>4.0</td>\n",
       "      <td>1.00</td>\n",
       "      <td>4.0</td>\n",
       "      <td>2.00</td>\n",
       "      <td>1.00</td>\n",
       "      <td>2.0</td>\n",
       "      <td>1.00</td>\n",
       "      <td>3.0</td>\n",
       "      <td>4.0</td>\n",
       "      <td>0.50</td>\n",
       "    </tr>\n",
       "    <tr>\n",
       "      <th>5</th>\n",
       "      <td>1.0</td>\n",
       "      <td>0.33</td>\n",
       "      <td>2.0</td>\n",
       "      <td>1.00</td>\n",
       "      <td>0.50</td>\n",
       "      <td>1.0</td>\n",
       "      <td>0.50</td>\n",
       "      <td>1.0</td>\n",
       "      <td>2.0</td>\n",
       "      <td>1.00</td>\n",
       "    </tr>\n",
       "    <tr>\n",
       "      <th>6</th>\n",
       "      <td>3.0</td>\n",
       "      <td>0.50</td>\n",
       "      <td>3.0</td>\n",
       "      <td>2.00</td>\n",
       "      <td>1.00</td>\n",
       "      <td>2.0</td>\n",
       "      <td>1.00</td>\n",
       "      <td>2.0</td>\n",
       "      <td>3.0</td>\n",
       "      <td>0.50</td>\n",
       "    </tr>\n",
       "    <tr>\n",
       "      <th>7</th>\n",
       "      <td>2.0</td>\n",
       "      <td>0.33</td>\n",
       "      <td>2.0</td>\n",
       "      <td>0.50</td>\n",
       "      <td>0.33</td>\n",
       "      <td>1.0</td>\n",
       "      <td>0.50</td>\n",
       "      <td>1.0</td>\n",
       "      <td>2.0</td>\n",
       "      <td>1.00</td>\n",
       "    </tr>\n",
       "    <tr>\n",
       "      <th>8</th>\n",
       "      <td>0.5</td>\n",
       "      <td>0.25</td>\n",
       "      <td>1.0</td>\n",
       "      <td>0.33</td>\n",
       "      <td>0.25</td>\n",
       "      <td>0.5</td>\n",
       "      <td>0.33</td>\n",
       "      <td>0.5</td>\n",
       "      <td>1.0</td>\n",
       "      <td>0.33</td>\n",
       "    </tr>\n",
       "    <tr>\n",
       "      <th>9</th>\n",
       "      <td>3.0</td>\n",
       "      <td>1.00</td>\n",
       "      <td>4.0</td>\n",
       "      <td>2.00</td>\n",
       "      <td>2.00</td>\n",
       "      <td>1.0</td>\n",
       "      <td>2.00</td>\n",
       "      <td>1.0</td>\n",
       "      <td>3.0</td>\n",
       "      <td>1.00</td>\n",
       "    </tr>\n",
       "  </tbody>\n",
       "</table>\n",
       "</div>"
      ],
      "text/plain": [
       "   ELEVATION  SLOPE_VAL  ASPECT_CODE_16_VAL  SOIL_INTEGRITY  FAULT_DISTANCE  \\\n",
       "0        1.0       0.25                 2.0            0.33            0.25   \n",
       "1        4.0       1.00                 4.0            2.00            1.00   \n",
       "2        0.5       0.25                 1.0            0.33            0.25   \n",
       "3        3.0       0.50                 3.0            1.00            0.50   \n",
       "4        4.0       1.00                 4.0            2.00            1.00   \n",
       "5        1.0       0.33                 2.0            1.00            0.50   \n",
       "6        3.0       0.50                 3.0            2.00            1.00   \n",
       "7        2.0       0.33                 2.0            0.50            0.33   \n",
       "8        0.5       0.25                 1.0            0.33            0.25   \n",
       "9        3.0       1.00                 4.0            2.00            2.00   \n",
       "\n",
       "   LULC  TRI_VAL  WATER_DISTANCE  NDVI  RAINFALL  \n",
       "0   1.0     0.33             0.5   2.0      0.33  \n",
       "1   3.0     2.00             3.0   4.0      1.00  \n",
       "2   0.5     0.33             0.5   1.0      0.25  \n",
       "3   1.0     0.50             2.0   3.0      0.50  \n",
       "4   2.0     1.00             3.0   4.0      0.50  \n",
       "5   1.0     0.50             1.0   2.0      1.00  \n",
       "6   2.0     1.00             2.0   3.0      0.50  \n",
       "7   1.0     0.50             1.0   2.0      1.00  \n",
       "8   0.5     0.33             0.5   1.0      0.33  \n",
       "9   1.0     2.00             1.0   3.0      1.00  "
      ]
     },
     "execution_count": 166,
     "metadata": {},
     "output_type": "execute_result"
    }
   ],
   "source": [
    "# pairwise_matrix.to_csv(r'pair_wise_matrix.csv',index = None, header=True)\n",
    "pairwise_matrix = pd.read_csv(\"pair_wise_matrix.csv\")\n",
    "pairwise_matrix.round(2)"
   ]
  },
  {
   "cell_type": "code",
   "execution_count": 167,
   "metadata": {},
   "outputs": [
    {
     "name": "stdout",
     "output_type": "stream",
     "text": [
      "Index(['ELEVATION', 'SLOPE_VAL', 'ASPECT_CODE_16_VAL', 'SOIL_INTEGRITY',\n",
      "       'FAULT_DISTANCE', 'LULC', 'TRI_VAL', 'WATER_DISTANCE', 'NDVI',\n",
      "       'RAINFALL'],\n",
      "      dtype='object')\n",
      "0    0.051470\n",
      "1    0.182471\n",
      "2    0.036257\n",
      "3    0.097347\n",
      "4    0.155214\n",
      "5    0.078171\n",
      "6    0.126687\n",
      "7    0.076012\n",
      "8    0.037505\n",
      "9    0.158866\n",
      "Name: WEIGHTS, dtype: float64\n"
     ]
    },
    {
     "data": {
      "text/html": [
       "<div>\n",
       "<style scoped>\n",
       "    .dataframe tbody tr th:only-of-type {\n",
       "        vertical-align: middle;\n",
       "    }\n",
       "\n",
       "    .dataframe tbody tr th {\n",
       "        vertical-align: top;\n",
       "    }\n",
       "\n",
       "    .dataframe thead th {\n",
       "        text-align: right;\n",
       "    }\n",
       "</style>\n",
       "<table border=\"1\" class=\"dataframe\">\n",
       "  <thead>\n",
       "    <tr style=\"text-align: right;\">\n",
       "      <th></th>\n",
       "      <th>ELEVATION</th>\n",
       "      <th>SLOPE_VAL</th>\n",
       "      <th>ASPECT_CODE_16_VAL</th>\n",
       "      <th>SOIL_INTEGRITY</th>\n",
       "      <th>FAULT_DISTANCE</th>\n",
       "      <th>LULC</th>\n",
       "      <th>TRI_VAL</th>\n",
       "      <th>WATER_DISTANCE</th>\n",
       "      <th>NDVI</th>\n",
       "      <th>RAINFALL</th>\n",
       "      <th>WEIGHTS</th>\n",
       "    </tr>\n",
       "  </thead>\n",
       "  <tbody>\n",
       "    <tr>\n",
       "      <th>0</th>\n",
       "      <td>0.045454</td>\n",
       "      <td>0.046211</td>\n",
       "      <td>0.076922</td>\n",
       "      <td>0.028721</td>\n",
       "      <td>0.035294</td>\n",
       "      <td>0.076923</td>\n",
       "      <td>0.039212</td>\n",
       "      <td>0.034483</td>\n",
       "      <td>0.079999</td>\n",
       "      <td>0.051482</td>\n",
       "      <td>0.051470</td>\n",
       "    </tr>\n",
       "    <tr>\n",
       "      <th>1</th>\n",
       "      <td>0.181816</td>\n",
       "      <td>0.184843</td>\n",
       "      <td>0.153844</td>\n",
       "      <td>0.174064</td>\n",
       "      <td>0.141176</td>\n",
       "      <td>0.230769</td>\n",
       "      <td>0.235297</td>\n",
       "      <td>0.206897</td>\n",
       "      <td>0.159998</td>\n",
       "      <td>0.156006</td>\n",
       "      <td>0.182471</td>\n",
       "    </tr>\n",
       "    <tr>\n",
       "      <th>2</th>\n",
       "      <td>0.022727</td>\n",
       "      <td>0.046211</td>\n",
       "      <td>0.038461</td>\n",
       "      <td>0.028721</td>\n",
       "      <td>0.035294</td>\n",
       "      <td>0.038462</td>\n",
       "      <td>0.039212</td>\n",
       "      <td>0.034483</td>\n",
       "      <td>0.040000</td>\n",
       "      <td>0.039002</td>\n",
       "      <td>0.036257</td>\n",
       "    </tr>\n",
       "    <tr>\n",
       "      <th>3</th>\n",
       "      <td>0.136362</td>\n",
       "      <td>0.092421</td>\n",
       "      <td>0.115383</td>\n",
       "      <td>0.087032</td>\n",
       "      <td>0.070588</td>\n",
       "      <td>0.076923</td>\n",
       "      <td>0.058824</td>\n",
       "      <td>0.137931</td>\n",
       "      <td>0.119999</td>\n",
       "      <td>0.078003</td>\n",
       "      <td>0.097347</td>\n",
       "    </tr>\n",
       "    <tr>\n",
       "      <th>4</th>\n",
       "      <td>0.181816</td>\n",
       "      <td>0.184843</td>\n",
       "      <td>0.153844</td>\n",
       "      <td>0.174064</td>\n",
       "      <td>0.141176</td>\n",
       "      <td>0.153846</td>\n",
       "      <td>0.117648</td>\n",
       "      <td>0.206897</td>\n",
       "      <td>0.159998</td>\n",
       "      <td>0.078003</td>\n",
       "      <td>0.155214</td>\n",
       "    </tr>\n",
       "    <tr>\n",
       "      <th>5</th>\n",
       "      <td>0.045454</td>\n",
       "      <td>0.060998</td>\n",
       "      <td>0.076922</td>\n",
       "      <td>0.087032</td>\n",
       "      <td>0.070588</td>\n",
       "      <td>0.076923</td>\n",
       "      <td>0.058824</td>\n",
       "      <td>0.068966</td>\n",
       "      <td>0.079999</td>\n",
       "      <td>0.156006</td>\n",
       "      <td>0.078171</td>\n",
       "    </tr>\n",
       "    <tr>\n",
       "      <th>6</th>\n",
       "      <td>0.136375</td>\n",
       "      <td>0.092421</td>\n",
       "      <td>0.115395</td>\n",
       "      <td>0.174064</td>\n",
       "      <td>0.141176</td>\n",
       "      <td>0.153846</td>\n",
       "      <td>0.117648</td>\n",
       "      <td>0.137931</td>\n",
       "      <td>0.120011</td>\n",
       "      <td>0.078003</td>\n",
       "      <td>0.126687</td>\n",
       "    </tr>\n",
       "    <tr>\n",
       "      <th>7</th>\n",
       "      <td>0.090908</td>\n",
       "      <td>0.060998</td>\n",
       "      <td>0.076922</td>\n",
       "      <td>0.043516</td>\n",
       "      <td>0.047059</td>\n",
       "      <td>0.076923</td>\n",
       "      <td>0.058824</td>\n",
       "      <td>0.068966</td>\n",
       "      <td>0.079999</td>\n",
       "      <td>0.156006</td>\n",
       "      <td>0.076012</td>\n",
       "    </tr>\n",
       "    <tr>\n",
       "      <th>8</th>\n",
       "      <td>0.022727</td>\n",
       "      <td>0.046211</td>\n",
       "      <td>0.038461</td>\n",
       "      <td>0.028721</td>\n",
       "      <td>0.035294</td>\n",
       "      <td>0.038462</td>\n",
       "      <td>0.039212</td>\n",
       "      <td>0.034483</td>\n",
       "      <td>0.040000</td>\n",
       "      <td>0.051482</td>\n",
       "      <td>0.037505</td>\n",
       "    </tr>\n",
       "    <tr>\n",
       "      <th>9</th>\n",
       "      <td>0.136362</td>\n",
       "      <td>0.184843</td>\n",
       "      <td>0.153844</td>\n",
       "      <td>0.174064</td>\n",
       "      <td>0.282353</td>\n",
       "      <td>0.076923</td>\n",
       "      <td>0.235297</td>\n",
       "      <td>0.068966</td>\n",
       "      <td>0.119999</td>\n",
       "      <td>0.156006</td>\n",
       "      <td>0.158866</td>\n",
       "    </tr>\n",
       "  </tbody>\n",
       "</table>\n",
       "</div>"
      ],
      "text/plain": [
       "   ELEVATION  SLOPE_VAL  ASPECT_CODE_16_VAL  SOIL_INTEGRITY  FAULT_DISTANCE  \\\n",
       "0   0.045454   0.046211            0.076922        0.028721        0.035294   \n",
       "1   0.181816   0.184843            0.153844        0.174064        0.141176   \n",
       "2   0.022727   0.046211            0.038461        0.028721        0.035294   \n",
       "3   0.136362   0.092421            0.115383        0.087032        0.070588   \n",
       "4   0.181816   0.184843            0.153844        0.174064        0.141176   \n",
       "5   0.045454   0.060998            0.076922        0.087032        0.070588   \n",
       "6   0.136375   0.092421            0.115395        0.174064        0.141176   \n",
       "7   0.090908   0.060998            0.076922        0.043516        0.047059   \n",
       "8   0.022727   0.046211            0.038461        0.028721        0.035294   \n",
       "9   0.136362   0.184843            0.153844        0.174064        0.282353   \n",
       "\n",
       "       LULC   TRI_VAL  WATER_DISTANCE      NDVI  RAINFALL   WEIGHTS  \n",
       "0  0.076923  0.039212        0.034483  0.079999  0.051482  0.051470  \n",
       "1  0.230769  0.235297        0.206897  0.159998  0.156006  0.182471  \n",
       "2  0.038462  0.039212        0.034483  0.040000  0.039002  0.036257  \n",
       "3  0.076923  0.058824        0.137931  0.119999  0.078003  0.097347  \n",
       "4  0.153846  0.117648        0.206897  0.159998  0.078003  0.155214  \n",
       "5  0.076923  0.058824        0.068966  0.079999  0.156006  0.078171  \n",
       "6  0.153846  0.117648        0.137931  0.120011  0.078003  0.126687  \n",
       "7  0.076923  0.058824        0.068966  0.079999  0.156006  0.076012  \n",
       "8  0.038462  0.039212        0.034483  0.040000  0.051482  0.037505  \n",
       "9  0.076923  0.235297        0.068966  0.119999  0.156006  0.158866  "
      ]
     },
     "execution_count": 167,
     "metadata": {},
     "output_type": "execute_result"
    }
   ],
   "source": [
    "pairwise_matrix_cal = pairwise_matrix.copy()\n",
    "\n",
    "print(pairwise_matrix_cal.columns)\n",
    "# pairwise_matrix_cal = pairwise_matrix_cal.drop(columns=[\"RAINFALL\"])\n",
    "# pairwise_matrix_cal = pairwise_matrix_cal.drop(pairwise_matrix_cal.index[9])\n",
    "\n",
    "def updateVal(x, y, val):\n",
    "    pairwise_matrix_cal[features[y]][x] = val\n",
    "    pairwise_matrix_cal[features[x]][y] = 1/val\n",
    "\n",
    "fcount = len(features)\n",
    "\n",
    "# pairwise_matrix_cal.to_csv(r'pair_wise_matrix.csv',index = None, header=True)\n",
    "\n",
    "sums = pairwise_matrix_cal.sum(axis = 0, skipna = True) \n",
    "pairwise_normalized = pairwise_matrix_cal.copy()\n",
    "\n",
    "for column in range(fcount):\n",
    "    for row in range(fcount):\n",
    "        pairwise_normalized[features[column]][row] = pairwise_normalized[features[column]][row]/sums[column]\n",
    "\n",
    "        # pairwise_normalized = pd.DataFrame(pairwise_normalized, columns=list(features))\n",
    "pairwise_normalized['WEIGHTS'] = pairwise_normalized.mean(axis=1)\n",
    "print(pairwise_normalized['WEIGHTS'])\n",
    "# pairwise_matrix_cal\n",
    "pairwise_normalized"
   ]
  },
  {
   "cell_type": "code",
   "execution_count": 168,
   "metadata": {},
   "outputs": [
    {
     "name": "stdout",
     "output_type": "stream",
     "text": [
      "   ELEVATION  SLOPE_VAL  ASPECT_CODE_16_VAL  SOIL_INTEGRITY  FAULT_DISTANCE  \\\n",
      "0   0.051470   0.045618            0.072514        0.032124        0.038803   \n",
      "1   0.205880   0.182471            0.145028        0.194693        0.155214   \n",
      "2   0.025735   0.045618            0.036257        0.032124        0.038803   \n",
      "3   0.154410   0.091236            0.108771        0.097347        0.077607   \n",
      "4   0.205880   0.182471            0.145028        0.194693        0.155214   \n",
      "5   0.051470   0.060215            0.072514        0.097347        0.077607   \n",
      "6   0.154426   0.091236            0.108782        0.194693        0.155214   \n",
      "7   0.102940   0.060215            0.072514        0.048673        0.051738   \n",
      "8   0.025735   0.045618            0.036257        0.032124        0.038803   \n",
      "9   0.154410   0.182471            0.145028        0.194693        0.310427   \n",
      "\n",
      "       LULC   TRI_VAL  WATER_DISTANCE      NDVI  RAINFALL     W_SUM   WEIGHTS  \\\n",
      "0  0.078171  0.042225        0.038006  0.075010  0.052426  0.526368  0.051470   \n",
      "1  0.234514  0.253374        0.228036  0.150021  0.158866  1.908098  0.182471   \n",
      "2  0.039086  0.042225        0.038006  0.037505  0.039716  0.375076  0.036257   \n",
      "3  0.078171  0.063344        0.152024  0.112515  0.079433  1.014858  0.097347   \n",
      "4  0.156343  0.126687        0.228036  0.150021  0.079433  1.623806  0.155214   \n",
      "5  0.078171  0.063344        0.076012  0.075010  0.158866  0.810556  0.078171   \n",
      "6  0.156343  0.126687        0.152024  0.112527  0.079433  1.331364  0.126687   \n",
      "7  0.078171  0.063344        0.076012  0.075010  0.158866  0.787484  0.076012   \n",
      "8  0.039086  0.042225        0.038006  0.037505  0.052426  0.387785  0.037505   \n",
      "9  0.078171  0.253374        0.076012  0.112515  0.158866  1.665969  0.158866   \n",
      "\n",
      "       RATIO  \n",
      "0  10.226682  \n",
      "1  10.456987  \n",
      "2  10.344890  \n",
      "3  10.425193  \n",
      "4  10.461752  \n",
      "5  10.368978  \n",
      "6  10.509066  \n",
      "7  10.359980  \n",
      "8  10.339513  \n",
      "9  10.486654  \n",
      "10.397969393204958\n",
      "0.044218821467217576\n",
      "0.029677061387394347\n"
     ]
    }
   ],
   "source": [
    "pairwise_consistency = pairwise_matrix_cal.copy()\n",
    "\n",
    "# print(pairwise_normalized['WEIGHTS'])\n",
    "\n",
    "for column in range(fcount):\n",
    "    for row in range(fcount):\n",
    "#         print(features[column] + ': ' + str(row) + ' = ' + str(pairwise_consistency[features[column]][row]))\n",
    "        pairwise_consistency[features[column]][row] = pairwise_consistency[features[column]][row] * pairwise_normalized['WEIGHTS'][column]\n",
    "\n",
    "pairwise_consistency['W_SUM'] = pairwise_consistency.sum(axis=1)    \n",
    "pairwise_consistency['WEIGHTS'] = pairwise_normalized['WEIGHTS']\n",
    "pairwise_consistency['RATIO'] = pairwise_consistency['W_SUM']/pairwise_normalized['WEIGHTS']\n",
    "lambda_max = pairwise_consistency['RATIO'].mean()\n",
    "consistency_index = (lambda_max-fcount)/(fcount-1)\n",
    "\n",
    "random_index = [0, 0, 0.58, 0.9, 1.12, 1.24, 1.32, 1.41, 1.45, 1.49]\n",
    "\n",
    "consistency_ratio = consistency_index / random_index[fcount-1]\n",
    "\n",
    "print(pairwise_consistency)\n",
    "print(lambda_max)\n",
    "# print(pairwise_consistency['RATIO'])\n",
    "print(consistency_index)\n",
    "print(consistency_ratio)"
   ]
  },
  {
   "cell_type": "code",
   "execution_count": 169,
   "metadata": {},
   "outputs": [
    {
     "data": {
      "text/html": [
       "<div>\n",
       "<style scoped>\n",
       "    .dataframe tbody tr th:only-of-type {\n",
       "        vertical-align: middle;\n",
       "    }\n",
       "\n",
       "    .dataframe tbody tr th {\n",
       "        vertical-align: top;\n",
       "    }\n",
       "\n",
       "    .dataframe thead th {\n",
       "        text-align: right;\n",
       "    }\n",
       "</style>\n",
       "<table border=\"1\" class=\"dataframe\">\n",
       "  <thead>\n",
       "    <tr style=\"text-align: right;\">\n",
       "      <th></th>\n",
       "      <th>ELEVATION</th>\n",
       "      <th>SLOPE_VAL</th>\n",
       "      <th>ASPECT_CODE_16_VAL</th>\n",
       "      <th>SOIL_INTEGRITY</th>\n",
       "      <th>FAULT_DISTANCE</th>\n",
       "      <th>LULC</th>\n",
       "      <th>TRI_VAL</th>\n",
       "      <th>WATER_DISTANCE</th>\n",
       "      <th>NDVI</th>\n",
       "      <th>RAINFALL</th>\n",
       "      <th>WEIGHTS</th>\n",
       "      <th>FN</th>\n",
       "    </tr>\n",
       "  </thead>\n",
       "  <tbody>\n",
       "    <tr>\n",
       "      <th>0</th>\n",
       "      <td>1.0000</td>\n",
       "      <td>0.25</td>\n",
       "      <td>2.0000</td>\n",
       "      <td>0.33</td>\n",
       "      <td>0.250000</td>\n",
       "      <td>1.0</td>\n",
       "      <td>0.3333</td>\n",
       "      <td>0.5</td>\n",
       "      <td>2.0000</td>\n",
       "      <td>0.33</td>\n",
       "      <td>0.051470</td>\n",
       "      <td>ELEVATION</td>\n",
       "    </tr>\n",
       "    <tr>\n",
       "      <th>1</th>\n",
       "      <td>4.0000</td>\n",
       "      <td>1.00</td>\n",
       "      <td>4.0000</td>\n",
       "      <td>2.00</td>\n",
       "      <td>1.000000</td>\n",
       "      <td>3.0</td>\n",
       "      <td>2.0000</td>\n",
       "      <td>3.0</td>\n",
       "      <td>4.0000</td>\n",
       "      <td>1.00</td>\n",
       "      <td>0.182471</td>\n",
       "      <td>SLOPE_VAL</td>\n",
       "    </tr>\n",
       "    <tr>\n",
       "      <th>2</th>\n",
       "      <td>0.5000</td>\n",
       "      <td>0.25</td>\n",
       "      <td>1.0000</td>\n",
       "      <td>0.33</td>\n",
       "      <td>0.250000</td>\n",
       "      <td>0.5</td>\n",
       "      <td>0.3333</td>\n",
       "      <td>0.5</td>\n",
       "      <td>1.0000</td>\n",
       "      <td>0.25</td>\n",
       "      <td>0.036257</td>\n",
       "      <td>ASPECT_CODE_16_VAL</td>\n",
       "    </tr>\n",
       "    <tr>\n",
       "      <th>3</th>\n",
       "      <td>3.0000</td>\n",
       "      <td>0.50</td>\n",
       "      <td>3.0000</td>\n",
       "      <td>1.00</td>\n",
       "      <td>0.500000</td>\n",
       "      <td>1.0</td>\n",
       "      <td>0.5000</td>\n",
       "      <td>2.0</td>\n",
       "      <td>3.0000</td>\n",
       "      <td>0.50</td>\n",
       "      <td>0.097347</td>\n",
       "      <td>SOIL_INTEGRITY</td>\n",
       "    </tr>\n",
       "    <tr>\n",
       "      <th>4</th>\n",
       "      <td>4.0000</td>\n",
       "      <td>1.00</td>\n",
       "      <td>4.0000</td>\n",
       "      <td>2.00</td>\n",
       "      <td>1.000000</td>\n",
       "      <td>2.0</td>\n",
       "      <td>1.0000</td>\n",
       "      <td>3.0</td>\n",
       "      <td>4.0000</td>\n",
       "      <td>0.50</td>\n",
       "      <td>0.155214</td>\n",
       "      <td>FAULT_DISTANCE</td>\n",
       "    </tr>\n",
       "    <tr>\n",
       "      <th>5</th>\n",
       "      <td>1.0000</td>\n",
       "      <td>0.33</td>\n",
       "      <td>2.0000</td>\n",
       "      <td>1.00</td>\n",
       "      <td>0.500000</td>\n",
       "      <td>1.0</td>\n",
       "      <td>0.5000</td>\n",
       "      <td>1.0</td>\n",
       "      <td>2.0000</td>\n",
       "      <td>1.00</td>\n",
       "      <td>0.078171</td>\n",
       "      <td>LULC</td>\n",
       "    </tr>\n",
       "    <tr>\n",
       "      <th>6</th>\n",
       "      <td>3.0003</td>\n",
       "      <td>0.50</td>\n",
       "      <td>3.0003</td>\n",
       "      <td>2.00</td>\n",
       "      <td>1.000000</td>\n",
       "      <td>2.0</td>\n",
       "      <td>1.0000</td>\n",
       "      <td>2.0</td>\n",
       "      <td>3.0003</td>\n",
       "      <td>0.50</td>\n",
       "      <td>0.126687</td>\n",
       "      <td>TRI_VAL</td>\n",
       "    </tr>\n",
       "    <tr>\n",
       "      <th>7</th>\n",
       "      <td>2.0000</td>\n",
       "      <td>0.33</td>\n",
       "      <td>2.0000</td>\n",
       "      <td>0.50</td>\n",
       "      <td>0.333333</td>\n",
       "      <td>1.0</td>\n",
       "      <td>0.5000</td>\n",
       "      <td>1.0</td>\n",
       "      <td>2.0000</td>\n",
       "      <td>1.00</td>\n",
       "      <td>0.076012</td>\n",
       "      <td>WATER_DISTANCE</td>\n",
       "    </tr>\n",
       "    <tr>\n",
       "      <th>8</th>\n",
       "      <td>0.5000</td>\n",
       "      <td>0.25</td>\n",
       "      <td>1.0000</td>\n",
       "      <td>0.33</td>\n",
       "      <td>0.250000</td>\n",
       "      <td>0.5</td>\n",
       "      <td>0.3333</td>\n",
       "      <td>0.5</td>\n",
       "      <td>1.0000</td>\n",
       "      <td>0.33</td>\n",
       "      <td>0.037505</td>\n",
       "      <td>NDVI</td>\n",
       "    </tr>\n",
       "    <tr>\n",
       "      <th>9</th>\n",
       "      <td>3.0000</td>\n",
       "      <td>1.00</td>\n",
       "      <td>4.0000</td>\n",
       "      <td>2.00</td>\n",
       "      <td>2.000000</td>\n",
       "      <td>1.0</td>\n",
       "      <td>2.0000</td>\n",
       "      <td>1.0</td>\n",
       "      <td>3.0000</td>\n",
       "      <td>1.00</td>\n",
       "      <td>0.158866</td>\n",
       "      <td>RAINFALL</td>\n",
       "    </tr>\n",
       "  </tbody>\n",
       "</table>\n",
       "</div>"
      ],
      "text/plain": [
       "   ELEVATION  SLOPE_VAL  ASPECT_CODE_16_VAL  SOIL_INTEGRITY  FAULT_DISTANCE  \\\n",
       "0     1.0000       0.25              2.0000            0.33        0.250000   \n",
       "1     4.0000       1.00              4.0000            2.00        1.000000   \n",
       "2     0.5000       0.25              1.0000            0.33        0.250000   \n",
       "3     3.0000       0.50              3.0000            1.00        0.500000   \n",
       "4     4.0000       1.00              4.0000            2.00        1.000000   \n",
       "5     1.0000       0.33              2.0000            1.00        0.500000   \n",
       "6     3.0003       0.50              3.0003            2.00        1.000000   \n",
       "7     2.0000       0.33              2.0000            0.50        0.333333   \n",
       "8     0.5000       0.25              1.0000            0.33        0.250000   \n",
       "9     3.0000       1.00              4.0000            2.00        2.000000   \n",
       "\n",
       "   LULC  TRI_VAL  WATER_DISTANCE    NDVI  RAINFALL   WEIGHTS  \\\n",
       "0   1.0   0.3333             0.5  2.0000      0.33  0.051470   \n",
       "1   3.0   2.0000             3.0  4.0000      1.00  0.182471   \n",
       "2   0.5   0.3333             0.5  1.0000      0.25  0.036257   \n",
       "3   1.0   0.5000             2.0  3.0000      0.50  0.097347   \n",
       "4   2.0   1.0000             3.0  4.0000      0.50  0.155214   \n",
       "5   1.0   0.5000             1.0  2.0000      1.00  0.078171   \n",
       "6   2.0   1.0000             2.0  3.0003      0.50  0.126687   \n",
       "7   1.0   0.5000             1.0  2.0000      1.00  0.076012   \n",
       "8   0.5   0.3333             0.5  1.0000      0.33  0.037505   \n",
       "9   1.0   2.0000             1.0  3.0000      1.00  0.158866   \n",
       "\n",
       "                   FN  \n",
       "0           ELEVATION  \n",
       "1           SLOPE_VAL  \n",
       "2  ASPECT_CODE_16_VAL  \n",
       "3      SOIL_INTEGRITY  \n",
       "4      FAULT_DISTANCE  \n",
       "5                LULC  \n",
       "6             TRI_VAL  \n",
       "7      WATER_DISTANCE  \n",
       "8                NDVI  \n",
       "9            RAINFALL  "
      ]
     },
     "execution_count": 169,
     "metadata": {},
     "output_type": "execute_result"
    }
   ],
   "source": [
    "pairwise_show = pairwise_matrix_cal.copy()\n",
    "pairwise_show['WEIGHTS'] = pairwise_normalized['WEIGHTS']\n",
    "pairwise_show['FN'] = features\n",
    "pairwise_show.set_index('FN')\n",
    "\n",
    "pairwise_show"
   ]
  },
  {
   "cell_type": "code",
   "execution_count": 170,
   "metadata": {},
   "outputs": [],
   "source": [
    "data_set = pd.merge(feature_set_ndvi, landslides, on='POINT', how='left')"
   ]
  },
  {
   "cell_type": "markdown",
   "metadata": {},
   "source": [
    "<h3>Split Data Set 80% Training - 20% Test</h3>"
   ]
  },
  {
   "cell_type": "code",
   "execution_count": 171,
   "metadata": {},
   "outputs": [],
   "source": [
    "from sklearn.model_selection import train_test_split\n",
    "\n",
    "data_set_ls = data_set[data_set['LS_VALUE'] == 1]\n",
    "data_set_non_ls = data_set[data_set['LS_VALUE'] == 0]\n",
    "ls_train, ls_test = train_test_split(data_set_ls, test_size=0.2)\n",
    "non_ls_train, non_ls_test = train_test_split(data_set_non_ls, test_size=0.2)\n",
    "\n",
    "data_set_train = pd.concat([ls_train, non_ls_train])\n",
    "data_set_test = pd.concat([ls_test, non_ls_test])"
   ]
  },
  {
   "cell_type": "code",
   "execution_count": 172,
   "metadata": {},
   "outputs": [
    {
     "name": "stdout",
     "output_type": "stream",
     "text": [
      "189142\n",
      "47287\n",
      "236429\n",
      "236429\n"
     ]
    }
   ],
   "source": [
    "print(len(data_set_train))\n",
    "print(len(data_set_test))\n",
    "\n",
    "print(len(data_set))\n",
    "print(len(data_set_train) + len(data_set_test))"
   ]
  },
  {
   "cell_type": "markdown",
   "metadata": {},
   "source": [
    "<h2>Calculating the Frequency Ratio (FR) </h2>\n",
    "<br>\n",
    "\"The FR method is one of the most widely used approaches to assess the landslide susceptibility at a regional scale (Guo etal.,2015;Lietal.,2017;Mohammadyetal.,2012),which is based on the observed spatial relationship between landslide locations and controlling factors (Lee and Pradhan, 2007; Poudyal et al., 2010).\" (Yaning Yi,Zhijie Zhang, et. al, 2019)"
   ]
  },
  {
   "cell_type": "markdown",
   "metadata": {},
   "source": [
    "<h3>Land Feature FRs</h3>"
   ]
  },
  {
   "cell_type": "code",
   "execution_count": null,
   "metadata": {},
   "outputs": [],
   "source": []
  },
  {
   "cell_type": "code",
   "execution_count": 173,
   "metadata": {},
   "outputs": [
    {
     "name": "stdout",
     "output_type": "stream",
     "text": [
      "2394\n",
      "234035\n",
      "0.010229239216356528\n"
     ]
    }
   ],
   "source": [
    "# FRi = (Ncell(Si) / Ncell(Ni))/ (LS_points / ds_count)\n",
    "dfc = data_set_train.copy()\n",
    "ls_points = len(dfc[dfc['LS_VALUE'] == 1.0])\n",
    "ds_count = len(data_set) - ls_points\n",
    "frD = ls_points/ds_count \n",
    "\n",
    "print(ls_points)\n",
    "print(ds_count)\n",
    "print(frD)"
   ]
  },
  {
   "cell_type": "code",
   "execution_count": 174,
   "metadata": {},
   "outputs": [
    {
     "name": "stdout",
     "output_type": "stream",
     "text": [
      "ELEVATION\n",
      "SLOPE_VAL\n",
      "ASPECT_CODE_16_VAL\n",
      "SOIL_INTEGRITY\n",
      "FAULT_DISTANCE\n",
      "LULC\n",
      "TRI_VAL\n",
      "WATER_DISTANCE\n",
      "NDVI\n"
     ]
    }
   ],
   "source": [
    "\n",
    "FR = {}\n",
    "\n",
    "# count all points where feature with value c is in a landlslide area\n",
    "def calculateSi(feat, c):\n",
    "    dfc_copy = dfc[dfc['LS_VALUE'] == 1.0]\n",
    "    return len(dfc_copy[dfc_copy[feat] == c])\n",
    "\n",
    "# count all points where the class for feature is c\n",
    "def calculateNi(feat, c):\n",
    "    return len(dfc[dfc[feat] == c])\n",
    "\n",
    "for feat in features:\n",
    "    if(feat == 'RAINFALL'):\n",
    "        continue\n",
    "    fri = {}\n",
    "    print(feat) \n",
    "    fset = data_set[feat].unique()\n",
    "    for c in fset:\n",
    "        ni = calculateNi(feat,c)\n",
    "        if( ni == 0):\n",
    "            ni = 0.000001\n",
    "        f = (calculateSi(feat, c) / ni)/frD\n",
    "        fri[c] = f\n",
    "    FR[feat] = fri\n",
    "        "
   ]
  },
  {
   "cell_type": "code",
   "execution_count": 175,
   "metadata": {},
   "outputs": [
    {
     "data": {
      "text/plain": [
       "{'ELEVATION': {0.15: 0.4568408712473858,\n",
       "  0.1: 0.9278974486210297,\n",
       "  0.2: 1.2170016438382982,\n",
       "  0.0: 1.6636662020188484,\n",
       "  0.05: 2.0711187187530817,\n",
       "  0.3: 0.6363010583658357,\n",
       "  0.25: 1.668899212355687,\n",
       "  0.35: 0.0,\n",
       "  0.4: 0.0,\n",
       "  0.45: 0.0,\n",
       "  0.5: 0.0,\n",
       "  0.95: 0.0,\n",
       "  0.75: 0.0,\n",
       "  0.65: 0.0,\n",
       "  1.0: 0.0,\n",
       "  0.55: 0.0,\n",
       "  0.6: 0.0,\n",
       "  0.7: 0.0,\n",
       "  0.9: 0.0,\n",
       "  0.85: 0.0,\n",
       "  0.8: 0.0},\n",
       " 'SLOPE_VAL': {0.08: 1.0376839897168464,\n",
       "  0.18: 1.0550628082790783,\n",
       "  0.3: 1.4180102539332704,\n",
       "  0.5: 1.5107921679589522,\n",
       "  1.0: 2.228679730165017,\n",
       "  0.0: 0.0},\n",
       " 'ASPECT_CODE_16_VAL': {0.315: 1.3896148834048436,\n",
       "  0.2925: 0.9765576737262631,\n",
       "  0.0675: 1.44690404833538,\n",
       "  0.09: 1.7834890680849533,\n",
       "  0.045: 1.535213448032925,\n",
       "  0.33749999999999997: 1.2755293270055448,\n",
       "  0.22499999999999998: 0.7928737701208507,\n",
       "  0.20249999999999999: 1.4183504593058636,\n",
       "  0.135: 1.645464731263109,\n",
       "  0.11249999999999999: 1.1722266326258806,\n",
       "  0.18: 1.042833766582759,\n",
       "  0.0225: 1.5042414550652576,\n",
       "  0.0: 1.4564751498422308,\n",
       "  0.1575: 0.970333401545754,\n",
       "  0.2475: 0.757593485884098,\n",
       "  0.27: 0.7113439350281456},\n",
       " 'SOIL_INTEGRITY': {0.72: 0.5122760553025841,\n",
       "  1.0: 0.9237729105247542,\n",
       "  0.5688: 0.5310525496429519,\n",
       "  0.474: 8.465084058732602,\n",
       "  0.132: 0.0,\n",
       "  0.354: 0.9716881436675007,\n",
       "  0.28: 1.7584260034302253,\n",
       "  0.024: 0.0,\n",
       "  0.91: 0.0,\n",
       "  0.24: 13.235062014009383,\n",
       "  0.2376: 0.0,\n",
       "  0.52: 0.0,\n",
       "  0.59: 0.0,\n",
       "  0.56: 0.0},\n",
       " 'FAULT_DISTANCE': {0.2551: 0.13930901923067912,\n",
       "  0.17: 1.5989260612085718,\n",
       "  0.085: 1.3507472737571737,\n",
       "  0.0: 1.2198491478412088},\n",
       " 'LULC': {0.29999999999999993: 1.2923976275522027,\n",
       "  0.7: 1.0055049506477143,\n",
       "  0.13999999999999999: 0.0,\n",
       "  1.0: 3.110832937876248,\n",
       "  0.27999999999999997: 0.0,\n",
       "  0.09333333333333332: 0.0,\n",
       "  0.12: 0.0,\n",
       "  0.039999999999999994: 0.0,\n",
       "  0.06: 0.9183166427312232,\n",
       "  0.13333333333333333: 0.0,\n",
       "  0.06999999999999999: 0.0,\n",
       "  0.03: 0.0,\n",
       "  0.1: 0.0,\n",
       "  0.02: 0.0},\n",
       " 'TRI_VAL': {0.55: 1.0926074448670238,\n",
       "  0.5: 1.3692692875593049,\n",
       "  0.45: 1.3676438328577414,\n",
       "  0.6: 1.2228777047468482,\n",
       "  0.4: 1.5770924516413798,\n",
       "  0.35: 1.9422314063303956,\n",
       "  0.7: 1.1148565164395905,\n",
       "  0.65: 1.1652324055789565,\n",
       "  0.75: 0.0,\n",
       "  0.8: 0.0,\n",
       "  0.3: 0.0,\n",
       "  0.25: 0.0,\n",
       "  0.9: 0.0,\n",
       "  0.85: 0.0,\n",
       "  0.2: 0.0,\n",
       "  0.15: 0.0,\n",
       "  0.95: 0.0,\n",
       "  1.0: 0.0,\n",
       "  0.05: 0.0},\n",
       " 'WATER_DISTANCE': {0.0: 1.3353293335333514,\n",
       "  0.0152: 0.7619249466406739,\n",
       "  0.0303: 0.0,\n",
       "  0.0455: 2.1438372979231706},\n",
       " 'NDVI': {1.0: 1.0259287641166372,\n",
       "  0.4: 1.5756846679511176,\n",
       "  0.0: 0.7842381723548866,\n",
       "  0.1: 0.9059776072777059}}"
      ]
     },
     "execution_count": 175,
     "metadata": {},
     "output_type": "execute_result"
    }
   ],
   "source": [
    "FR"
   ]
  },
  {
   "cell_type": "markdown",
   "metadata": {},
   "source": [
    "<h3>Rainfall FR</h3>"
   ]
  },
  {
   "cell_type": "code",
   "execution_count": 176,
   "metadata": {},
   "outputs": [],
   "source": [
    "FRR = {0.2:0.1, 0.4:0.25, .6:0.5, .8:0.75, 1:0.1}"
   ]
  },
  {
   "cell_type": "code",
   "execution_count": null,
   "metadata": {},
   "outputs": [],
   "source": []
  },
  {
   "cell_type": "markdown",
   "metadata": {},
   "source": []
  },
  {
   "cell_type": "code",
   "execution_count": null,
   "metadata": {},
   "outputs": [],
   "source": []
  },
  {
   "cell_type": "code",
   "execution_count": null,
   "metadata": {},
   "outputs": [],
   "source": []
  },
  {
   "cell_type": "code",
   "execution_count": null,
   "metadata": {},
   "outputs": [],
   "source": []
  },
  {
   "cell_type": "markdown",
   "metadata": {},
   "source": [
    "<h2>Calculate Integrated Weighted Index</h2>"
   ]
  },
  {
   "cell_type": "code",
   "execution_count": 177,
   "metadata": {},
   "outputs": [
    {
     "data": {
      "text/plain": [
       "array([0.55, 0.5 , 0.45, 0.6 , 0.4 , 0.35, 0.7 , 0.65, 0.75, 0.8 , 0.3 ,\n",
       "       0.25, 0.9 , 0.85, 0.2 , 0.15, 0.95, 1.  , 0.05])"
      ]
     },
     "execution_count": 177,
     "metadata": {},
     "output_type": "execute_result"
    }
   ],
   "source": [
    "dfsc = data_set.copy()\n",
    "dfsc.columns\n",
    "dfsc['TRI_VAL'].unique()\n",
    "\n"
   ]
  },
  {
   "cell_type": "code",
   "execution_count": 178,
   "metadata": {},
   "outputs": [
    {
     "name": "stdout",
     "output_type": "stream",
     "text": [
      "['ELEVATION', 'SLOPE_VAL', 'ASPECT_CODE_16_VAL', 'SOIL_INTEGRITY', 'FAULT_DISTANCE', 'LULC', 'TRI_VAL', 'WATER_DISTANCE', 'NDVI', 'RAINFALL']\n"
     ]
    }
   ],
   "source": [
    "weights = pairwise_show['WEIGHTS']\n",
    "print(features)\n",
    "\n",
    "\n",
    "def calcIwI(elev, slope, aspect, si, fd, lulc, tri, wd, ndvi):\n",
    "        vals = [elev, slope, aspect, si, fd, lulc, tri, wd, ndvi]\n",
    "        weighted_index = 0\n",
    "        for x in range(len(features)-1):\n",
    "            try:\n",
    "                FRval = FR[features[x]][vals[x]]\n",
    "                weighted_index += weights[x] * FRval\n",
    "            except:\n",
    "                print(features[x])\n",
    "                return np.nan()\n",
    "        return weighted_index"
   ]
  },
  {
   "cell_type": "code",
   "execution_count": 179,
   "metadata": {},
   "outputs": [],
   "source": [
    "dfsc['IW_INDEX'] = dfsc.apply(lambda row: calcIwI(row['ELEVATION'], row['SLOPE_VAL'], row['ASPECT_CODE_16_VAL'], row['SOIL_INTEGRITY'], row['FAULT_DISTANCE'], row['LULC'], row['TRI_VAL'], row['WATER_DISTANCE'], row['NDVI']), axis = 1)"
   ]
  },
  {
   "cell_type": "markdown",
   "metadata": {},
   "source": [
    "<h2>Find Mean of Landslide Areas and apply classification to whole data set</h2>"
   ]
  },
  {
   "cell_type": "code",
   "execution_count": 180,
   "metadata": {},
   "outputs": [
    {
     "name": "stdout",
     "output_type": "stream",
     "text": [
      "0.4379995648175563\n",
      "2.4424257983207216\n"
     ]
    }
   ],
   "source": [
    "print(dfsc['IW_INDEX'].min())\n",
    "print(dfsc['IW_INDEX'].max())"
   ]
  },
  {
   "cell_type": "code",
   "execution_count": 181,
   "metadata": {},
   "outputs": [],
   "source": [
    "# dfsc.iloc[dfsc['IW_INDEX'].idxmax()]\n",
    "\n",
    "def getLsClass(value):\n",
    "    if(value > 1.8):\n",
    "        return 7\n",
    "    if(value > 1.6):\n",
    "        return 6\n",
    "    if(value > 1.4):\n",
    "        return 5\n",
    "    if(value > 1.2):\n",
    "        return 4\n",
    "    if(value > 1):\n",
    "        return 3\n",
    "    if(value > 0.7):\n",
    "        return 2\n",
    "    if(value < 0.7):\n",
    "        return 1\n",
    "\n",
    "# dflx = dfsc[dfsc['LS_VALUE'] == 1]\n",
    "dflx = dfsc.copy()\n",
    "\n",
    "# dflx.std(axis = 0, skipna = True) "
   ]
  },
  {
   "cell_type": "code",
   "execution_count": 182,
   "metadata": {},
   "outputs": [],
   "source": [
    "dflx['LS_CLASS'] = dflx['IW_INDEX'].apply(getLsClass)"
   ]
  },
  {
   "cell_type": "code",
   "execution_count": 183,
   "metadata": {},
   "outputs": [
    {
     "name": "stdout",
     "output_type": "stream",
     "text": [
      "0.4379995648175563\n",
      "236429\n",
      "114930\n",
      "2.4424257983207216\n"
     ]
    }
   ],
   "source": [
    "minfx = dflx['IW_INDEX'].min()\n",
    "print(minfx)\n",
    "print(len(dflx))\n",
    "print(len(dflx[dflx['IW_INDEX'] > 1]))\n",
    "print(dflx['IW_INDEX'].max())"
   ]
  },
  {
   "cell_type": "code",
   "execution_count": 184,
   "metadata": {},
   "outputs": [
    {
     "data": {
      "image/png": "[encoded data removed]",
      "text/plain": [
       "<Figure size 432x288 with 1 Axes>"
      ]
     },
     "metadata": {
      "needs_background": "light"
     },
     "output_type": "display_data"
    }
   ],
   "source": [
    "dflx.sort_values(by=['IW_INDEX'], ascending=True)\n",
    "\n",
    "y_values = [0,0.25,0.5,0.75,1,1.25,1.5,2,3,5,8]\n",
    "yticks=['0','0.25','0.5','0.75','1','1.25', '1.5', '2', '3', '5', '8']\n",
    "plt.yticks(y_values,yticks)\n",
    "lines = dflx['IW_INDEX'].plot.line()"
   ]
  },
  {
   "cell_type": "code",
   "execution_count": 185,
   "metadata": {},
   "outputs": [],
   "source": [
    "# plt.style.use('seaborn-whitegrid')\n",
    "# fig = plt.figure()\n",
    "# ax = plt.axes()\n",
    "# # ax = plt.gca()\n",
    "# ax.set_xscale('log')\n",
    "\n",
    "# y_values = [0,0.25,0.5,0.75,1,1.25,1.5,2,3,5,8]\n",
    "# yticks=['0','0.25','0.5','0.75','1','1.25', '1.5', '2', '3', '5', '8']\n",
    "\n",
    "# x_values = [0,1]\n",
    "# xticks=['ABSENT','PRESENT']\n",
    "# plt.yticks(y_values,yticks)\n",
    "# plt.xticks(x_values,xticks)\n",
    "# ax.plot(dflx['LS_VALUE'], dflx['IW_INDEX']);\n",
    "\n",
    "# plt.scatter(dflx['LS_VALUE'], dflx['IW_INDEX'])\n",
    "# plt.xlabel(\"LS FOUND [1: YES, 0: NO]\")\n",
    "# plt.ylim([0, 7])\n",
    "# plt.show()"
   ]
  },
  {
   "cell_type": "code",
   "execution_count": 186,
   "metadata": {},
   "outputs": [],
   "source": [
    "# plt.plot(normalized_X)\n",
    "# plt.ylabel(\"QGIS SLOPE\")\n",
    "# plt.show()\n",
    "\n",
    "# x_array = np.array(sample_slope['QGIS_SLOPE'])\n",
    "# normalized_X = preprocessing.normalize([x_array])"
   ]
  },
  {
   "cell_type": "code",
   "execution_count": 187,
   "metadata": {},
   "outputs": [
    {
     "data": {
      "text/plain": [
       "7    1135\n",
       "3     965\n",
       "2     503\n",
       "6     294\n",
       "4      94\n",
       "5       2\n",
       "Name: LS_CLASS, dtype: int64"
      ]
     },
     "execution_count": 187,
     "metadata": {},
     "output_type": "execute_result"
    }
   ],
   "source": [
    "dflx.sort_values(by=['LS_CLASS'], ascending=True)\n",
    "dflx[dflx['LS_VALUE'] == 1]['LS_CLASS'].value_counts()\n",
    "\n",
    "# 7    1258\n",
    "# 6     171\n",
    "# 5       2\n",
    "# 4      79\n",
    "# 3     951\n",
    "# 2     532\n",
    "# 1       0\n",
    "\n",
    "# 1       0\n",
    "# 2     537\n",
    "# 3     909\n",
    "# 4     113\n",
    "# 5       5\n",
    "# 6     218\n",
    "# 7    1211\n"
   ]
  },
  {
   "cell_type": "markdown",
   "metadata": {},
   "source": [
    "<h2>Map Hazard</h2>"
   ]
  },
  {
   "cell_type": "code",
   "execution_count": null,
   "metadata": {},
   "outputs": [],
   "source": []
  },
  {
   "cell_type": "code",
   "execution_count": 188,
   "metadata": {},
   "outputs": [],
   "source": [
    "dflxp = dflx.copy()\n"
   ]
  },
  {
   "cell_type": "code",
   "execution_count": 189,
   "metadata": {},
   "outputs": [],
   "source": [
    "# Bounding Box\n",
    "lg_max_lon = 14.565927\n",
    "lg_min_lon = 13.965200\n",
    "lg_max_lat = 121.677325\n",
    "lg_min_lat = 120.882250\n",
    "\n",
    "BBox = ((lg_min_lon,lg_max_lon,lg_min_lat,lg_max_lat))"
   ]
  },
  {
   "cell_type": "code",
   "execution_count": 190,
   "metadata": {},
   "outputs": [],
   "source": [
    "def getLonLatSeries(point):\n",
    "    tup = getLatLonCoordsByPoint(point)\n",
    "    return pd.Series({\"LON\": tup[0], \"LAT\": tup[1]})\n",
    "\n",
    "def getLon(point):\n",
    "    tup = getLatLonCoordsByPoint(point)\n",
    "    return tup[0]\n",
    "\n",
    "def getLat(point):\n",
    "    tup = getLatLonCoordsByPoint(point)\n",
    "    return tup[1]\n",
    "\n",
    "\n",
    "\n",
    "colors ={7:\"#f55656\",6:\"#f57656\",5:\"#ff6a0d\",4:\"#ff9e0d\",3:\"#b4e83a\",2:\"#8de31e\",1:\"#2f54eb\"}\n",
    "def getColor(value):\n",
    "    return colors[value]"
   ]
  },
  {
   "cell_type": "code",
   "execution_count": 191,
   "metadata": {},
   "outputs": [],
   "source": [
    "ruh_m = plt.imread('Boundary.png')"
   ]
  },
  {
   "cell_type": "code",
   "execution_count": 192,
   "metadata": {},
   "outputs": [],
   "source": [
    "# dflxp['LON'] = dflxp['POINT'].apply(getLon)"
   ]
  },
  {
   "cell_type": "code",
   "execution_count": 193,
   "metadata": {},
   "outputs": [],
   "source": [
    "# dflxp['LAT'] = dflxp['POINT'].apply(getLat)"
   ]
  },
  {
   "cell_type": "code",
   "execution_count": 194,
   "metadata": {},
   "outputs": [],
   "source": [
    "dflxpcp = dflxp[['POINT']]"
   ]
  },
  {
   "cell_type": "code",
   "execution_count": 195,
   "metadata": {},
   "outputs": [
    {
     "data": {
      "text/html": [
       "<div>\n",
       "<style scoped>\n",
       "    .dataframe tbody tr th:only-of-type {\n",
       "        vertical-align: middle;\n",
       "    }\n",
       "\n",
       "    .dataframe tbody tr th {\n",
       "        vertical-align: top;\n",
       "    }\n",
       "\n",
       "    .dataframe thead th {\n",
       "        text-align: right;\n",
       "    }\n",
       "</style>\n",
       "<table border=\"1\" class=\"dataframe\">\n",
       "  <thead>\n",
       "    <tr style=\"text-align: right;\">\n",
       "      <th></th>\n",
       "      <th>POINT</th>\n",
       "    </tr>\n",
       "  </thead>\n",
       "  <tbody>\n",
       "    <tr>\n",
       "      <th>0</th>\n",
       "      <td>312775.2104342669/1544806.8868831748</td>\n",
       "    </tr>\n",
       "    <tr>\n",
       "      <th>1</th>\n",
       "      <td>312775.2104342669/1544806.8868831748</td>\n",
       "    </tr>\n",
       "    <tr>\n",
       "      <th>2</th>\n",
       "      <td>312775.2104342669/1544806.8868831748</td>\n",
       "    </tr>\n",
       "    <tr>\n",
       "      <th>3</th>\n",
       "      <td>312775.2104342669/1544806.8868831748</td>\n",
       "    </tr>\n",
       "    <tr>\n",
       "      <th>4</th>\n",
       "      <td>312617.710434453/1544811.8868829866</td>\n",
       "    </tr>\n",
       "    <tr>\n",
       "      <th>...</th>\n",
       "      <td>...</td>\n",
       "    </tr>\n",
       "    <tr>\n",
       "      <th>236424</th>\n",
       "      <td>340190.6551865188/1577770.6604887112</td>\n",
       "    </tr>\n",
       "    <tr>\n",
       "      <th>236425</th>\n",
       "      <td>341987.3821576835/1577760.4222594853</td>\n",
       "    </tr>\n",
       "    <tr>\n",
       "      <th>236426</th>\n",
       "      <td>344027.7104382346/1577811.8869083615</td>\n",
       "    </tr>\n",
       "    <tr>\n",
       "      <th>236427</th>\n",
       "      <td>340622.8030347185/1577802.4424598643</td>\n",
       "    </tr>\n",
       "    <tr>\n",
       "      <th>236428</th>\n",
       "      <td>345016.3063274803/1577784.7636218802</td>\n",
       "    </tr>\n",
       "  </tbody>\n",
       "</table>\n",
       "<p>236429 rows × 1 columns</p>\n",
       "</div>"
      ],
      "text/plain": [
       "                                       POINT\n",
       "0       312775.2104342669/1544806.8868831748\n",
       "1       312775.2104342669/1544806.8868831748\n",
       "2       312775.2104342669/1544806.8868831748\n",
       "3       312775.2104342669/1544806.8868831748\n",
       "4        312617.710434453/1544811.8868829866\n",
       "...                                      ...\n",
       "236424  340190.6551865188/1577770.6604887112\n",
       "236425  341987.3821576835/1577760.4222594853\n",
       "236426  344027.7104382346/1577811.8869083615\n",
       "236427  340622.8030347185/1577802.4424598643\n",
       "236428  345016.3063274803/1577784.7636218802\n",
       "\n",
       "[236429 rows x 1 columns]"
      ]
     },
     "execution_count": 195,
     "metadata": {},
     "output_type": "execute_result"
    }
   ],
   "source": [
    "dflxpcp"
   ]
  },
  {
   "cell_type": "code",
   "execution_count": 196,
   "metadata": {},
   "outputs": [
    {
     "name": "stderr",
     "output_type": "stream",
     "text": [
      "<ipython-input-196-811e6b9d6b3a>:1: SettingWithCopyWarning: \n",
      "A value is trying to be set on a copy of a slice from a DataFrame.\n",
      "Try using .loc[row_indexer,col_indexer] = value instead\n",
      "\n",
      "See the caveats in the documentation: http://pandas.pydata.org/pandas-docs/stable/user_guide/indexing.html#returning-a-view-versus-a-copy\n",
      "  dflxpcp['LON'] = dflxpcp['POINT'].apply(getLon)\n"
     ]
    }
   ],
   "source": [
    "dflxpcp['LON'] = dflxpcp['POINT'].apply(getLon)"
   ]
  },
  {
   "cell_type": "code",
   "execution_count": 197,
   "metadata": {},
   "outputs": [
    {
     "name": "stderr",
     "output_type": "stream",
     "text": [
      "<ipython-input-197-bdd152a906ec>:1: SettingWithCopyWarning: \n",
      "A value is trying to be set on a copy of a slice from a DataFrame.\n",
      "Try using .loc[row_indexer,col_indexer] = value instead\n",
      "\n",
      "See the caveats in the documentation: http://pandas.pydata.org/pandas-docs/stable/user_guide/indexing.html#returning-a-view-versus-a-copy\n",
      "  dflxpcp['LAT'] = dflxpcp['POINT'].apply(getLat)\n"
     ]
    }
   ],
   "source": [
    "dflxpcp['LAT'] = dflxpcp['POINT'].apply(getLat)"
   ]
  },
  {
   "cell_type": "code",
   "execution_count": 198,
   "metadata": {},
   "outputs": [],
   "source": [
    "bbdata = pd.merge(dflxpcp, dflxp, on='POINT', how='outer')"
   ]
  },
  {
   "cell_type": "code",
   "execution_count": 199,
   "metadata": {},
   "outputs": [],
   "source": [
    "# dflxp2 = dflxp.iloc[:, 236429:]"
   ]
  },
  {
   "cell_type": "code",
   "execution_count": 200,
   "metadata": {},
   "outputs": [],
   "source": [
    "# dflxp[['LON', 'LAT']] = dflxp['POINT'].apply(getLonLatSeries)\n",
    "\n"
   ]
  },
  {
   "cell_type": "code",
   "execution_count": 201,
   "metadata": {},
   "outputs": [],
   "source": [
    "dflxp['COLOR'] = dflxp['LS_CLASS'].apply(getColor)"
   ]
  },
  {
   "cell_type": "code",
   "execution_count": 202,
   "metadata": {
    "scrolled": true
   },
   "outputs": [
    {
     "ename": "KeyError",
     "evalue": "'LAT'",
     "output_type": "error",
     "traceback": [
      "\u001b[1;31m---------------------------------------------------------------------------\u001b[0m",
      "\u001b[1;31mKeyError\u001b[0m                                  Traceback (most recent call last)",
      "\u001b[1;32mc:\\program files (x86)\\python38-32\\lib\\site-packages\\pandas\\core\\indexes\\base.py\u001b[0m in \u001b[0;36mget_loc\u001b[1;34m(self, key, method, tolerance)\u001b[0m\n\u001b[0;32m   2896\u001b[0m             \u001b[1;32mtry\u001b[0m\u001b[1;33m:\u001b[0m\u001b[1;33m\u001b[0m\u001b[1;33m\u001b[0m\u001b[0m\n\u001b[1;32m-> 2897\u001b[1;33m                 \u001b[1;32mreturn\u001b[0m \u001b[0mself\u001b[0m\u001b[1;33m.\u001b[0m\u001b[0m_engine\u001b[0m\u001b[1;33m.\u001b[0m\u001b[0mget_loc\u001b[0m\u001b[1;33m(\u001b[0m\u001b[0mkey\u001b[0m\u001b[1;33m)\u001b[0m\u001b[1;33m\u001b[0m\u001b[1;33m\u001b[0m\u001b[0m\n\u001b[0m\u001b[0;32m   2898\u001b[0m             \u001b[1;32mexcept\u001b[0m \u001b[0mKeyError\u001b[0m\u001b[1;33m:\u001b[0m\u001b[1;33m\u001b[0m\u001b[1;33m\u001b[0m\u001b[0m\n",
      "\u001b[1;32mpandas/_libs/index.pyx\u001b[0m in \u001b[0;36mpandas._libs.index.IndexEngine.get_loc\u001b[1;34m()\u001b[0m\n",
      "\u001b[1;32mpandas/_libs/index.pyx\u001b[0m in \u001b[0;36mpandas._libs.index.IndexEngine.get_loc\u001b[1;34m()\u001b[0m\n",
      "\u001b[1;32mpandas/_libs/hashtable_class_helper.pxi\u001b[0m in \u001b[0;36mpandas._libs.hashtable.PyObjectHashTable.get_item\u001b[1;34m()\u001b[0m\n",
      "\u001b[1;32mpandas/_libs/hashtable_class_helper.pxi\u001b[0m in \u001b[0;36mpandas._libs.hashtable.PyObjectHashTable.get_item\u001b[1;34m()\u001b[0m\n",
      "\u001b[1;31mKeyError\u001b[0m: 'LAT'",
      "\nDuring handling of the above exception, another exception occurred:\n",
      "\u001b[1;31mKeyError\u001b[0m                                  Traceback (most recent call last)",
      "\u001b[1;32m<ipython-input-202-ffa109e38bb1>\u001b[0m in \u001b[0;36m<module>\u001b[1;34m\u001b[0m\n\u001b[0;32m      1\u001b[0m \u001b[0mfig\u001b[0m\u001b[1;33m,\u001b[0m \u001b[0max\u001b[0m \u001b[1;33m=\u001b[0m \u001b[0mplt\u001b[0m\u001b[1;33m.\u001b[0m\u001b[0msubplots\u001b[0m\u001b[1;33m(\u001b[0m\u001b[0mfigsize\u001b[0m \u001b[1;33m=\u001b[0m \u001b[1;33m(\u001b[0m\u001b[1;36m10\u001b[0m\u001b[1;33m,\u001b[0m\u001b[1;36m8\u001b[0m\u001b[1;33m)\u001b[0m\u001b[1;33m)\u001b[0m\u001b[1;33m\u001b[0m\u001b[1;33m\u001b[0m\u001b[0m\n\u001b[1;32m----> 2\u001b[1;33m \u001b[0max\u001b[0m\u001b[1;33m.\u001b[0m\u001b[0mscatter\u001b[0m\u001b[1;33m(\u001b[0m\u001b[0mdflxp\u001b[0m\u001b[1;33m[\u001b[0m\u001b[1;34m'LAT'\u001b[0m\u001b[1;33m]\u001b[0m\u001b[1;33m,\u001b[0m \u001b[0mdflxp\u001b[0m\u001b[1;33m[\u001b[0m\u001b[1;34m'LON'\u001b[0m\u001b[1;33m]\u001b[0m\u001b[1;33m,\u001b[0m \u001b[0mzorder\u001b[0m\u001b[1;33m=\u001b[0m\u001b[1;36m1\u001b[0m\u001b[1;33m,\u001b[0m \u001b[0malpha\u001b[0m\u001b[1;33m=\u001b[0m \u001b[1;36m0.2\u001b[0m\u001b[1;33m,\u001b[0m \u001b[0mc\u001b[0m\u001b[1;33m=\u001b[0m\u001b[0mdflxp\u001b[0m\u001b[1;33m[\u001b[0m\u001b[1;34m'COLOR'\u001b[0m\u001b[1;33m]\u001b[0m\u001b[1;33m,\u001b[0m \u001b[0ms\u001b[0m\u001b[1;33m=\u001b[0m\u001b[1;36m10\u001b[0m\u001b[1;33m)\u001b[0m\u001b[1;33m\u001b[0m\u001b[1;33m\u001b[0m\u001b[0m\n\u001b[0m\u001b[0;32m      3\u001b[0m \u001b[0max\u001b[0m\u001b[1;33m.\u001b[0m\u001b[0mset_title\u001b[0m\u001b[1;33m(\u001b[0m\u001b[1;34m'Plotting Hazard Classification on Laguna Map'\u001b[0m\u001b[1;33m)\u001b[0m\u001b[1;33m\u001b[0m\u001b[1;33m\u001b[0m\u001b[0m\n\u001b[0;32m      4\u001b[0m \u001b[0max\u001b[0m\u001b[1;33m.\u001b[0m\u001b[0mset_xlim\u001b[0m\u001b[1;33m(\u001b[0m\u001b[0mBBox\u001b[0m\u001b[1;33m[\u001b[0m\u001b[1;36m2\u001b[0m\u001b[1;33m]\u001b[0m\u001b[1;33m,\u001b[0m\u001b[0mBBox\u001b[0m\u001b[1;33m[\u001b[0m\u001b[1;36m3\u001b[0m\u001b[1;33m]\u001b[0m\u001b[1;33m)\u001b[0m\u001b[1;33m\u001b[0m\u001b[1;33m\u001b[0m\u001b[0m\n\u001b[0;32m      5\u001b[0m \u001b[0max\u001b[0m\u001b[1;33m.\u001b[0m\u001b[0mset_ylim\u001b[0m\u001b[1;33m(\u001b[0m\u001b[0mBBox\u001b[0m\u001b[1;33m[\u001b[0m\u001b[1;36m0\u001b[0m\u001b[1;33m]\u001b[0m\u001b[1;33m,\u001b[0m\u001b[0mBBox\u001b[0m\u001b[1;33m[\u001b[0m\u001b[1;36m1\u001b[0m\u001b[1;33m]\u001b[0m\u001b[1;33m)\u001b[0m\u001b[1;33m\u001b[0m\u001b[1;33m\u001b[0m\u001b[0m\n",
      "\u001b[1;32mc:\\program files (x86)\\python38-32\\lib\\site-packages\\pandas\\core\\frame.py\u001b[0m in \u001b[0;36m__getitem__\u001b[1;34m(self, key)\u001b[0m\n\u001b[0;32m   2993\u001b[0m             \u001b[1;32mif\u001b[0m \u001b[0mself\u001b[0m\u001b[1;33m.\u001b[0m\u001b[0mcolumns\u001b[0m\u001b[1;33m.\u001b[0m\u001b[0mnlevels\u001b[0m \u001b[1;33m>\u001b[0m \u001b[1;36m1\u001b[0m\u001b[1;33m:\u001b[0m\u001b[1;33m\u001b[0m\u001b[1;33m\u001b[0m\u001b[0m\n\u001b[0;32m   2994\u001b[0m                 \u001b[1;32mreturn\u001b[0m \u001b[0mself\u001b[0m\u001b[1;33m.\u001b[0m\u001b[0m_getitem_multilevel\u001b[0m\u001b[1;33m(\u001b[0m\u001b[0mkey\u001b[0m\u001b[1;33m)\u001b[0m\u001b[1;33m\u001b[0m\u001b[1;33m\u001b[0m\u001b[0m\n\u001b[1;32m-> 2995\u001b[1;33m             \u001b[0mindexer\u001b[0m \u001b[1;33m=\u001b[0m \u001b[0mself\u001b[0m\u001b[1;33m.\u001b[0m\u001b[0mcolumns\u001b[0m\u001b[1;33m.\u001b[0m\u001b[0mget_loc\u001b[0m\u001b[1;33m(\u001b[0m\u001b[0mkey\u001b[0m\u001b[1;33m)\u001b[0m\u001b[1;33m\u001b[0m\u001b[1;33m\u001b[0m\u001b[0m\n\u001b[0m\u001b[0;32m   2996\u001b[0m             \u001b[1;32mif\u001b[0m \u001b[0mis_integer\u001b[0m\u001b[1;33m(\u001b[0m\u001b[0mindexer\u001b[0m\u001b[1;33m)\u001b[0m\u001b[1;33m:\u001b[0m\u001b[1;33m\u001b[0m\u001b[1;33m\u001b[0m\u001b[0m\n\u001b[0;32m   2997\u001b[0m                 \u001b[0mindexer\u001b[0m \u001b[1;33m=\u001b[0m \u001b[1;33m[\u001b[0m\u001b[0mindexer\u001b[0m\u001b[1;33m]\u001b[0m\u001b[1;33m\u001b[0m\u001b[1;33m\u001b[0m\u001b[0m\n",
      "\u001b[1;32mc:\\program files (x86)\\python38-32\\lib\\site-packages\\pandas\\core\\indexes\\base.py\u001b[0m in \u001b[0;36mget_loc\u001b[1;34m(self, key, method, tolerance)\u001b[0m\n\u001b[0;32m   2897\u001b[0m                 \u001b[1;32mreturn\u001b[0m \u001b[0mself\u001b[0m\u001b[1;33m.\u001b[0m\u001b[0m_engine\u001b[0m\u001b[1;33m.\u001b[0m\u001b[0mget_loc\u001b[0m\u001b[1;33m(\u001b[0m\u001b[0mkey\u001b[0m\u001b[1;33m)\u001b[0m\u001b[1;33m\u001b[0m\u001b[1;33m\u001b[0m\u001b[0m\n\u001b[0;32m   2898\u001b[0m             \u001b[1;32mexcept\u001b[0m \u001b[0mKeyError\u001b[0m\u001b[1;33m:\u001b[0m\u001b[1;33m\u001b[0m\u001b[1;33m\u001b[0m\u001b[0m\n\u001b[1;32m-> 2899\u001b[1;33m                 \u001b[1;32mreturn\u001b[0m \u001b[0mself\u001b[0m\u001b[1;33m.\u001b[0m\u001b[0m_engine\u001b[0m\u001b[1;33m.\u001b[0m\u001b[0mget_loc\u001b[0m\u001b[1;33m(\u001b[0m\u001b[0mself\u001b[0m\u001b[1;33m.\u001b[0m\u001b[0m_maybe_cast_indexer\u001b[0m\u001b[1;33m(\u001b[0m\u001b[0mkey\u001b[0m\u001b[1;33m)\u001b[0m\u001b[1;33m)\u001b[0m\u001b[1;33m\u001b[0m\u001b[1;33m\u001b[0m\u001b[0m\n\u001b[0m\u001b[0;32m   2900\u001b[0m         \u001b[0mindexer\u001b[0m \u001b[1;33m=\u001b[0m \u001b[0mself\u001b[0m\u001b[1;33m.\u001b[0m\u001b[0mget_indexer\u001b[0m\u001b[1;33m(\u001b[0m\u001b[1;33m[\u001b[0m\u001b[0mkey\u001b[0m\u001b[1;33m]\u001b[0m\u001b[1;33m,\u001b[0m \u001b[0mmethod\u001b[0m\u001b[1;33m=\u001b[0m\u001b[0mmethod\u001b[0m\u001b[1;33m,\u001b[0m \u001b[0mtolerance\u001b[0m\u001b[1;33m=\u001b[0m\u001b[0mtolerance\u001b[0m\u001b[1;33m)\u001b[0m\u001b[1;33m\u001b[0m\u001b[1;33m\u001b[0m\u001b[0m\n\u001b[0;32m   2901\u001b[0m         \u001b[1;32mif\u001b[0m \u001b[0mindexer\u001b[0m\u001b[1;33m.\u001b[0m\u001b[0mndim\u001b[0m \u001b[1;33m>\u001b[0m \u001b[1;36m1\u001b[0m \u001b[1;32mor\u001b[0m \u001b[0mindexer\u001b[0m\u001b[1;33m.\u001b[0m\u001b[0msize\u001b[0m \u001b[1;33m>\u001b[0m \u001b[1;36m1\u001b[0m\u001b[1;33m:\u001b[0m\u001b[1;33m\u001b[0m\u001b[1;33m\u001b[0m\u001b[0m\n",
      "\u001b[1;32mpandas/_libs/index.pyx\u001b[0m in \u001b[0;36mpandas._libs.index.IndexEngine.get_loc\u001b[1;34m()\u001b[0m\n",
      "\u001b[1;32mpandas/_libs/index.pyx\u001b[0m in \u001b[0;36mpandas._libs.index.IndexEngine.get_loc\u001b[1;34m()\u001b[0m\n",
      "\u001b[1;32mpandas/_libs/hashtable_class_helper.pxi\u001b[0m in \u001b[0;36mpandas._libs.hashtable.PyObjectHashTable.get_item\u001b[1;34m()\u001b[0m\n",
      "\u001b[1;32mpandas/_libs/hashtable_class_helper.pxi\u001b[0m in \u001b[0;36mpandas._libs.hashtable.PyObjectHashTable.get_item\u001b[1;34m()\u001b[0m\n",
      "\u001b[1;31mKeyError\u001b[0m: 'LAT'"
     ]
    },
    {
     "data": {
      "image/png": "[encoded data removed]",
      "text/plain": [
       "<Figure size 720x576 with 1 Axes>"
      ]
     },
     "metadata": {
      "needs_background": "light"
     },
     "output_type": "display_data"
    }
   ],
   "source": [
    "fig, ax = plt.subplots(figsize = (10,8))\n",
    "ax.scatter(dflxp['LAT'], dflxp['LON'], zorder=1, alpha= 0.2, c=dflxp['COLOR'], s=10)\n",
    "ax.set_title('Plotting Hazard Classification on Laguna Map')\n",
    "ax.set_xlim(BBox[2],BBox[3])\n",
    "ax.set_ylim(BBox[0],BBox[1])\n",
    "ax.imshow(ruh_m, zorder=0, extent = BBox, aspect= 'equal')\n",
    "# plt.savefig('D:\\\\CS190App\\\\web-app\\\\hazard-map\\\\src\\\\images\\\\base_class.png')"
   ]
  },
  {
   "cell_type": "markdown",
   "metadata": {},
   "source": [
    "<h2>Weather and Rainfall Generator</h2>"
   ]
  },
  {
   "cell_type": "code",
   "execution_count": null,
   "metadata": {},
   "outputs": [],
   "source": [
    "import random"
   ]
  },
  {
   "cell_type": "code",
   "execution_count": null,
   "metadata": {},
   "outputs": [],
   "source": [
    "def isInBound(bb):\n",
    "    if( bb.ix <= p.x and p.x <= bb.ax and bb.iy <= p.y and p.y <= bb.ay ):\n",
    "#          Point is in bounding box\n",
    "        return True\n",
    "    "
   ]
  },
  {
   "cell_type": "code",
   "execution_count": null,
   "metadata": {},
   "outputs": [],
   "source": [
    "w_matrix = [[1, 1, 1, 2, 3, 3, 3, 2, 1, 1],\n",
    "            [1, 2, 2, 2, 4, 4, 4, 3, 3, 2],\n",
    "            [2, 3, 5, 5, 5, 4, 4, 3, 2, 2],\n",
    "            [3, 4, 5, 5, 5, 4, 4, 3, 3, 3],\n",
    "            [2, 4, 5, 5, 5, 3, 2, 2, 3, 3],\n",
    "            [1, 3, 5, 5, 1, 2, 2, 2, 3, 3],\n",
    "            [1, 2, 1, 2, 2, 2, 3, 3, 3, 3],\n",
    "            [1, 1, 2, 3, 3, 3, 3, 3, 2, 2],\n",
    "            [1, 2, 3, 4, 4, 4, 3, 3, 3, 2],\n",
    "            [1, 1, 3, 4, 4, 4, 3, 3, 3, 2]]\n",
    "\n",
    "rand_w_matrix = []\n",
    "\n",
    "def compareMin(a, b):\n",
    "    if(a < b):\n",
    "        return int(a)\n",
    "    else:\n",
    "        return int(b)\n",
    "        \n",
    "def compareMax(a, b):\n",
    "    if(a > b):\n",
    "        return int(a)\n",
    "    else:\n",
    "        return int(b)\n",
    "\n",
    "def getBoundary(r, c, deg, prev=1, level=1):\n",
    "    bound = {'min':level, 'max':level}\n",
    "    bound['min'] = level\n",
    "    bound['max'] = level\n",
    "    coords = [[r,c-1], [r-1,c-1], [r-1, c], [r-1, c+1]]\n",
    "    if(r == 0 and c == 0):\n",
    "        bound['max'] = 5\n",
    "        return bound\n",
    "    \n",
    "    for rc in coords:\n",
    "#         print(\"rc: \" + str(rc[0]) + ',' + str(rc[1]))\n",
    "        if(rc[0] >= 0):\n",
    "            if (rc[0] == r and rc[1] == c-1):\n",
    "                bound['min'] = compareMin(bound['min'], prev)\n",
    "                bound['max'] = compareMax(bound['max'], prev)\n",
    "            elif(rc[1] >= 0):\n",
    "                if(rc[1] > deg-1):\n",
    "                    return bound\n",
    "                bound['min'] = compareMin(bound['min'], rand_w_matrix[rc[0]][rc[1]])\n",
    "                bound['max'] = compareMax(bound['max'], rand_w_matrix[rc[0]][rc[1]])\n",
    "    return bound           \n",
    "\n",
    "        \n",
    "def randomizeWMatrix(deg, level):\n",
    "    for r in range(deg):\n",
    "        row = []\n",
    "        for c in range(deg):\n",
    "            prev = level\n",
    "            if(c > 0):\n",
    "                prev = row[c-1]\n",
    "            bound = getBoundary(r, c, deg, prev, level)\n",
    "            random_weather = random.randint(bound['min'], bound['max'])\n",
    "            row.append(random_weather)\n",
    "        rand_w_matrix.append(row)\n",
    "            \n",
    "# LL 13.992474, 120.882250\n",
    "# TR 14.561454, 121.677325\n",
    "# TL 14.561454, 120.882250\n",
    "# LR 13.992474, 121.677325\n",
    "\n",
    "# print(((14.561454 - 13.992474)/2) + 13.992474)\n",
    "# print(((121.677325 - 120.882250)/2) + 120.882250)"
   ]
  },
  {
   "cell_type": "code",
   "execution_count": null,
   "metadata": {},
   "outputs": [],
   "source": [
    "rand_w_matrix = []\n",
    "randomizeWMatrix(20, 3)\n",
    "rand_w_matrix"
   ]
  },
  {
   "cell_type": "markdown",
   "metadata": {},
   "source": [
    "<h2>Get Weather Quadrant</h2>"
   ]
  },
  {
   "cell_type": "code",
   "execution_count": null,
   "metadata": {},
   "outputs": [],
   "source": [
    "lg_max_lon = 14.565927\n",
    "lg_min_lon = 13.965200\n",
    "lg_max_lat = 121.677325\n",
    "lg_min_lat = 120.882250\n",
    "\n",
    "dist_lon = 14.565927 - 13.965200\n",
    "dist_lat = 121.677325 - 120.882250\n",
    "\n",
    "quadrants = 10\n",
    "\n",
    "denom_lon = dist_lon/quadrants\n",
    "denom_lat = dist_lat/quadrants\n",
    "\n",
    "def getQuadrant(lon, lat):\n",
    "    norm_lon = lon - lg_min_lon\n",
    "    q_lon = int(norm_lon/denom_lon)\n",
    "    norm_lat = lat - lg_min_lat\n",
    "    q_lat = int(norm_lat/denom_lat)\n",
    "    return (q_lon, q_lat)\n",
    "\n",
    "def getWeather(lon, lat, matrix):\n",
    "    quad = getQuadrant(lon, lat)\n",
    "    return matrix[quad[0]][quad[1]]"
   ]
  },
  {
   "cell_type": "code",
   "execution_count": null,
   "metadata": {},
   "outputs": [],
   "source": [
    "# 285417.4602417005, 1544775.6368829422\n",
    "# 348873.4731547999, 1610781.94250232\n",
    "\n",
    "# getLatLonCoords(348873.4731547999, 1610781.94250232)"
   ]
  },
  {
   "cell_type": "code",
   "execution_count": null,
   "metadata": {},
   "outputs": [],
   "source": []
  },
  {
   "cell_type": "code",
   "execution_count": null,
   "metadata": {},
   "outputs": [],
   "source": [
    "# plt.plot(sample_slope[\"SLOPE_CODE\"], sample[\"ELEVATION_1\"])\n",
    "# plt.xlabel(\"SLOPE CODE\")\n",
    "# plt.ylabel(\"ELEVATION\")\n",
    "# plt.show()"
   ]
  },
  {
   "cell_type": "markdown",
   "metadata": {},
   "source": [
    "<h2>Add Mock Weather Data to dataset</h2>"
   ]
  },
  {
   "cell_type": "code",
   "execution_count": null,
   "metadata": {},
   "outputs": [],
   "source": [
    "def getWeatherUsingPoint(point):\n",
    "    lonlat = getLatLonCoordsByPoint(str(point))\n",
    "#     print(lonlat)\n",
    "#     getQuadrant(lonlat[0], lonlat[1])\n",
    "    return getWeather(lonlat[0], lonlat[1], w_matrix)"
   ]
  },
  {
   "cell_type": "code",
   "execution_count": null,
   "metadata": {},
   "outputs": [],
   "source": [
    "dflx.to_csv(r'base_hazard_dataset.csv',index = None, header=True)\n",
    "applied_weather = dflxp.copy()\n",
    "applied_weather['WEATHER'] = applied_weather['POINT'].apply(getWeatherUsingPoint)"
   ]
  },
  {
   "cell_type": "code",
   "execution_count": null,
   "metadata": {},
   "outputs": [],
   "source": [
    "# applied_weather.to_csv(r'data_set_with_mock_weather.csv',index = None, header=True)\n",
    "stop!"
   ]
  },
  {
   "cell_type": "markdown",
   "metadata": {},
   "source": [
    "<h4>Add Rainfall weight index</h4>"
   ]
  },
  {
   "cell_type": "code",
   "execution_count": null,
   "metadata": {},
   "outputs": [],
   "source": [
    "applied_weather['WEATHER'].unique()"
   ]
  },
  {
   "cell_type": "code",
   "execution_count": null,
   "metadata": {},
   "outputs": [],
   "source": [
    "FRR"
   ]
  },
  {
   "cell_type": "code",
   "execution_count": null,
   "metadata": {},
   "outputs": [],
   "source": [
    "weights[9]"
   ]
  },
  {
   "cell_type": "code",
   "execution_count": null,
   "metadata": {},
   "outputs": [],
   "source": [
    "def adjustIwi(iwi, weather):\n",
    "    return iwi + (FRR[(weather/5)] * weights[9])"
   ]
  },
  {
   "cell_type": "code",
   "execution_count": null,
   "metadata": {},
   "outputs": [],
   "source": []
  },
  {
   "cell_type": "code",
   "execution_count": null,
   "metadata": {},
   "outputs": [],
   "source": [
    "applied_weather['ADJ_INDEX'] = applied_weather.apply(lambda row: adjustIwi(row['IW_INDEX'], row['WEATHER']), axis = 1)"
   ]
  },
  {
   "cell_type": "code",
   "execution_count": null,
   "metadata": {},
   "outputs": [],
   "source": [
    "applied_weather['ADJ_LS_CLASS'] = applied_weather['ADJ_INDEX'].apply(getLsClass)"
   ]
  },
  {
   "cell_type": "code",
   "execution_count": null,
   "metadata": {},
   "outputs": [],
   "source": [
    "applied_weather['ADJ_COLOR'] = applied_weather['ADJ_LS_CLASS'].apply(getColor)"
   ]
  },
  {
   "cell_type": "code",
   "execution_count": null,
   "metadata": {},
   "outputs": [],
   "source": [
    "fig, ax = plt.subplots(figsize = (10,8))\n",
    "ax.scatter(applied_weather['LAT'], applied_weather['LON'], zorder=1, alpha= 0.2, c=applied_weather['ADJ_COLOR'], s=10, marker=\"s\")\n",
    "ax.set_title('Weather Impacted Hazard Classification on Laguna Map')\n",
    "ax.set_xlim(BBox[2],BBox[3])\n",
    "ax.set_ylim(BBox[0],BBox[1])\n",
    "ax.imshow(ruh_m, zorder=0, extent = BBox, aspect= 'equal')\n",
    "# plt.savefig('D:\\\\CS190App\\\\web-app\\\\hazard-map\\\\src\\\\images\\\\adjusted_class.png')"
   ]
  },
  {
   "cell_type": "code",
   "execution_count": null,
   "metadata": {},
   "outputs": [],
   "source": [
    "fig, ax = plt.subplots(figsize = (10,8))\n",
    "ax.scatter(dflxp['LAT'], dflxp['LON'], zorder=1, alpha= 0.2, c=dflxp['COLOR'], s=10)\n",
    "ax.set_title('Original Hazard Classification on Laguna Map')\n",
    "ax.set_xlim(BBox[2],BBox[3])\n",
    "ax.set_ylim(BBox[0],BBox[1])\n",
    "ax.imshow(ruh_m, zorder=0, extent = BBox, aspect= 'equal')"
   ]
  },
  {
   "cell_type": "markdown",
   "metadata": {},
   "source": []
  },
  {
   "cell_type": "code",
   "execution_count": null,
   "metadata": {},
   "outputs": [],
   "source": [
    "from PIL import Image\n",
    "import os\n",
    "\n",
    "def transpy(file_src, file_dest):\n",
    "    img = Image.open(file_src)\n",
    "    img = img.convert(\"RGBA\")\n",
    "    datas = img.getdata()\n",
    "\n",
    "    newData = []\n",
    "    for item in datas:\n",
    "        if item[0] == 255 and item[1] == 255 and item[2] == 255:\n",
    "            newData.append((255, 255, 255, 0))\n",
    "        else:\n",
    "            newData.append(item)\n",
    "\n",
    "    img.putdata(newData)\n",
    "    img.save(file_dest, \"PNG\")"
   ]
  },
  {
   "cell_type": "code",
   "execution_count": null,
   "metadata": {},
   "outputs": [],
   "source": [
    "file_dest = os.path.join('D:\\\\CS190App\\\\web-app\\\\hazard-map\\\\src\\\\images', 'base_class.png')\n",
    "file_src = \"base_class.png\"\n",
    "transpy(file_src, file_dest)"
   ]
  },
  {
   "cell_type": "code",
   "execution_count": null,
   "metadata": {},
   "outputs": [],
   "source": [
    "file_dest = os.path.join('D:\\\\CS190App\\\\web-app\\\\hazard-map\\\\src\\\\images', 'adjusted_class.png')\n",
    "file_src = \"adjusted_class.png\"\n",
    "transpy(file_src, file_dest)"
   ]
  },
  {
   "cell_type": "code",
   "execution_count": null,
   "metadata": {},
   "outputs": [],
   "source": []
  },
  {
   "cell_type": "markdown",
   "metadata": {},
   "source": [
    "<h1>Application of SVR and other Machine Learning Models</h1>"
   ]
  },
  {
   "cell_type": "markdown",
   "metadata": {},
   "source": [
    "<h2>Application of ML Models without feature scaling</h2>"
   ]
  },
  {
   "cell_type": "markdown",
   "metadata": {},
   "source": [
    "<h5>Feature Selection</h5>"
   ]
  },
  {
   "cell_type": "code",
   "execution_count": null,
   "metadata": {},
   "outputs": [],
   "source": [
    "stop"
   ]
  },
  {
   "cell_type": "code",
   "execution_count": null,
   "metadata": {},
   "outputs": [],
   "source": [
    "ml_set = applied_weather.copy()\n",
    "# ml_set = ml_set.drop(columns=[\"ADJ_INDEX\", \"EQ_HZ_RATING\", \"RF_HZ_RATING\", \"LS_VALUE\", \"POINT\", \"WEATHER\"])\n",
    "ml_set = ml_set.drop(columns=[\"ADJ_INDEX\",\"ADJ_LS_CLASS\", \"ADJ_COLOR\", \"COLOR\", \"EQ_HZ_RATING\", \"RF_HZ_RATING\", \"LS_VALUE\", \"POINT\", \"WEATHER\", \"IW_INDEX\", \"LON\", \"LAT\"])"
   ]
  },
  {
   "cell_type": "code",
   "execution_count": null,
   "metadata": {},
   "outputs": [],
   "source": [
    "# ml_set\n",
    "print(ml_set['LS_CLASS'].max())\n",
    "print(ml_set['LS_CLASS'].min())"
   ]
  },
  {
   "cell_type": "code",
   "execution_count": 3,
   "metadata": {
    "scrolled": true
   },
   "outputs": [],
   "source": [
    "from sklearn.model_selection import train_test_split\n",
    "from sklearn.model_selection import train_test_split\n",
    "\n",
    "from sklearn.svm import SVR\n",
    "from sklearn.svm import SVC\n",
    "from sklearn.neighbors import KNeighborsClassifier\n",
    "\n",
    "from joblib import dump, load\n",
    "\n",
    "from sklearn.preprocessing import StandardScaler\n",
    "\n",
    "from sklearn.metrics import r2_score\n",
    "from sklearn.metrics import classification_report, confusion_matrix\n",
    "\n",
    "from matplotlib import cm\n",
    "from matplotlib import pyplot\n",
    "# from matplotlib.mlab import griddata\n",
    "# from mpl_toolkits.mplot3d import Axes3D\n",
    "# from mlxtend.plotting import plot_decision_regions"
   ]
  },
  {
   "cell_type": "code",
   "execution_count": null,
   "metadata": {},
   "outputs": [],
   "source": [
    "# svrs = [svr_rbf, svr_lin, svr_poly]\n",
    "# kernel_label = ['RBF', 'Linear', 'Polynomial']\n",
    "# model_color = ['m', 'c', 'g']\n",
    "# feature_set.iloc[:,1:12].values\n",
    "# feature_set.iloc[:,12].values"
   ]
  },
  {
   "cell_type": "code",
   "execution_count": null,
   "metadata": {},
   "outputs": [],
   "source": [
    "# plt.scatter(land_use_cover[\"COVER\"],land_use_cover[\"USE\"])\n"
   ]
  },
  {
   "cell_type": "markdown",
   "metadata": {},
   "source": [
    "<h4>Support Vector Regression</h4>"
   ]
  },
  {
   "cell_type": "code",
   "execution_count": null,
   "metadata": {},
   "outputs": [],
   "source": [
    "# regressor = SVR(kernel='rbf', C=100, gamma=0.1, epsilon=.1)\n",
    "# regressor = SVR(kernel='linear', C=100, gamma='auto')\n",
    "# regressor = SVR(kernel='poly', C=100, gamma='auto', degree=8, epsilon=.1,\n",
    "#                coef0=1)"
   ]
  },
  {
   "cell_type": "code",
   "execution_count": null,
   "metadata": {},
   "outputs": [],
   "source": [
    "# xtrain,xtest,ytrain,ytest=train_test_split(ml_set.iloc[:,0:8].values,ml_set.iloc[:,9].values)\n",
    "# regressor=SVR(kernel='poly',degree=8)\n",
    "\n",
    "# regressor.fit(xtrain,ytrain)"
   ]
  },
  {
   "cell_type": "code",
   "execution_count": null,
   "metadata": {},
   "outputs": [],
   "source": []
  },
  {
   "cell_type": "markdown",
   "metadata": {},
   "source": [
    "<h4>Support Vector Classification</h4>"
   ]
  },
  {
   "cell_type": "code",
   "execution_count": null,
   "metadata": {},
   "outputs": [],
   "source": []
  },
  {
   "cell_type": "code",
   "execution_count": null,
   "metadata": {},
   "outputs": [],
   "source": [
    "# regressor = SVC(kernel='rbf', C=100, gamma=0.1, epsilon=.1)\n",
    "# regressor = SVC(kernel='linear', C=100, gamma='auto')\n",
    "# regressor = SVC(kernel='poly', C=100, gamma='auto', degree=8, epsilon=.1,\n",
    "#                coef0=1)"
   ]
  },
  {
   "cell_type": "code",
   "execution_count": null,
   "metadata": {},
   "outputs": [],
   "source": []
  },
  {
   "cell_type": "code",
   "execution_count": null,
   "metadata": {},
   "outputs": [],
   "source": []
  },
  {
   "cell_type": "code",
   "execution_count": null,
   "metadata": {},
   "outputs": [],
   "source": []
  },
  {
   "cell_type": "code",
   "execution_count": null,
   "metadata": {},
   "outputs": [],
   "source": []
  },
  {
   "cell_type": "markdown",
   "metadata": {},
   "source": [
    "<h4>Split data Train - Test</h4>"
   ]
  },
  {
   "cell_type": "code",
   "execution_count": null,
   "metadata": {},
   "outputs": [],
   "source": [
    "xtrain,xtest,ytrain,ytest=train_test_split(ml_set.iloc[:,0:8].values,ml_set.iloc[:,9].values, test_size=0.20)\n",
    "# regressor.fit(xtrain,ytrain)"
   ]
  },
  {
   "cell_type": "code",
   "execution_count": null,
   "metadata": {},
   "outputs": [],
   "source": [
    "# dump(regressor, 'SVR_poly8_IwI.joblib') \n",
    "# regressor = load('SVR_linear.joblib') \n",
    "# regressor = load('SVR_rbf.joblib')\n",
    "# regressor = load('SVR_rbf_IwI.joblib')"
   ]
  },
  {
   "cell_type": "code",
   "execution_count": null,
   "metadata": {},
   "outputs": [],
   "source": [
    "# pred=regressor.predict(xtest)"
   ]
  },
  {
   "cell_type": "code",
   "execution_count": null,
   "metadata": {},
   "outputs": [],
   "source": []
  },
  {
   "cell_type": "code",
   "execution_count": null,
   "metadata": {},
   "outputs": [],
   "source": [
    "print(regressor.score(xtest,ytest))\n",
    "print(r2_score(ytest,pred))\n",
    "\n"
   ]
  },
  {
   "cell_type": "code",
   "execution_count": null,
   "metadata": {},
   "outputs": [],
   "source": [
    "\n",
    "# 0.13041458786072635 - linear\n",
    "# 0.3190365149153779 - rbf"
   ]
  },
  {
   "cell_type": "code",
   "execution_count": null,
   "metadata": {},
   "outputs": [],
   "source": []
  },
  {
   "cell_type": "code",
   "execution_count": null,
   "metadata": {},
   "outputs": [],
   "source": [
    "# Plot Decision Region using mlxtend's awesome plotting function\n",
    "# plot_decision_regions(X=X.values, \n",
    "#                       y=y.values,\n",
    "#                       clf=clf, \n",
    "#                       legend=2)\n",
    "\n",
    "# Update plot object with X/Y axis labels and Figure Title\n",
    "# plt.xlabel(X.columns[0], size=14)\n",
    "# plt.ylabel(X.columns[1], size=14)\n",
    "# plt.title('SVM Decision Region Boundary', size=16)"
   ]
  },
  {
   "cell_type": "markdown",
   "metadata": {},
   "source": [
    "<h2>Machine Learning Models with Feature Scaling</h2>"
   ]
  },
  {
   "cell_type": "code",
   "execution_count": null,
   "metadata": {},
   "outputs": [],
   "source": [
    "ml_set = applied_weather.copy()\n",
    "ml_set = ml_set.drop(columns=[\"ADJ_INDEX\",\"ADJ_LS_CLASS\", \"ADJ_COLOR\", \"COLOR\", \"EQ_HZ_RATING\", \"RF_HZ_RATING\", \"LS_VALUE\", \"POINT\", \"WEATHER\", \"IW_INDEX\", \"LON\", \"LAT\"])\n",
    "ml_set.shape\n",
    "ml_set.columns"
   ]
  },
  {
   "cell_type": "code",
   "execution_count": null,
   "metadata": {},
   "outputs": [],
   "source": [
    "#feature scaling\n",
    "S = ml_set.iloc[:,0:8].values\n",
    "t = ml_set.iloc[:,9].values\n",
    "\n",
    "sc_S = StandardScaler()\n",
    "sc_t = StandardScaler()\n",
    "t = t.reshape(-1, 1)\n",
    "S2 = sc_S.fit_transform(S)\n",
    "t2 = sc_t.fit_transform(t)"
   ]
  },
  {
   "cell_type": "code",
   "execution_count": null,
   "metadata": {},
   "outputs": [],
   "source": [
    "xtrain,xtest,ytrain,ytest=train_test_split(S2,t2)"
   ]
  },
  {
   "cell_type": "markdown",
   "metadata": {},
   "source": [
    "<h4>Support Vector Regression</h4>"
   ]
  },
  {
   "cell_type": "code",
   "execution_count": null,
   "metadata": {},
   "outputs": [],
   "source": [
    "#regressor = SVR(kernel='rbf', C=100, gamma=0.1, epsilon=.1)\n",
    "# regressor = SVR(kernel='linear', C=100, gamma='auto')\n",
    "# regressor = SVR(kernel='poly', C=100, gamma='auto', degree=8, epsilon=.1,\n",
    "#                coef0=1)\n",
    "#regressor.fit(xtrain, ytrain)\n",
    "# pred=regressor.predict(xtest)"
   ]
  },
  {
   "cell_type": "code",
   "execution_count": null,
   "metadata": {},
   "outputs": [],
   "source": []
  },
  {
   "cell_type": "code",
   "execution_count": 4,
   "metadata": {},
   "outputs": [],
   "source": [
    "#SLOPE, FAULT_DISTANCE, TRI_VAL, SOIL_INTEGRITY\n",
    "dftrain = pd.read_csv(\"REGR_data_set_ADJ_LS.csv\")"
   ]
  },
  {
   "cell_type": "code",
   "execution_count": 5,
   "metadata": {},
   "outputs": [
    {
     "data": {
      "text/html": [
       "<div>\n",
       "<style scoped>\n",
       "    .dataframe tbody tr th:only-of-type {\n",
       "        vertical-align: middle;\n",
       "    }\n",
       "\n",
       "    .dataframe tbody tr th {\n",
       "        vertical-align: top;\n",
       "    }\n",
       "\n",
       "    .dataframe thead th {\n",
       "        text-align: right;\n",
       "    }\n",
       "</style>\n",
       "<table border=\"1\" class=\"dataframe\">\n",
       "  <thead>\n",
       "    <tr style=\"text-align: right;\">\n",
       "      <th></th>\n",
       "      <th>SLOPE_VAL</th>\n",
       "      <th>TRI_VAL</th>\n",
       "      <th>SOIL_INTEGRITY</th>\n",
       "      <th>FAULT_DISTANCE</th>\n",
       "      <th>RAINFALL</th>\n",
       "      <th>ADJ_LS_CLASS</th>\n",
       "    </tr>\n",
       "  </thead>\n",
       "  <tbody>\n",
       "    <tr>\n",
       "      <th>0</th>\n",
       "      <td>0.08</td>\n",
       "      <td>0.55</td>\n",
       "      <td>0.7200</td>\n",
       "      <td>0.2551</td>\n",
       "      <td>3</td>\n",
       "      <td>2</td>\n",
       "    </tr>\n",
       "    <tr>\n",
       "      <th>1</th>\n",
       "      <td>0.08</td>\n",
       "      <td>0.55</td>\n",
       "      <td>0.7200</td>\n",
       "      <td>0.2551</td>\n",
       "      <td>3</td>\n",
       "      <td>2</td>\n",
       "    </tr>\n",
       "    <tr>\n",
       "      <th>2</th>\n",
       "      <td>0.08</td>\n",
       "      <td>0.55</td>\n",
       "      <td>0.7200</td>\n",
       "      <td>0.2551</td>\n",
       "      <td>3</td>\n",
       "      <td>2</td>\n",
       "    </tr>\n",
       "    <tr>\n",
       "      <th>3</th>\n",
       "      <td>0.08</td>\n",
       "      <td>0.55</td>\n",
       "      <td>0.7200</td>\n",
       "      <td>0.2551</td>\n",
       "      <td>3</td>\n",
       "      <td>2</td>\n",
       "    </tr>\n",
       "    <tr>\n",
       "      <th>4</th>\n",
       "      <td>0.08</td>\n",
       "      <td>0.55</td>\n",
       "      <td>0.7200</td>\n",
       "      <td>0.2551</td>\n",
       "      <td>3</td>\n",
       "      <td>2</td>\n",
       "    </tr>\n",
       "    <tr>\n",
       "      <th>...</th>\n",
       "      <td>...</td>\n",
       "      <td>...</td>\n",
       "      <td>...</td>\n",
       "      <td>...</td>\n",
       "      <td>...</td>\n",
       "      <td>...</td>\n",
       "    </tr>\n",
       "    <tr>\n",
       "      <th>236424</th>\n",
       "      <td>1.00</td>\n",
       "      <td>0.50</td>\n",
       "      <td>0.5688</td>\n",
       "      <td>0.0850</td>\n",
       "      <td>3</td>\n",
       "      <td>4</td>\n",
       "    </tr>\n",
       "    <tr>\n",
       "      <th>236425</th>\n",
       "      <td>1.00</td>\n",
       "      <td>0.50</td>\n",
       "      <td>1.0000</td>\n",
       "      <td>0.0850</td>\n",
       "      <td>3</td>\n",
       "      <td>4</td>\n",
       "    </tr>\n",
       "    <tr>\n",
       "      <th>236426</th>\n",
       "      <td>1.00</td>\n",
       "      <td>0.50</td>\n",
       "      <td>0.5688</td>\n",
       "      <td>0.0850</td>\n",
       "      <td>3</td>\n",
       "      <td>4</td>\n",
       "    </tr>\n",
       "    <tr>\n",
       "      <th>236427</th>\n",
       "      <td>1.00</td>\n",
       "      <td>0.55</td>\n",
       "      <td>1.0000</td>\n",
       "      <td>0.0850</td>\n",
       "      <td>3</td>\n",
       "      <td>4</td>\n",
       "    </tr>\n",
       "    <tr>\n",
       "      <th>236428</th>\n",
       "      <td>1.00</td>\n",
       "      <td>0.45</td>\n",
       "      <td>1.0000</td>\n",
       "      <td>0.0850</td>\n",
       "      <td>3</td>\n",
       "      <td>4</td>\n",
       "    </tr>\n",
       "  </tbody>\n",
       "</table>\n",
       "<p>236429 rows × 6 columns</p>\n",
       "</div>"
      ],
      "text/plain": [
       "        SLOPE_VAL  TRI_VAL  SOIL_INTEGRITY  FAULT_DISTANCE  RAINFALL  \\\n",
       "0            0.08     0.55          0.7200          0.2551         3   \n",
       "1            0.08     0.55          0.7200          0.2551         3   \n",
       "2            0.08     0.55          0.7200          0.2551         3   \n",
       "3            0.08     0.55          0.7200          0.2551         3   \n",
       "4            0.08     0.55          0.7200          0.2551         3   \n",
       "...           ...      ...             ...             ...       ...   \n",
       "236424       1.00     0.50          0.5688          0.0850         3   \n",
       "236425       1.00     0.50          1.0000          0.0850         3   \n",
       "236426       1.00     0.50          0.5688          0.0850         3   \n",
       "236427       1.00     0.55          1.0000          0.0850         3   \n",
       "236428       1.00     0.45          1.0000          0.0850         3   \n",
       "\n",
       "        ADJ_LS_CLASS  \n",
       "0                  2  \n",
       "1                  2  \n",
       "2                  2  \n",
       "3                  2  \n",
       "4                  2  \n",
       "...              ...  \n",
       "236424             4  \n",
       "236425             4  \n",
       "236426             4  \n",
       "236427             4  \n",
       "236428             4  \n",
       "\n",
       "[236429 rows x 6 columns]"
      ]
     },
     "execution_count": 5,
     "metadata": {},
     "output_type": "execute_result"
    }
   ],
   "source": [
    "dftrain"
   ]
  },
  {
   "cell_type": "code",
   "execution_count": 6,
   "metadata": {},
   "outputs": [],
   "source": [
    "# dftrain_1 = dftrain[dftrain['ADJ_LS_CLASS'] == 1]\n",
    "# dftrain_2 = dftrain[dftrain['ADJ_LS_CLASS'] == 2]\n",
    "# dftrain_3 = dftrain[dftrain['ADJ_LS_CLASS'] == 3]\n",
    "# dftrain_4 = dftrain[dftrain['ADJ_LS_CLASS'] == 4]\n",
    "# dftrain_5 = dftrain[dftrain['ADJ_LS_CLASS'] == 5]\n",
    "# dftrain_6 = dftrain[dftrain['ADJ_LS_CLASS'] == 6]\n",
    "# dftrain_7 = dftrain[dftrain['ADJ_LS_CLASS'] == 7]\n",
    "\n",
    "# 1099\n",
    "# 123767\n",
    "# 90209\n",
    "# 6274\n",
    "# 1833\n",
    "# 3758\n",
    "# 9489\n",
    "# dftrain_1 = dftrain_1.sort_values(by=['SLOPE_VAL'], ascending=False)\n",
    "# dftrain_2 = dftrain_2.sort_values(by=['SLOPE_VAL'], ascending=False)\n",
    "# dftrain_3 = dftrain_3.sort_values(by=['SLOPE_VAL'], ascending=False)\n",
    "# dftrain_4 = dftrain_4.sort_values(by=['SLOPE_VAL'], ascending=False)\n",
    "# dftrain_5 = dftrain_5.sort_values(by=['SLOPE_VAL'], ascending=False)\n",
    "# dftrain_6 = dftrain_6.sort_values(by=['SLOPE_VAL'], ascending=False)\n",
    "# dftrain_7 = dftrain_7.sort_values(by=['SLOPE_VAL'], ascending=False)"
   ]
  },
  {
   "cell_type": "code",
   "execution_count": 8,
   "metadata": {},
   "outputs": [],
   "source": [
    "# dftrain_7t = dftrain_7[:int(len(dftrain_7)/3)]\n",
    "# dftrain_6t = dftrain_6[:int(len(dftrain_6)/3)]\n",
    "# dftrain_5t = dftrain_5[:int(len(dftrain_5)/3)]\n",
    "# dftrain_4t = dftrain_4[:int(len(dftrain_4)/3)]\n",
    "# dftrain_3t = dftrain_3[:int(len(dftrain_3)/3)]\n",
    "# dftrain_2t = dftrain_2[:int(len(dftrain_2)/3)]\n",
    "# dftrain_1t = dftrain_1[:int(len(dftrain_1)/3)]"
   ]
  },
  {
   "cell_type": "code",
   "execution_count": 333,
   "metadata": {},
   "outputs": [],
   "source": [
    "# dftrain_7t = dftrain_7[:int(9489/3)]\n",
    "# dftrain_6t = dftrain_6[:int(3758/3)]\n",
    "# dftrain_5t = dftrain_5[:int(1833/3)]\n",
    "# dftrain_4t = dftrain_4[:int(6274/3)]\n",
    "# dftrain_3t = dftrain_3[:int(90209/3)]\n",
    "# dftrain_2t = dftrain_2[:int(123767/3)]\n",
    "# dftrain_1t = dftrain_1[:int(1099/3)]"
   ]
  },
  {
   "cell_type": "code",
   "execution_count": 9,
   "metadata": {},
   "outputs": [],
   "source": [
    "# dftrain_f = pd.concat([dftrain_7t, dftrain_6t, dftrain_5t, dftrain_4t, dftrain_3t, dftrain_2t, dftrain_1t])"
   ]
  },
  {
   "cell_type": "code",
   "execution_count": 10,
   "metadata": {},
   "outputs": [
    {
     "data": {
      "text/html": [
       "<div>\n",
       "<style scoped>\n",
       "    .dataframe tbody tr th:only-of-type {\n",
       "        vertical-align: middle;\n",
       "    }\n",
       "\n",
       "    .dataframe tbody tr th {\n",
       "        vertical-align: top;\n",
       "    }\n",
       "\n",
       "    .dataframe thead th {\n",
       "        text-align: right;\n",
       "    }\n",
       "</style>\n",
       "<table border=\"1\" class=\"dataframe\">\n",
       "  <thead>\n",
       "    <tr style=\"text-align: right;\">\n",
       "      <th></th>\n",
       "      <th>SLOPE_VAL</th>\n",
       "      <th>TRI_VAL</th>\n",
       "      <th>SOIL_INTEGRITY</th>\n",
       "      <th>FAULT_DISTANCE</th>\n",
       "      <th>RAINFALL</th>\n",
       "      <th>ADJ_LS_CLASS</th>\n",
       "    </tr>\n",
       "  </thead>\n",
       "  <tbody>\n",
       "    <tr>\n",
       "      <th>3239</th>\n",
       "      <td>0.08</td>\n",
       "      <td>0.50</td>\n",
       "      <td>0.4740</td>\n",
       "      <td>0.1700</td>\n",
       "      <td>3</td>\n",
       "      <td>7</td>\n",
       "    </tr>\n",
       "    <tr>\n",
       "      <th>3242</th>\n",
       "      <td>0.08</td>\n",
       "      <td>0.60</td>\n",
       "      <td>0.4740</td>\n",
       "      <td>0.1700</td>\n",
       "      <td>3</td>\n",
       "      <td>7</td>\n",
       "    </tr>\n",
       "    <tr>\n",
       "      <th>3243</th>\n",
       "      <td>0.08</td>\n",
       "      <td>0.50</td>\n",
       "      <td>0.4740</td>\n",
       "      <td>0.1700</td>\n",
       "      <td>3</td>\n",
       "      <td>7</td>\n",
       "    </tr>\n",
       "    <tr>\n",
       "      <th>3244</th>\n",
       "      <td>0.08</td>\n",
       "      <td>0.50</td>\n",
       "      <td>0.4740</td>\n",
       "      <td>0.1700</td>\n",
       "      <td>3</td>\n",
       "      <td>7</td>\n",
       "    </tr>\n",
       "    <tr>\n",
       "      <th>3245</th>\n",
       "      <td>0.08</td>\n",
       "      <td>0.50</td>\n",
       "      <td>0.4740</td>\n",
       "      <td>0.1700</td>\n",
       "      <td>3</td>\n",
       "      <td>7</td>\n",
       "    </tr>\n",
       "    <tr>\n",
       "      <th>...</th>\n",
       "      <td>...</td>\n",
       "      <td>...</td>\n",
       "      <td>...</td>\n",
       "      <td>...</td>\n",
       "      <td>...</td>\n",
       "      <td>...</td>\n",
       "    </tr>\n",
       "    <tr>\n",
       "      <th>74899</th>\n",
       "      <td>0.08</td>\n",
       "      <td>0.65</td>\n",
       "      <td>0.7200</td>\n",
       "      <td>0.2551</td>\n",
       "      <td>3</td>\n",
       "      <td>1</td>\n",
       "    </tr>\n",
       "    <tr>\n",
       "      <th>75508</th>\n",
       "      <td>0.08</td>\n",
       "      <td>0.60</td>\n",
       "      <td>0.5688</td>\n",
       "      <td>0.2551</td>\n",
       "      <td>3</td>\n",
       "      <td>1</td>\n",
       "    </tr>\n",
       "    <tr>\n",
       "      <th>75932</th>\n",
       "      <td>0.08</td>\n",
       "      <td>0.60</td>\n",
       "      <td>0.7200</td>\n",
       "      <td>0.2551</td>\n",
       "      <td>3</td>\n",
       "      <td>1</td>\n",
       "    </tr>\n",
       "    <tr>\n",
       "      <th>76022</th>\n",
       "      <td>0.08</td>\n",
       "      <td>0.45</td>\n",
       "      <td>0.7200</td>\n",
       "      <td>0.2551</td>\n",
       "      <td>3</td>\n",
       "      <td>1</td>\n",
       "    </tr>\n",
       "    <tr>\n",
       "      <th>76031</th>\n",
       "      <td>0.08</td>\n",
       "      <td>0.55</td>\n",
       "      <td>0.7200</td>\n",
       "      <td>0.2551</td>\n",
       "      <td>3</td>\n",
       "      <td>1</td>\n",
       "    </tr>\n",
       "  </tbody>\n",
       "</table>\n",
       "<p>78807 rows × 6 columns</p>\n",
       "</div>"
      ],
      "text/plain": [
       "       SLOPE_VAL  TRI_VAL  SOIL_INTEGRITY  FAULT_DISTANCE  RAINFALL  \\\n",
       "3239        0.08     0.50          0.4740          0.1700         3   \n",
       "3242        0.08     0.60          0.4740          0.1700         3   \n",
       "3243        0.08     0.50          0.4740          0.1700         3   \n",
       "3244        0.08     0.50          0.4740          0.1700         3   \n",
       "3245        0.08     0.50          0.4740          0.1700         3   \n",
       "...          ...      ...             ...             ...       ...   \n",
       "74899       0.08     0.65          0.7200          0.2551         3   \n",
       "75508       0.08     0.60          0.5688          0.2551         3   \n",
       "75932       0.08     0.60          0.7200          0.2551         3   \n",
       "76022       0.08     0.45          0.7200          0.2551         3   \n",
       "76031       0.08     0.55          0.7200          0.2551         3   \n",
       "\n",
       "       ADJ_LS_CLASS  \n",
       "3239              7  \n",
       "3242              7  \n",
       "3243              7  \n",
       "3244              7  \n",
       "3245              7  \n",
       "...             ...  \n",
       "74899             1  \n",
       "75508             1  \n",
       "75932             1  \n",
       "76022             1  \n",
       "76031             1  \n",
       "\n",
       "[78807 rows x 6 columns]"
      ]
     },
     "execution_count": 10,
     "metadata": {},
     "output_type": "execute_result"
    }
   ],
   "source": [
    "dftrain_f = dftrain"
   ]
  },
  {
   "cell_type": "code",
   "execution_count": 262,
   "metadata": {},
   "outputs": [
    {
     "data": {
      "text/plain": [
       "<matplotlib.axes._subplots.AxesSubplot at 0x37855bf8>"
      ]
     },
     "execution_count": 262,
     "metadata": {},
     "output_type": "execute_result"
    },
    {
     "data": {
      "image/png": "[encoded data removed]",
      "text/plain": [
       "<Figure size 432x288 with 1 Axes>"
      ]
     },
     "metadata": {
      "needs_background": "light"
     },
     "output_type": "display_data"
    }
   ],
   "source": [
    "import seaborn as sns\n",
    "sns.boxplot(x=dftrain_f['SLOPE_VAL'])\n",
    "\n",
    "\n",
    "sns.boxplot(x=dftrain_f['TRI_VAL'])\n",
    "\n",
    "sns.boxplot(x=dftrain_f['FAULT_DISTANCE'])\n",
    "\n",
    "sns.boxplot(x=dftrain_f['SOIL_INTEGRITY'])"
   ]
  },
  {
   "cell_type": "code",
   "execution_count": 258,
   "metadata": {},
   "outputs": [
    {
     "data": {
      "text/plain": [
       "5611"
      ]
     },
     "execution_count": 258,
     "metadata": {},
     "output_type": "execute_result"
    }
   ],
   "source": [
    "len(dftrain_f[dftrain_f['SLOPE_VAL'] == 1.0])"
   ]
  },
  {
   "cell_type": "code",
   "execution_count": 264,
   "metadata": {},
   "outputs": [
    {
     "data": {
      "image/png": "[encoded data removed]",
      "text/plain": [
       "<Figure size 1152x576 with 1 Axes>"
      ]
     },
     "metadata": {
      "needs_background": "light"
     },
     "output_type": "display_data"
    }
   ],
   "source": [
    "fig, ax = plt.subplots(figsize=(16,8))\n",
    "ax.scatter(dftrain_f['SLOPE_VAL'], dftrain_f['TRI_VAL'])\n",
    "ax.set_xlabel('SLOPE')\n",
    "ax.set_ylabel('TRI')\n",
    "plt.show()"
   ]
  },
  {
   "cell_type": "code",
   "execution_count": 11,
   "metadata": {},
   "outputs": [],
   "source": [
    "from sklearn.model_selection import StratifiedShuffleSplit\n",
    "from sklearn.model_selection import GridSearchCV\n",
    "\n",
    "# Dataset for decision function visualization: we only keep the four highest weighted features\n",
    "\n",
    "# data_set_ls = dftrain[dftrain['LS_CLASS'] == 1]\n",
    "# data_set_non_ls = dftrain[dftrain['LS_CLASS'] == 0]\n",
    "# ls_train, ls_test = train_test_split(data_set_ls, test_size=0.1)\n",
    "# non_ls_train, non_ls_test = train_test_split(data_set_non_ls, test_size=0.5)\n",
    "# # print(type(non_ls_train))\n",
    "\n",
    "# data_set_train = pd.concat([ls_train, non_ls_train])\n",
    "# data_set_test = pd.concat([ls_test, non_ls_test])\n",
    "\n",
    "# S = dftrain_f.iloc[:,0:5].values\n",
    "# t = dftrain_f.iloc[:,5].values\n",
    "\n",
    "sc_S = StandardScaler()\n",
    "sc_t = StandardScaler()\n",
    "t = t.reshape(-1, 1)\n",
    "Sf = sc_S.fit_transform(S)\n",
    "tf = sc_t.fit_transform(t)\n",
    "\n",
    "xtrain,xtest,ytrain,ytest=train_test_split(Sf,tf, test_size=0.2)\n",
    "\n"
   ]
  },
  {
   "cell_type": "code",
   "execution_count": 42,
   "metadata": {
    "scrolled": true
   },
   "outputs": [
    {
     "data": {
      "text/plain": [
       "array([[7],\n",
       "       [7],\n",
       "       [7],\n",
       "       ...,\n",
       "       [1],\n",
       "       [1],\n",
       "       [1]], dtype=int64)"
      ]
     },
     "execution_count": 42,
     "metadata": {},
     "output_type": "execute_result"
    }
   ],
   "source": []
  },
  {
   "cell_type": "code",
   "execution_count": 31,
   "metadata": {
    "scrolled": true
   },
   "outputs": [
    {
     "name": "stderr",
     "output_type": "stream",
     "text": [
      "c:\\program files (x86)\\python38-32\\lib\\site-packages\\sklearn\\utils\\validation.py:724: DataConversionWarning: A column-vector y was passed when a 1d array was expected. Please change the shape of y to (n_samples, ), for example using ravel().\n",
      "  y = column_or_1d(y, warn=True)\n",
      "c:\\program files (x86)\\python38-32\\lib\\site-packages\\sklearn\\svm\\base.py:189: FutureWarning: The default value of gamma will change from 'auto' to 'scale' in version 0.22 to account better for unscaled features. Set gamma explicitly to 'auto' or 'scale' to avoid this warning.\n",
      "  warnings.warn(\"The default value of gamma will change \"\n"
     ]
    },
    {
     "data": {
      "text/plain": [
       "SVR(C=1.0, cache_size=200, coef0=0.0, degree=3, epsilon=0.1,\n",
       "    gamma='auto_deprecated', kernel='poly', max_iter=-1, shrinking=True,\n",
       "    tol=0.001, verbose=False)"
      ]
     },
     "execution_count": 31,
     "metadata": {},
     "output_type": "execute_result"
    }
   ],
   "source": [
    "regressor = SVR(kernel='rbf', C=5, gamma=2)\n",
    "# regressor = SVR(kernel='linear', C=5, gamma=2)\n",
    "# regressor = SVR(kernel='poly')\n",
    "regressor.fit(xtrain, ytrain)\n",
    "# "
   ]
  },
  {
   "cell_type": "code",
   "execution_count": 33,
   "metadata": {},
   "outputs": [],
   "source": [
    "pred=regressor.predict(xtest)"
   ]
  },
  {
   "cell_type": "code",
   "execution_count": null,
   "metadata": {},
   "outputs": [],
   "source": [
    "# #############################################################################\n",
    "# Train classifiers\n",
    "#\n",
    "# For an initial search, a logarithmic grid with basis\n",
    "# 10 is often helpful. Using a basis of 2, a finer\n",
    "# tuning can be achieved but at a much higher cost.\n",
    "\n",
    "C_range = np.logspace(-2, 10, 13)\n",
    "gamma_range = np.logspace(-9, 3, 13)\n",
    "param_grid = dict(gamma=gamma_range, C=C_range)\n",
    "cv = StratifiedShuffleSplit(n_splits=5, test_size=0.2, random_state=42)\n",
    "grid = GridSearchCV(SVR(), param_grid=param_grid, cv=cv)\n",
    "grid.fit(xtrain, ytrain)\n",
    "\n",
    "print(\"The best parameters are %s with a score of %0.2f\"\n",
    "      % (grid.best_params_, grid.best_score_))\n",
    "\n",
    "# Now we need to fit a classifier for all parameters\n",
    "# (we use a smaller set of parameters here because it takes a while to train)\n",
    "\n",
    "# C_range = [1e-2, 1, 1e2]\n",
    "# gamma_range = [1e-1, 1, 1e1]\n",
    "# classifiers = []\n",
    "# for C in C_range:\n",
    "#     for gamma in gamma_range:\n",
    "#         clf = SVR(C=C, gamma=gamma)\n",
    "#         clf.fit(X_2d, y_2d)\n",
    "#         classifiers.append((C, gamma, clf))"
   ]
  },
  {
   "cell_type": "code",
   "execution_count": 32,
   "metadata": {},
   "outputs": [
    {
     "data": {
      "text/plain": [
       "['SVR_Poly_ADJLSClass_c5_g2.joblib']"
      ]
     },
     "execution_count": 32,
     "metadata": {},
     "output_type": "execute_result"
    }
   ],
   "source": [
    "#  Save regressor \n",
    "dump(regressor, 'SVR_Poly_ADJLSClass_c5_g2.joblib') \n",
    "# regressor = load('SVR_RBF_SL.joblib') \n",
    "# regressor = load('SVR_rbf.joblib')\n",
    "# regressor = load('SVR_rbf_IwI.joblib')"
   ]
  },
  {
   "cell_type": "code",
   "execution_count": 346,
   "metadata": {},
   "outputs": [],
   "source": [
    "# 1.00\t0.55\t0.4740\t0.0850\n",
    "# 1.00\t0.45\t0.4740\t0.0850\t\n",
    "datat = []\n",
    "datat.append(1)\n",
    "datat.append(.55)\n",
    "datat.append(.4740)\n",
    "datat.append(.0850)\n",
    "\n",
    "p = regressor.predict([datat])"
   ]
  },
  {
   "cell_type": "code",
   "execution_count": 347,
   "metadata": {},
   "outputs": [
    {
     "data": {
      "text/plain": [
       "array([0.2248296])"
      ]
     },
     "execution_count": 347,
     "metadata": {},
     "output_type": "execute_result"
    }
   ],
   "source": [
    "p"
   ]
  },
  {
   "cell_type": "code",
   "execution_count": 34,
   "metadata": {},
   "outputs": [
    {
     "name": "stdout",
     "output_type": "stream",
     "text": [
      "0.024348375628397978\n"
     ]
    }
   ],
   "source": [
    "# Get score\n",
    "# print(regressor.score(xtest,ytest))\n",
    "print(r2_score(ytest,pred))\n",
    "\n",
    "#LINEAR SVR \n",
    "# 0.015501448637387782\n",
    "# 0.015501448637387782\n",
    "\n",
    "#RBF Default\n",
    "# 0.2517057861516355\n",
    "# 0.2517057861516355\n",
    "\n",
    "# RBF C=10, gamma=0.2\n",
    "# 0.2061082462452205\n",
    "# 0.2061082462452205\n",
    "\n",
    "# Linear on Subset\n",
    "# 0.12146709478678519\n",
    "# 0.12146709478678519\n",
    "\n",
    "# RBF on subset data \n",
    "# 0.44496264923823187\n",
    "# 0.4449626492382319\n",
    "\n",
    "# RBF on subset C=50 g=.01\n",
    "# 0.41673774796422913\n",
    "# 0.41673774796422913\n",
    "\n",
    "# Poly on subset C=100 g=.01\n",
    "# 0.18496454237383242\n",
    "# 0.18496454237383242\n",
    "\n",
    "# Linear on subset\n",
    "# 0.12532850952778307\n",
    "# 0.12532850952778307\n",
    "\n",
    "# Linear on subset c5 g=2\n",
    "# 0.11727703873994744\n",
    "# mse : 0.8942140616346018\n",
    "\n",
    "# RBF on subset C=20 g=0.5\n",
    "# 0.8650295764605098\n",
    "# 0.8650295764605099\n",
    "\n",
    "#RBF on subset C=15 g=0.6\n",
    "# 0.8740960524168291\n",
    "\n",
    "#RBF on subset C=12 g=0.7\n",
    "# 0.879198464033671\n",
    "\n",
    "#RBF on subset C=11 g=0.8\n",
    "# 0.8829209225174915\n",
    "\n",
    "#RBF on subset C=10 g=1\n",
    "# 0.8860550479590958\n",
    "# \n",
    "\n",
    "#RBF on subset C=5 g=2\n",
    "# 0.8893117181792022 , 0.8911731980857237\n",
    "# mse 0.11276123979457596, 0.10908438800656467\n",
    "\n",
    "#RBF on subset C=3 g=2.5\n",
    "#0.8895663287291665\n",
    "\n",
    "#RBF on subset C=5 g=2\n",
    "# 0.889623421012516\n",
    "# mse = 0.10914003924139482\n",
    "\n",
    "# RBF on subset C=2 g=.5\n",
    "# 0.7758808052397302\n",
    "\n",
    "# RBF on subset C=1 g=.1\n",
    "# 0.32354066538522375"
   ]
  },
  {
   "cell_type": "code",
   "execution_count": 35,
   "metadata": {},
   "outputs": [
    {
     "data": {
      "text/plain": [
       "0.9647214793812524"
      ]
     },
     "execution_count": 35,
     "metadata": {},
     "output_type": "execute_result"
    }
   ],
   "source": [
    "from sklearn.metrics import mean_squared_error\n",
    "\n",
    "mean_squared_error(pred, ytest)"
   ]
  },
  {
   "cell_type": "markdown",
   "metadata": {},
   "source": [
    "<h4>Support Vector Classification</h4>"
   ]
  },
  {
   "cell_type": "code",
   "execution_count": null,
   "metadata": {},
   "outputs": [],
   "source": [
    "# regressor = SVC(kernel='rbf')\n",
    "# regressor = SVC(kernel='linear', C=100, gamma='auto')\n",
    "# regressor = SVC(kernel='poly', C=100, gamma='auto', degree=8, epsilon=.1,\n",
    "#                coef0=1)"
   ]
  },
  {
   "cell_type": "code",
   "execution_count": null,
   "metadata": {},
   "outputs": [],
   "source": [
    "regressor.fit(xtrain, ytrain)"
   ]
  },
  {
   "cell_type": "code",
   "execution_count": null,
   "metadata": {},
   "outputs": [],
   "source": [
    "# pred=regressor.predict(xtest)"
   ]
  },
  {
   "cell_type": "code",
   "execution_count": null,
   "metadata": {},
   "outputs": [],
   "source": [
    "#  Save regressor \n",
    "# dump(regressor, 'SVR_poly8_IwI.joblib') \n",
    "# regressor = load('SVR_linear.joblib') \n",
    "# regressor = load('SVR_rbf.joblib')\n",
    "# regressor = load('SVR_rbf_IwI.joblib')"
   ]
  },
  {
   "cell_type": "code",
   "execution_count": null,
   "metadata": {},
   "outputs": [],
   "source": [
    "# Get score\n",
    "print(regressor.score(xtest,ytest))\n",
    "print(r2_score(ytest,pred))"
   ]
  },
  {
   "cell_type": "markdown",
   "metadata": {},
   "source": [
    "<h3>KNN Classification</h3>"
   ]
  },
  {
   "cell_type": "code",
   "execution_count": null,
   "metadata": {},
   "outputs": [],
   "source": [
    "classifier = KNeighborsClassifier(n_neighbors=5)\n",
    "# classifier.fit(xtrain, ytrain)"
   ]
  },
  {
   "cell_type": "code",
   "execution_count": null,
   "metadata": {},
   "outputs": [],
   "source": [
    "# pred = classifier.predict(xtest)"
   ]
  },
  {
   "cell_type": "code",
   "execution_count": null,
   "metadata": {},
   "outputs": [],
   "source": [
    "#calculate score\n",
    "# print(confusion_matrix(ytest, pred))\n",
    "# print(classification_report(ytest, pred))"
   ]
  },
  {
   "cell_type": "code",
   "execution_count": null,
   "metadata": {},
   "outputs": [],
   "source": []
  },
  {
   "cell_type": "code",
   "execution_count": null,
   "metadata": {},
   "outputs": [],
   "source": []
  },
  {
   "cell_type": "code",
   "execution_count": null,
   "metadata": {},
   "outputs": [],
   "source": [
    "# regressor.fit(S2, t2.values.ravel())\n",
    "xtrain,xtest,ytrain,ytest=train_test_split(S2,t2)\n",
    "# regressor.fit(xtrain, ytrain)"
   ]
  },
  {
   "cell_type": "code",
   "execution_count": null,
   "metadata": {},
   "outputs": [],
   "source": [
    "#graph\n",
    "# x = S[:, 0]\n",
    "# y = S[:, 1]\n",
    "# z = t\n",
    "# zp = sc_t.inverse_transform(regressor.predict(sc_S.transform(S))) #the predictions\n",
    "\n",
    "# xi = np.linspace(min(x), max(x))\n",
    "# yi = np.linspace(min(y), max(y))\n",
    "# X, Y = np.meshgrid(xi, yi)\n",
    "# ZP = griddata(x, y, zp, xi, yi)\n",
    "\n",
    "# fig = pyplot.figure()\n",
    "# ax = Axes3D(fig)\n",
    "# surf = ax.plot_surface(X, Y, ZP, rstride=1, cstride=1, facecolors=cm.jet(ZP/3200), linewidth=0, antialiased=True)\n",
    "# ax.scatter(x, y, z)\n",
    "# ax.set_zlim3d(np.min(z), np.max(z))\n",
    "# colorscale = cm.ScalarMappable(cmap=cm.jet)\n",
    "# colorscale.set_array(z)\n",
    "# fig.colorbar(colorscale)\n",
    "# pyplot.show()"
   ]
  },
  {
   "cell_type": "code",
   "execution_count": null,
   "metadata": {},
   "outputs": [],
   "source": [
    "# from sklearn.metrics import r2_score\n",
    "\n",
    "\n",
    "# print(r2_score(ytest,pred))\n",
    "# regressor=SVR(kernel=’rbf’,epsilon=1.0)\n",
    "# regressor.fit(xtrain,ytrain)\n",
    "# pred=regressor.predict(xtest)\n",
    "# print(regressor.score(xtest,ytest))\n",
    "# print(r2_score(ytest,pred))"
   ]
  },
  {
   "cell_type": "code",
   "execution_count": null,
   "metadata": {},
   "outputs": [],
   "source": []
  },
  {
   "cell_type": "code",
   "execution_count": null,
   "metadata": {},
   "outputs": [],
   "source": []
  },
  {
   "cell_type": "code",
   "execution_count": null,
   "metadata": {},
   "outputs": [],
   "source": []
  },
  {
   "cell_type": "code",
   "execution_count": null,
   "metadata": {},
   "outputs": [],
   "source": []
  },
  {
   "cell_type": "code",
   "execution_count": null,
   "metadata": {},
   "outputs": [],
   "source": []
  },
  {
   "cell_type": "code",
   "execution_count": null,
   "metadata": {},
   "outputs": [],
   "source": []
  }
 ],
 "metadata": {
  "kernelspec": {
   "display_name": "Python 3",
   "language": "python",
   "name": "python3"
  },
  "language_info": {
   "codemirror_mode": {
    "name": "ipython",
    "version": 3
   },
   "file_extension": ".py",
   "mimetype": "text/x-python",
   "name": "python",
   "nbconvert_exporter": "python",
   "pygments_lexer": "ipython3",
   "version": "3.8.0"
  }
 },
 "nbformat": 4,
 "nbformat_minor": 2
}
